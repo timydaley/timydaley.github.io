{
 "cells": [
  {
   "cell_type": "markdown",
   "id": "029667c9-5d70-4e4f-84cd-a9294c691bd4",
   "metadata": {},
   "source": [
    "Notebook instance: Python3 (Pytorch 1.2 Python 3.8 GPU optimized)"
   ]
  },
  {
   "cell_type": "code",
   "execution_count": 2,
   "id": "b35a0cd3-b0d1-4044-9ec5-16189dfff7c6",
   "metadata": {
    "tags": []
   },
   "outputs": [
    {
     "name": "stdout",
     "output_type": "stream",
     "text": [
      "Requirement already satisfied: pip in /opt/conda/lib/python3.8/site-packages (22.2.2)\n",
      "Collecting pip\n",
      "  Using cached pip-22.3.1-py3-none-any.whl (2.1 MB)\n",
      "Installing collected packages: pip\n",
      "  Attempting uninstall: pip\n",
      "    Found existing installation: pip 22.2.2\n",
      "    Uninstalling pip-22.2.2:\n",
      "      Successfully uninstalled pip-22.2.2\n",
      "Successfully installed pip-22.3.1\n",
      "\u001b[33mWARNING: Running pip as the 'root' user can result in broken permissions and conflicting behaviour with the system package manager. It is recommended to use a virtual environment instead: https://pip.pypa.io/warnings/venv\u001b[0m\u001b[33m\n",
      "\u001b[0mCollecting GPUtil\n",
      "  Using cached GPUtil-1.4.0-py3-none-any.whl\n",
      "Installing collected packages: GPUtil\n",
      "Successfully installed GPUtil-1.4.0\n",
      "\u001b[33mWARNING: Running pip as the 'root' user can result in broken permissions and conflicting behaviour with the system package manager. It is recommended to use a virtual environment instead: https://pip.pypa.io/warnings/venv\u001b[0m\u001b[33m\n",
      "\u001b[0m"
     ]
    }
   ],
   "source": [
    "!pip install --upgrade pip\n",
    "!pip install GPUtil"
   ]
  },
  {
   "cell_type": "code",
   "execution_count": 3,
   "id": "57d21131-c368-480d-9e89-6889ca4cd9b8",
   "metadata": {
    "tags": []
   },
   "outputs": [
    {
     "name": "stderr",
     "output_type": "stream",
     "text": [
      "/opt/conda/lib/python3.8/site-packages/tqdm/auto.py:22: TqdmWarning: IProgress not found. Please update jupyter and ipywidgets. See https://ipywidgets.readthedocs.io/en/stable/user_install.html\n",
      "  from .autonotebook import tqdm as notebook_tqdm\n"
     ]
    }
   ],
   "source": [
    "import os, sys, math\n",
    "import pandas as pd\n",
    "import numpy as np\n",
    "import pickle\n",
    "import time\n",
    "import random\n",
    "import seaborn\n",
    "import matplotlib.pyplot as plt\n",
    "\n",
    "import torch\n",
    "import gc\n",
    "\n",
    "from GPUtil import showUtilization as gpu_usage\n",
    "from numba import cuda   \n",
    "\n",
    "from sklearn.preprocessing import OneHotEncoder"
   ]
  },
  {
   "cell_type": "code",
   "execution_count": 4,
   "id": "a9c8032d-3851-464f-abcf-69433e41d3f1",
   "metadata": {
    "tags": []
   },
   "outputs": [
    {
     "name": "stdout",
     "output_type": "stream",
     "text": [
      "Initial GPU Usage\n",
      "| ID | GPU | MEM |\n",
      "------------------\n",
      "|  0 |  0% |  0% |\n",
      "GPU Usage after emptying the cache\n",
      "| ID | GPU | MEM |\n",
      "------------------\n",
      "|  0 |  1% |  1% |\n"
     ]
    }
   ],
   "source": [
    "def free_gpu_cache():\n",
    "    print(\"Initial GPU Usage\")\n",
    "    gpu_usage()                             \n",
    "\n",
    "    gc.collect()\n",
    "    torch.cuda.empty_cache()\n",
    "\n",
    "    cuda.select_device(0)\n",
    "    cuda.close()\n",
    "    cuda.select_device(0)\n",
    "\n",
    "    print(\"GPU Usage after emptying the cache\")\n",
    "    gpu_usage()\n",
    "    \n",
    "free_gpu_cache()"
   ]
  },
  {
   "cell_type": "code",
   "execution_count": 5,
   "id": "80ae71fc-16f6-4f5c-ad6e-1ed22b061adf",
   "metadata": {},
   "outputs": [
    {
     "data": {
      "text/plain": [
       "20"
      ]
     },
     "execution_count": 5,
     "metadata": {},
     "output_type": "execute_result"
    }
   ],
   "source": [
    "# peptide alphabet, taken from https://www.cup.uni-muenchen.de/ch/compchem/tink/as.html\n",
    "pep_alphabet = ['A', 'R', 'N', 'D', 'C', 'E', 'Q', 'G', 'H', 'I', \n",
    "                'L', 'K', 'M', 'F', 'P', 'S', 'T', 'W', 'Y', 'V']\n",
    "#length should be 20\n",
    "len(pep_alphabet)"
   ]
  },
  {
   "cell_type": "code",
   "execution_count": 6,
   "id": "685d8e35-132e-4cfd-8f21-52a15f59262b",
   "metadata": {
    "tags": []
   },
   "outputs": [
    {
     "name": "stdout",
     "output_type": "stream",
     "text": [
      "FAIKQHYFEKDFHWEVWEKNTFYTECQNQLLAPLATFAAEYEIDFDYEMGTVLRGDSQWEHYFTCREIACGKWLEMLARRPNMEAKQTDSVRASLVFWQK\n"
     ]
    },
    {
     "data": {
      "text/plain": [
       "100"
      ]
     },
     "execution_count": 6,
     "metadata": {},
     "output_type": "execute_result"
    }
   ],
   "source": [
    "# Define starting peptide, just random\n",
    "random.seed(12345)\n",
    "pep_len = 100\n",
    "orig_pep = []\n",
    "for i in range(pep_len):\n",
    "    orig_pep.append(random.choice(pep_alphabet))\n",
    "orig_pep = ''.join(orig_pep)\n",
    "print(orig_pep)\n",
    "len(orig_pep)"
   ]
  },
  {
   "cell_type": "code",
   "execution_count": 7,
   "id": "d4ab895c-9cc5-4509-9015-f52553ed3b40",
   "metadata": {},
   "outputs": [
    {
     "data": {
      "text/plain": [
       "1900"
      ]
     },
     "execution_count": 7,
     "metadata": {},
     "output_type": "execute_result"
    }
   ],
   "source": [
    "def generate_ssm_lib(orig_pep, pep_alphabet):\n",
    "    ssm_lib = []\n",
    "    for i in range(len(orig_pep)):\n",
    "        for p in pep_alphabet:\n",
    "            # generate new peptide with i'th replaced with new letter\n",
    "            new_pep = ''.join(orig_pep[:i] + p + orig_pep[(i+1):])\n",
    "            # only append different peptides\n",
    "            if new_pep != orig_pep:\n",
    "                ssm_lib.append(new_pep)\n",
    "    return ssm_lib\n",
    "\n",
    "ssm_lib = generate_ssm_lib(orig_pep, pep_alphabet)\n",
    "len(ssm_lib)"
   ]
  },
  {
   "cell_type": "code",
   "execution_count": 8,
   "id": "745a808a-a2a6-448d-996c-0bf2eede588c",
   "metadata": {
    "tags": []
   },
   "outputs": [
    {
     "name": "stdout",
     "output_type": "stream",
     "text": [
      "Collecting fairscale\n",
      "  Using cached fairscale-0.4.13-py3-none-any.whl\n",
      "Requirement already satisfied: torch>=1.8.0 in /opt/conda/lib/python3.8/site-packages (from fairscale) (1.12.1+cu113)\n",
      "Requirement already satisfied: numpy>=1.22.0 in /opt/conda/lib/python3.8/site-packages (from fairscale) (1.22.2)\n",
      "Requirement already satisfied: typing-extensions in /opt/conda/lib/python3.8/site-packages (from torch>=1.8.0->fairscale) (4.3.0)\n",
      "Installing collected packages: fairscale\n",
      "Successfully installed fairscale-0.4.13\n",
      "\u001b[33mWARNING: Running pip as the 'root' user can result in broken permissions and conflicting behaviour with the system package manager. It is recommended to use a virtual environment instead: https://pip.pypa.io/warnings/venv\u001b[0m\u001b[33m\n",
      "\u001b[0mCollecting git+https://github.com/facebookresearch/esm.git\n",
      "  Cloning https://github.com/facebookresearch/esm.git to /tmp/pip-req-build-xq6_h69t\n",
      "  Running command git clone --filter=blob:none --quiet https://github.com/facebookresearch/esm.git /tmp/pip-req-build-xq6_h69t\n",
      "  Resolved https://github.com/facebookresearch/esm.git to commit 7c2beef1eb74d8b5744f28ffc215a244d874a74f\n",
      "  Installing build dependencies ... \u001b[?25ldone\n",
      "\u001b[?25h  Getting requirements to build wheel ... \u001b[?25ldone\n",
      "\u001b[?25h  Preparing metadata (pyproject.toml) ... \u001b[?25ldone\n",
      "\u001b[?25hBuilding wheels for collected packages: fair-esm\n",
      "  Building wheel for fair-esm (pyproject.toml) ... \u001b[?25ldone\n",
      "\u001b[?25h  Created wheel for fair-esm: filename=fair_esm-2.0.1-py3-none-any.whl size=96076 sha256=405443277d5ee3c055ce0fb660510cc35836d1a22e911265be3c29de91739268\n",
      "  Stored in directory: /tmp/pip-ephem-wheel-cache-aj8mgwrq/wheels/4d/93/84/94f97c0c2eb9e55cec3d98446534316a88262b407db4c247e7\n",
      "Successfully built fair-esm\n",
      "Installing collected packages: fair-esm\n",
      "Successfully installed fair-esm-2.0.1\n",
      "\u001b[33mWARNING: Running pip as the 'root' user can result in broken permissions and conflicting behaviour with the system package manager. It is recommended to use a virtual environment instead: https://pip.pypa.io/warnings/venv\u001b[0m\u001b[33m\n",
      "\u001b[0mmkdir: cannot create directory ‘ESM2/650M/Variable/’: File exists\n"
     ]
    }
   ],
   "source": [
    "!pip install fairscale\n",
    "!pip install git+https://github.com/facebookresearch/esm.git\n",
    "!mkdir ESM2/650M/Variable/"
   ]
  },
  {
   "cell_type": "code",
   "execution_count": 9,
   "id": "bcec8ccc-758e-4f7b-8455-2217dfd37dda",
   "metadata": {
    "tags": []
   },
   "outputs": [],
   "source": [
    "from fairscale.nn.data_parallel import FullyShardedDataParallel as FSDP\n",
    "from fairscale.nn.wrap import enable_wrap, wrap\n",
    "import esm"
   ]
  },
  {
   "cell_type": "code",
   "execution_count": 10,
   "id": "f2b98a35-8205-497a-9a79-450c35eea484",
   "metadata": {
    "tags": []
   },
   "outputs": [],
   "source": [
    "# Load ESM-2 650M parameter model\n",
    "model, alphabet = esm.pretrained.esm2_t33_650M_UR50D()\n",
    "batch_converter = alphabet.get_batch_converter()"
   ]
  },
  {
   "cell_type": "code",
   "execution_count": 11,
   "id": "35ff31e7-9e39-41e4-8282-257bd9321c26",
   "metadata": {
    "tags": []
   },
   "outputs": [
    {
     "name": "stdout",
     "output_type": "stream",
     "text": [
      "0\n",
      "100\n",
      "200\n",
      "300\n",
      "400\n",
      "500\n",
      "600\n",
      "700\n",
      "800\n",
      "900\n",
      "1000\n",
      "1100\n",
      "1200\n",
      "1300\n",
      "1400\n",
      "1500\n",
      "1600\n",
      "1700\n",
      "1800\n"
     ]
    }
   ],
   "source": [
    "i = 0\n",
    "while i < len(ssm_lib):\n",
    "    print(i)\n",
    "    \n",
    "    gc.collect()\n",
    "    torch.cuda.empty_cache()\n",
    "    \n",
    "    #Subset data into a batch of 100 to get embeddings\n",
    "    data_subset = []\n",
    "    for k in range(i, i + 100):\n",
    "        data_subset.append((str(k), ssm_lib[k]))\n",
    "    \n",
    "    #Run the model and extract embeddings on batches of 500\n",
    "    batch_labels, batch_strs, batch_tokens = batch_converter(data_subset)\n",
    "    with torch.no_grad():\n",
    "        results = model(batch_tokens, repr_layers=[33], return_contacts=False)\n",
    "        \n",
    "    data_ESM2_650M = []\n",
    "\n",
    "    for j in range(0,len(results['representations'][33])):\n",
    "        embedding = pd.DataFrame(results['representations'][33][j].cpu().numpy()).iloc[:, :]\n",
    "        data_ESM2_650M.append(embedding)\n",
    "    \n",
    "    filename = \"ESM2/650M/Variable/\" + str(i) + \"_to_\" + str(i+100) + \"_batch_ESM2_650M_encoding.pkl\"\n",
    "    os.makedirs(os.path.dirname(filename), exist_ok=True)\n",
    "    with open(filename, 'wb') as f:\n",
    "        pickle.dump(data_ESM2_650M, f)\n",
    "\n",
    "    i = i + 100"
   ]
  },
  {
   "cell_type": "code",
   "execution_count": 12,
   "id": "74c01e60-4c4f-4f86-a0b0-c0c83f24f41a",
   "metadata": {},
   "outputs": [],
   "source": [
    "ESM2_650M_variable_final = []\n",
    "\n",
    "for i in range(0, 1900, 100):\n",
    "    path = \"ESM2/650M/Variable/\" + str(i) + \"_to_\" + str(i+100) + \"_batch_ESM2_650M_encoding.pkl\"    \n",
    "    encoding_file = open(path, \"rb\")\n",
    "    features = pickle.load(encoding_file)  \n",
    "    for embedding in features:\n",
    "        ESM2_650M_variable_final.append(embedding)\n",
    "\n",
    "filename = \"ESM2/Variable_length_embeddings/ESM2_650M_embedding_variable.pkl\"\n",
    "os.makedirs(os.path.dirname(filename), exist_ok=True)\n",
    "with open(filename, 'wb') as f:\n",
    "    pickle.dump(ESM2_650M_variable_final, f)"
   ]
  },
  {
   "cell_type": "code",
   "execution_count": 13,
   "id": "adcad655-689f-4983-9ed0-a89253aae922",
   "metadata": {},
   "outputs": [
    {
     "name": "stdout",
     "output_type": "stream",
     "text": [
      "<class 'list'>\n"
     ]
    }
   ],
   "source": [
    "all_embeddings = pd.read_pickle(filename)\n",
    "print(type(all_embeddings))"
   ]
  },
  {
   "cell_type": "code",
   "execution_count": 14,
   "id": "da1e9fc2-b10b-40e1-80bb-2a867d335acf",
   "metadata": {
    "tags": []
   },
   "outputs": [
    {
     "data": {
      "text/plain": [
       "1900"
      ]
     },
     "execution_count": 14,
     "metadata": {},
     "output_type": "execute_result"
    }
   ],
   "source": [
    "len(all_embeddings)"
   ]
  },
  {
   "cell_type": "code",
   "execution_count": 15,
   "id": "25aee508-1001-40e4-8d14-24a4bb8ef0f7",
   "metadata": {
    "tags": []
   },
   "outputs": [
    {
     "data": {
      "text/html": [
       "<div>\n",
       "<style scoped>\n",
       "    .dataframe tbody tr th:only-of-type {\n",
       "        vertical-align: middle;\n",
       "    }\n",
       "\n",
       "    .dataframe tbody tr th {\n",
       "        vertical-align: top;\n",
       "    }\n",
       "\n",
       "    .dataframe thead th {\n",
       "        text-align: right;\n",
       "    }\n",
       "</style>\n",
       "<table border=\"1\" class=\"dataframe\">\n",
       "  <thead>\n",
       "    <tr style=\"text-align: right;\">\n",
       "      <th></th>\n",
       "      <th>0</th>\n",
       "      <th>1</th>\n",
       "      <th>2</th>\n",
       "      <th>3</th>\n",
       "      <th>4</th>\n",
       "      <th>5</th>\n",
       "      <th>6</th>\n",
       "      <th>7</th>\n",
       "      <th>8</th>\n",
       "      <th>9</th>\n",
       "      <th>...</th>\n",
       "      <th>1270</th>\n",
       "      <th>1271</th>\n",
       "      <th>1272</th>\n",
       "      <th>1273</th>\n",
       "      <th>1274</th>\n",
       "      <th>1275</th>\n",
       "      <th>1276</th>\n",
       "      <th>1277</th>\n",
       "      <th>1278</th>\n",
       "      <th>1279</th>\n",
       "    </tr>\n",
       "  </thead>\n",
       "  <tbody>\n",
       "    <tr>\n",
       "      <th>0</th>\n",
       "      <td>0.036581</td>\n",
       "      <td>0.047350</td>\n",
       "      <td>0.092524</td>\n",
       "      <td>0.043350</td>\n",
       "      <td>0.014192</td>\n",
       "      <td>0.049848</td>\n",
       "      <td>0.089091</td>\n",
       "      <td>-0.055417</td>\n",
       "      <td>-0.074155</td>\n",
       "      <td>-0.033851</td>\n",
       "      <td>...</td>\n",
       "      <td>-0.017149</td>\n",
       "      <td>-0.050264</td>\n",
       "      <td>-0.129618</td>\n",
       "      <td>0.046565</td>\n",
       "      <td>0.005959</td>\n",
       "      <td>0.043642</td>\n",
       "      <td>0.038703</td>\n",
       "      <td>-0.304967</td>\n",
       "      <td>0.174010</td>\n",
       "      <td>-0.044998</td>\n",
       "    </tr>\n",
       "    <tr>\n",
       "      <th>1</th>\n",
       "      <td>-0.017015</td>\n",
       "      <td>0.107056</td>\n",
       "      <td>-0.074940</td>\n",
       "      <td>-0.012465</td>\n",
       "      <td>0.026488</td>\n",
       "      <td>-0.016195</td>\n",
       "      <td>0.177209</td>\n",
       "      <td>-0.068330</td>\n",
       "      <td>0.155612</td>\n",
       "      <td>-0.067955</td>\n",
       "      <td>...</td>\n",
       "      <td>-0.060499</td>\n",
       "      <td>0.062441</td>\n",
       "      <td>-0.021852</td>\n",
       "      <td>0.177845</td>\n",
       "      <td>0.070050</td>\n",
       "      <td>0.208815</td>\n",
       "      <td>-0.185681</td>\n",
       "      <td>-0.024854</td>\n",
       "      <td>-0.093418</td>\n",
       "      <td>-0.035095</td>\n",
       "    </tr>\n",
       "    <tr>\n",
       "      <th>2</th>\n",
       "      <td>0.021694</td>\n",
       "      <td>0.253016</td>\n",
       "      <td>-0.199430</td>\n",
       "      <td>-0.024588</td>\n",
       "      <td>0.003027</td>\n",
       "      <td>0.161501</td>\n",
       "      <td>-0.021293</td>\n",
       "      <td>0.097416</td>\n",
       "      <td>0.008960</td>\n",
       "      <td>-0.237604</td>\n",
       "      <td>...</td>\n",
       "      <td>0.086280</td>\n",
       "      <td>0.068401</td>\n",
       "      <td>-0.051700</td>\n",
       "      <td>0.099251</td>\n",
       "      <td>0.023959</td>\n",
       "      <td>0.253555</td>\n",
       "      <td>0.148256</td>\n",
       "      <td>-0.037373</td>\n",
       "      <td>-0.154189</td>\n",
       "      <td>0.017390</td>\n",
       "    </tr>\n",
       "    <tr>\n",
       "      <th>3</th>\n",
       "      <td>-0.000795</td>\n",
       "      <td>0.200245</td>\n",
       "      <td>-0.186160</td>\n",
       "      <td>0.006325</td>\n",
       "      <td>-0.047684</td>\n",
       "      <td>-0.005846</td>\n",
       "      <td>-0.115776</td>\n",
       "      <td>0.069959</td>\n",
       "      <td>0.062033</td>\n",
       "      <td>-0.327396</td>\n",
       "      <td>...</td>\n",
       "      <td>0.044398</td>\n",
       "      <td>0.320066</td>\n",
       "      <td>0.043706</td>\n",
       "      <td>0.086921</td>\n",
       "      <td>0.155760</td>\n",
       "      <td>0.101733</td>\n",
       "      <td>0.075464</td>\n",
       "      <td>-0.073973</td>\n",
       "      <td>0.089303</td>\n",
       "      <td>-0.000345</td>\n",
       "    </tr>\n",
       "    <tr>\n",
       "      <th>4</th>\n",
       "      <td>0.000913</td>\n",
       "      <td>0.098839</td>\n",
       "      <td>-0.073983</td>\n",
       "      <td>-0.048947</td>\n",
       "      <td>-0.157283</td>\n",
       "      <td>0.075593</td>\n",
       "      <td>-0.127463</td>\n",
       "      <td>0.258409</td>\n",
       "      <td>0.075003</td>\n",
       "      <td>-0.049834</td>\n",
       "      <td>...</td>\n",
       "      <td>0.071483</td>\n",
       "      <td>-0.069472</td>\n",
       "      <td>-0.092787</td>\n",
       "      <td>0.026740</td>\n",
       "      <td>0.053380</td>\n",
       "      <td>0.012544</td>\n",
       "      <td>0.133020</td>\n",
       "      <td>-0.178231</td>\n",
       "      <td>-0.223506</td>\n",
       "      <td>-0.119615</td>\n",
       "    </tr>\n",
       "    <tr>\n",
       "      <th>...</th>\n",
       "      <td>...</td>\n",
       "      <td>...</td>\n",
       "      <td>...</td>\n",
       "      <td>...</td>\n",
       "      <td>...</td>\n",
       "      <td>...</td>\n",
       "      <td>...</td>\n",
       "      <td>...</td>\n",
       "      <td>...</td>\n",
       "      <td>...</td>\n",
       "      <td>...</td>\n",
       "      <td>...</td>\n",
       "      <td>...</td>\n",
       "      <td>...</td>\n",
       "      <td>...</td>\n",
       "      <td>...</td>\n",
       "      <td>...</td>\n",
       "      <td>...</td>\n",
       "      <td>...</td>\n",
       "      <td>...</td>\n",
       "      <td>...</td>\n",
       "    </tr>\n",
       "    <tr>\n",
       "      <th>97</th>\n",
       "      <td>0.096671</td>\n",
       "      <td>0.084553</td>\n",
       "      <td>-0.023533</td>\n",
       "      <td>0.059182</td>\n",
       "      <td>-0.286219</td>\n",
       "      <td>0.086685</td>\n",
       "      <td>-0.083796</td>\n",
       "      <td>0.196585</td>\n",
       "      <td>0.135692</td>\n",
       "      <td>-0.184023</td>\n",
       "      <td>...</td>\n",
       "      <td>-0.071129</td>\n",
       "      <td>-0.009025</td>\n",
       "      <td>0.185851</td>\n",
       "      <td>0.155612</td>\n",
       "      <td>-0.011412</td>\n",
       "      <td>0.136008</td>\n",
       "      <td>0.209793</td>\n",
       "      <td>-0.042822</td>\n",
       "      <td>-0.136982</td>\n",
       "      <td>-0.106243</td>\n",
       "    </tr>\n",
       "    <tr>\n",
       "      <th>98</th>\n",
       "      <td>0.064004</td>\n",
       "      <td>0.118481</td>\n",
       "      <td>-0.002955</td>\n",
       "      <td>0.099033</td>\n",
       "      <td>-0.156968</td>\n",
       "      <td>0.025854</td>\n",
       "      <td>-0.077394</td>\n",
       "      <td>0.127885</td>\n",
       "      <td>0.048879</td>\n",
       "      <td>-0.231803</td>\n",
       "      <td>...</td>\n",
       "      <td>0.024609</td>\n",
       "      <td>-0.107454</td>\n",
       "      <td>0.016356</td>\n",
       "      <td>0.084921</td>\n",
       "      <td>0.162472</td>\n",
       "      <td>0.110737</td>\n",
       "      <td>0.111414</td>\n",
       "      <td>-0.088668</td>\n",
       "      <td>-0.315528</td>\n",
       "      <td>-0.049303</td>\n",
       "    </tr>\n",
       "    <tr>\n",
       "      <th>99</th>\n",
       "      <td>-0.054987</td>\n",
       "      <td>-0.045255</td>\n",
       "      <td>0.095286</td>\n",
       "      <td>0.188236</td>\n",
       "      <td>-0.087184</td>\n",
       "      <td>-0.040848</td>\n",
       "      <td>-0.009494</td>\n",
       "      <td>0.198351</td>\n",
       "      <td>0.085961</td>\n",
       "      <td>0.033912</td>\n",
       "      <td>...</td>\n",
       "      <td>0.028072</td>\n",
       "      <td>0.000797</td>\n",
       "      <td>-0.013867</td>\n",
       "      <td>0.089377</td>\n",
       "      <td>-0.019063</td>\n",
       "      <td>0.219491</td>\n",
       "      <td>0.042908</td>\n",
       "      <td>-0.031639</td>\n",
       "      <td>-0.158841</td>\n",
       "      <td>0.099609</td>\n",
       "    </tr>\n",
       "    <tr>\n",
       "      <th>100</th>\n",
       "      <td>0.008757</td>\n",
       "      <td>0.046123</td>\n",
       "      <td>-0.068028</td>\n",
       "      <td>0.189504</td>\n",
       "      <td>-0.344327</td>\n",
       "      <td>0.043341</td>\n",
       "      <td>-0.064643</td>\n",
       "      <td>0.196766</td>\n",
       "      <td>0.157914</td>\n",
       "      <td>-0.063482</td>\n",
       "      <td>...</td>\n",
       "      <td>0.068557</td>\n",
       "      <td>0.027906</td>\n",
       "      <td>-0.133659</td>\n",
       "      <td>-0.023238</td>\n",
       "      <td>0.101977</td>\n",
       "      <td>-0.048656</td>\n",
       "      <td>0.087176</td>\n",
       "      <td>0.005192</td>\n",
       "      <td>-0.219649</td>\n",
       "      <td>0.091477</td>\n",
       "    </tr>\n",
       "    <tr>\n",
       "      <th>101</th>\n",
       "      <td>0.057817</td>\n",
       "      <td>-0.005363</td>\n",
       "      <td>0.113104</td>\n",
       "      <td>0.100305</td>\n",
       "      <td>-0.008738</td>\n",
       "      <td>0.028951</td>\n",
       "      <td>-0.043255</td>\n",
       "      <td>0.052226</td>\n",
       "      <td>0.087060</td>\n",
       "      <td>-0.091585</td>\n",
       "      <td>...</td>\n",
       "      <td>-0.072487</td>\n",
       "      <td>-0.024611</td>\n",
       "      <td>-0.007333</td>\n",
       "      <td>0.169614</td>\n",
       "      <td>0.030332</td>\n",
       "      <td>0.005991</td>\n",
       "      <td>0.027623</td>\n",
       "      <td>-0.185843</td>\n",
       "      <td>0.170306</td>\n",
       "      <td>-0.084799</td>\n",
       "    </tr>\n",
       "  </tbody>\n",
       "</table>\n",
       "<p>102 rows × 1280 columns</p>\n",
       "</div>"
      ],
      "text/plain": [
       "         0         1         2         3         4         5         6     \\\n",
       "0    0.036581  0.047350  0.092524  0.043350  0.014192  0.049848  0.089091   \n",
       "1   -0.017015  0.107056 -0.074940 -0.012465  0.026488 -0.016195  0.177209   \n",
       "2    0.021694  0.253016 -0.199430 -0.024588  0.003027  0.161501 -0.021293   \n",
       "3   -0.000795  0.200245 -0.186160  0.006325 -0.047684 -0.005846 -0.115776   \n",
       "4    0.000913  0.098839 -0.073983 -0.048947 -0.157283  0.075593 -0.127463   \n",
       "..        ...       ...       ...       ...       ...       ...       ...   \n",
       "97   0.096671  0.084553 -0.023533  0.059182 -0.286219  0.086685 -0.083796   \n",
       "98   0.064004  0.118481 -0.002955  0.099033 -0.156968  0.025854 -0.077394   \n",
       "99  -0.054987 -0.045255  0.095286  0.188236 -0.087184 -0.040848 -0.009494   \n",
       "100  0.008757  0.046123 -0.068028  0.189504 -0.344327  0.043341 -0.064643   \n",
       "101  0.057817 -0.005363  0.113104  0.100305 -0.008738  0.028951 -0.043255   \n",
       "\n",
       "         7         8         9     ...      1270      1271      1272  \\\n",
       "0   -0.055417 -0.074155 -0.033851  ... -0.017149 -0.050264 -0.129618   \n",
       "1   -0.068330  0.155612 -0.067955  ... -0.060499  0.062441 -0.021852   \n",
       "2    0.097416  0.008960 -0.237604  ...  0.086280  0.068401 -0.051700   \n",
       "3    0.069959  0.062033 -0.327396  ...  0.044398  0.320066  0.043706   \n",
       "4    0.258409  0.075003 -0.049834  ...  0.071483 -0.069472 -0.092787   \n",
       "..        ...       ...       ...  ...       ...       ...       ...   \n",
       "97   0.196585  0.135692 -0.184023  ... -0.071129 -0.009025  0.185851   \n",
       "98   0.127885  0.048879 -0.231803  ...  0.024609 -0.107454  0.016356   \n",
       "99   0.198351  0.085961  0.033912  ...  0.028072  0.000797 -0.013867   \n",
       "100  0.196766  0.157914 -0.063482  ...  0.068557  0.027906 -0.133659   \n",
       "101  0.052226  0.087060 -0.091585  ... -0.072487 -0.024611 -0.007333   \n",
       "\n",
       "         1273      1274      1275      1276      1277      1278      1279  \n",
       "0    0.046565  0.005959  0.043642  0.038703 -0.304967  0.174010 -0.044998  \n",
       "1    0.177845  0.070050  0.208815 -0.185681 -0.024854 -0.093418 -0.035095  \n",
       "2    0.099251  0.023959  0.253555  0.148256 -0.037373 -0.154189  0.017390  \n",
       "3    0.086921  0.155760  0.101733  0.075464 -0.073973  0.089303 -0.000345  \n",
       "4    0.026740  0.053380  0.012544  0.133020 -0.178231 -0.223506 -0.119615  \n",
       "..        ...       ...       ...       ...       ...       ...       ...  \n",
       "97   0.155612 -0.011412  0.136008  0.209793 -0.042822 -0.136982 -0.106243  \n",
       "98   0.084921  0.162472  0.110737  0.111414 -0.088668 -0.315528 -0.049303  \n",
       "99   0.089377 -0.019063  0.219491  0.042908 -0.031639 -0.158841  0.099609  \n",
       "100 -0.023238  0.101977 -0.048656  0.087176  0.005192 -0.219649  0.091477  \n",
       "101  0.169614  0.030332  0.005991  0.027623 -0.185843  0.170306 -0.084799  \n",
       "\n",
       "[102 rows x 1280 columns]"
      ]
     },
     "execution_count": 15,
     "metadata": {},
     "output_type": "execute_result"
    }
   ],
   "source": [
    "all_embeddings[0]"
   ]
  },
  {
   "cell_type": "code",
   "execution_count": 16,
   "id": "5dd30698-ffd6-4ff1-ac56-accd5bbaaf09",
   "metadata": {
    "tags": []
   },
   "outputs": [
    {
     "data": {
      "text/plain": [
       "pandas.core.frame.DataFrame"
      ]
     },
     "execution_count": 16,
     "metadata": {},
     "output_type": "execute_result"
    }
   ],
   "source": [
    "type(all_embeddings[0])"
   ]
  },
  {
   "cell_type": "code",
   "execution_count": 17,
   "id": "83b08e52-104f-42d3-aa6c-f0f484903305",
   "metadata": {
    "tags": []
   },
   "outputs": [
    {
     "data": {
      "text/plain": [
       "0       0.056256\n",
       "1       0.035288\n",
       "2      -0.030975\n",
       "3       0.043706\n",
       "4      -0.061350\n",
       "          ...   \n",
       "1275    0.096144\n",
       "1276    0.064267\n",
       "1277   -0.006722\n",
       "1278   -0.087425\n",
       "1279   -0.029749\n",
       "Length: 1280, dtype: float32"
      ]
     },
     "execution_count": 17,
     "metadata": {},
     "output_type": "execute_result"
    }
   ],
   "source": [
    "embedding_means = []\n",
    "for i in range(len(all_embeddings)):\n",
    "    embedding_means.append(all_embeddings[i].mean(axis = 0))\n",
    "embedding_means[0]"
   ]
  },
  {
   "cell_type": "code",
   "execution_count": 18,
   "id": "58774e06-bf5a-4300-b076-9ca217607c76",
   "metadata": {
    "tags": []
   },
   "outputs": [
    {
     "data": {
      "text/plain": [
       "(1900, 1280)"
      ]
     },
     "execution_count": 18,
     "metadata": {},
     "output_type": "execute_result"
    }
   ],
   "source": [
    "embedding_means = pd.DataFrame(embedding_means)\n",
    "embedding_means.shape"
   ]
  },
  {
   "cell_type": "code",
   "execution_count": 19,
   "id": "ec7d6ab2-de68-4857-bc26-3b0d1d9c90f5",
   "metadata": {
    "tags": []
   },
   "outputs": [],
   "source": [
    "from scipy.spatial.distance import pdist\n",
    "\n",
    "pairwise_embedded_dists = pdist(embedding_means, metric = 'euclidean')"
   ]
  },
  {
   "cell_type": "code",
   "execution_count": 20,
   "id": "8020db63-3a4a-41d9-a661-b6f9c3464f9e",
   "metadata": {
    "tags": []
   },
   "outputs": [
    {
     "data": {
      "text/plain": [
       "1804050"
      ]
     },
     "execution_count": 20,
     "metadata": {},
     "output_type": "execute_result"
    }
   ],
   "source": [
    "len(pairwise_embedded_dists)"
   ]
  },
  {
   "cell_type": "code",
   "execution_count": 21,
   "id": "ab7a7276-ad90-43e6-812d-84246a30866e",
   "metadata": {
    "tags": []
   },
   "outputs": [
    {
     "data": {
      "text/plain": [
       "1804050.0"
      ]
     },
     "execution_count": 21,
     "metadata": {},
     "output_type": "execute_result"
    }
   ],
   "source": [
    "1900*1899/2"
   ]
  },
  {
   "cell_type": "code",
   "execution_count": 22,
   "id": "e5255616-6312-4e04-b153-5b9eba317586",
   "metadata": {
    "tags": []
   },
   "outputs": [
    {
     "name": "stderr",
     "output_type": "stream",
     "text": [
      "<ipython-input-22-61e3fc3d0cd3>:1: UserWarning: \n",
      "\n",
      "`distplot` is a deprecated function and will be removed in seaborn v0.14.0.\n",
      "\n",
      "Please adapt your code to use either `displot` (a figure-level function with\n",
      "similar flexibility) or `histplot` (an axes-level function for histograms).\n",
      "\n",
      "For a guide to updating your code to use the new functions, please see\n",
      "https://gist.github.com/mwaskom/de44147ed2974457ad6372750bbe5751\n",
      "\n",
      "  seaborn.distplot(pairwise_embedded_dists)\n"
     ]
    },
    {
     "data": {
      "text/plain": [
       "<AxesSubplot: ylabel='Density'>"
      ]
     },
     "execution_count": 22,
     "metadata": {},
     "output_type": "execute_result"
    },
    {
     "data": {
      "image/png": "[encoded data removed]",
      "text/plain": [
       "<Figure size 432x288 with 1 Axes>"
      ]
     },
     "metadata": {
      "needs_background": "light"
     },
     "output_type": "display_data"
    }
   ],
   "source": [
    "seaborn.distplot(pairwise_embedded_dists)"
   ]
  },
  {
   "cell_type": "code",
   "execution_count": 23,
   "id": "82d85119-8148-4ff7-ba7e-13ac3c4a95cd",
   "metadata": {
    "tags": []
   },
   "outputs": [],
   "source": [
    "from sklearn.preprocessing import OneHotEncoder\n",
    "\n",
    "ohe = OneHotEncoder()\n",
    "def one_hot_vec(aa):\n",
    "    aa_seq_list = []\n",
    "    for i in aa:\n",
    "        aa_seq_list.append(i)\n",
    "    aa_seq_df = pd.DataFrame({\"aa\": aa_seq_list})\n",
    "    aa_seq_transformed = ohe.fit_transform(aa_seq_df[['aa']])\n",
    "    aa_seq_transformed.shape\n",
    "    ohe_vec = pd.DataFrame(aa_seq_transformed.toarray()).to_numpy().flatten()\n",
    "    return ohe_vec\n",
    "\n",
    "ohe_vec = []\n",
    "for aa in ssm_lib:\n",
    "    ohe_vec.append(one_hot_vec(aa))"
   ]
  },
  {
   "cell_type": "code",
   "execution_count": 24,
   "id": "754fb78c-d668-428f-9ce2-a46dd442f731",
   "metadata": {
    "tags": []
   },
   "outputs": [
    {
     "data": {
      "text/plain": [
       "1900"
      ]
     },
     "execution_count": 24,
     "metadata": {},
     "output_type": "execute_result"
    }
   ],
   "source": [
    "len(ohe_vec)"
   ]
  },
  {
   "cell_type": "code",
   "execution_count": 25,
   "id": "c407934e-3d31-4df1-9b88-6bcc8bbfc5e8",
   "metadata": {
    "tags": []
   },
   "outputs": [
    {
     "data": {
      "text/plain": [
       "array([1., 0., 0., ..., 0., 0., 0.])"
      ]
     },
     "execution_count": 25,
     "metadata": {},
     "output_type": "execute_result"
    }
   ],
   "source": [
    "ohe_vec[0]"
   ]
  },
  {
   "cell_type": "code",
   "execution_count": 26,
   "id": "58645d12-3439-4323-b47c-8b9c966262b1",
   "metadata": {
    "tags": []
   },
   "outputs": [],
   "source": [
    "pairwise_ohe_dists = pdist(ohe_vec, metric = 'euclidean')"
   ]
  },
  {
   "cell_type": "code",
   "execution_count": 27,
   "id": "d278c4f4-cdca-4e25-a0f2-1ff1c650e694",
   "metadata": {
    "tags": []
   },
   "outputs": [
    {
     "name": "stderr",
     "output_type": "stream",
     "text": [
      "<ipython-input-27-145acbe57ef0>:1: UserWarning: \n",
      "\n",
      "`distplot` is a deprecated function and will be removed in seaborn v0.14.0.\n",
      "\n",
      "Please adapt your code to use either `displot` (a figure-level function with\n",
      "similar flexibility) or `histplot` (an axes-level function for histograms).\n",
      "\n",
      "For a guide to updating your code to use the new functions, please see\n",
      "https://gist.github.com/mwaskom/de44147ed2974457ad6372750bbe5751\n",
      "\n",
      "  seaborn.distplot(pairwise_ohe_dists)\n"
     ]
    },
    {
     "data": {
      "text/plain": [
       "<AxesSubplot: ylabel='Density'>"
      ]
     },
     "execution_count": 27,
     "metadata": {},
     "output_type": "execute_result"
    },
    {
     "data": {
      "image/png": "[encoded data removed]",
      "text/plain": [
       "<Figure size 432x288 with 1 Axes>"
      ]
     },
     "metadata": {
      "needs_background": "light"
     },
     "output_type": "display_data"
    }
   ],
   "source": [
    "seaborn.distplot(pairwise_ohe_dists)"
   ]
  },
  {
   "cell_type": "code",
   "execution_count": 28,
   "id": "641456f6-2e15-44f7-8588-d22a6f37c226",
   "metadata": {
    "tags": []
   },
   "outputs": [],
   "source": [
    "random_peps = []\n",
    "for i in range(len(ssm_lib)):\n",
    "    pep = []\n",
    "    for j in range(pep_len):\n",
    "        pep.append(random.choice(pep_alphabet))\n",
    "    random_peps.append(''.join(pep))"
   ]
  },
  {
   "cell_type": "code",
   "execution_count": 29,
   "id": "cf9d69d5-e218-47cf-9ae6-3502356a7261",
   "metadata": {
    "tags": []
   },
   "outputs": [
    {
     "data": {
      "text/plain": [
       "'DWCNSELGQEEICWNTACASEVDHTMNPFEGEAKLEMEEYTGFTFLDNPQVYQCTGLYICWTRHFRKTWYDNCKRHPKMIPVHISSRHPAGKCANADVQM'"
      ]
     },
     "execution_count": 29,
     "metadata": {},
     "output_type": "execute_result"
    }
   ],
   "source": [
    "random_peps[0]"
   ]
  },
  {
   "cell_type": "code",
   "execution_count": 30,
   "id": "982a4354-f914-4030-bc9d-4759be3c6a44",
   "metadata": {
    "tags": []
   },
   "outputs": [
    {
     "data": {
      "text/plain": [
       "'SEHKQILMNVIKRFQENCIGLFQACDTRLMLRGDSCYQHYWKEIRNDTQWTFTATCYWLYEPFPAKAMKWVALSPRLLMICMYVRYDSDDVERRIQTDPS'"
      ]
     },
     "execution_count": 30,
     "metadata": {},
     "output_type": "execute_result"
    }
   ],
   "source": [
    "random_peps[1]"
   ]
  },
  {
   "cell_type": "code",
   "execution_count": 31,
   "id": "f4183012-f9a6-4123-8d8d-fac0c1053099",
   "metadata": {
    "tags": []
   },
   "outputs": [
    {
     "name": "stdout",
     "output_type": "stream",
     "text": [
      "0\n",
      "100\n",
      "200\n",
      "300\n",
      "400\n",
      "500\n",
      "600\n",
      "700\n",
      "800\n",
      "900\n",
      "1000\n",
      "1100\n",
      "1200\n",
      "1300\n",
      "1400\n",
      "1500\n",
      "1600\n",
      "1700\n",
      "1800\n"
     ]
    }
   ],
   "source": [
    "i = 0\n",
    "while i < len(random_peps):\n",
    "    print(i)\n",
    "    \n",
    "    gc.collect()\n",
    "    torch.cuda.empty_cache()\n",
    "    \n",
    "    #Subset data into a batch of 100 to get embeddings\n",
    "    data_subset = []\n",
    "    for k in range(i, i + 100):\n",
    "        data_subset.append((str(k), random_peps[k]))\n",
    "    \n",
    "    #Run the model and extract embeddings on batches of 500\n",
    "    batch_labels, batch_strs, batch_tokens = batch_converter(data_subset)\n",
    "    with torch.no_grad():\n",
    "        results = model(batch_tokens, repr_layers=[33], return_contacts=False)\n",
    "        \n",
    "    data_ESM2_650M = []\n",
    "\n",
    "    for j in range(0,len(results['representations'][33])):\n",
    "        embedding = pd.DataFrame(results['representations'][33][j].cpu().numpy()).iloc[:, :]\n",
    "        data_ESM2_650M.append(embedding)\n",
    "    \n",
    "    filename = \"ESM2/650M/Variable/\" + str(i) + \"rand__to_\" + str(i+100) + \"_batch_ESM2_650M_encoding.pkl\"\n",
    "    os.makedirs(os.path.dirname(filename), exist_ok=True)\n",
    "    with open(filename, 'wb') as f:\n",
    "        pickle.dump(data_ESM2_650M, f)\n",
    "\n",
    "    i = i + 100\n",
    "    \n",
    "ESM2_650M_variable_final = []\n",
    "\n",
    "for i in range(0, 1900, 100):\n",
    "    path = \"ESM2/650M/Variable/\" + str(i) + \"rand__to_\" + str(i+100) + \"_batch_ESM2_650M_encoding.pkl\"    \n",
    "    encoding_file = open(path, \"rb\")\n",
    "    features = pickle.load(encoding_file)  \n",
    "    for embedding in features:\n",
    "        ESM2_650M_variable_final.append(embedding)\n",
    "\n",
    "filename = \"ESM2/Variable_length_embeddings/rand_ESM2_650M_embedding_variable.pkl\"\n",
    "os.makedirs(os.path.dirname(filename), exist_ok=True)\n",
    "with open(filename, 'wb') as f:\n",
    "    pickle.dump(ESM2_650M_variable_final, f)"
   ]
  },
  {
   "cell_type": "code",
   "execution_count": 32,
   "id": "f29a6a16-527d-407c-99e5-365828819e01",
   "metadata": {
    "tags": []
   },
   "outputs": [
    {
     "name": "stderr",
     "output_type": "stream",
     "text": [
      "<ipython-input-32-c892aa2178d2>:6: UserWarning: \n",
      "\n",
      "`distplot` is a deprecated function and will be removed in seaborn v0.14.0.\n",
      "\n",
      "Please adapt your code to use either `displot` (a figure-level function with\n",
      "similar flexibility) or `histplot` (an axes-level function for histograms).\n",
      "\n",
      "For a guide to updating your code to use the new functions, please see\n",
      "https://gist.github.com/mwaskom/de44147ed2974457ad6372750bbe5751\n",
      "\n",
      "  seaborn.distplot(pairwise_rand_ohe_embedded_dists)\n"
     ]
    },
    {
     "data": {
      "text/plain": [
       "<AxesSubplot: ylabel='Density'>"
      ]
     },
     "execution_count": 32,
     "metadata": {},
     "output_type": "execute_result"
    },
    {
     "data": {
      "image/png": "[encoded data removed]",
      "text/plain": [
       "<Figure size 432x288 with 1 Axes>"
      ]
     },
     "metadata": {
      "needs_background": "light"
     },
     "output_type": "display_data"
    }
   ],
   "source": [
    "all_ohe_embeddings = pd.read_pickle(filename)\n",
    "ohe_embedding_means = []\n",
    "for i in range(len(all_ohe_embeddings)):\n",
    "    ohe_embedding_means.append(all_ohe_embeddings[i].mean(axis = 0))\n",
    "pairwise_rand_ohe_embedded_dists = pdist(ohe_embedding_means, metric = 'euclidean')\n",
    "seaborn.distplot(pairwise_rand_ohe_embedded_dists)"
   ]
  },
  {
   "cell_type": "code",
   "execution_count": 36,
   "id": "eac3b91f-4cad-4d56-8f82-06cc44002c00",
   "metadata": {},
   "outputs": [
    {
     "name": "stderr",
     "output_type": "stream",
     "text": [
      "<ipython-input-36-6301a793ec35>:4: FutureWarning: \n",
      "\n",
      "`shade` is now deprecated in favor of `fill`; setting `fill=True`.\n",
      "This will become an error in seaborn v0.14.0; please update your code.\n",
      "\n",
      "  f = seaborn.kdeplot(dists['random_peptides'], shade = True, color = 'darkred')\n",
      "<ipython-input-36-6301a793ec35>:5: FutureWarning: \n",
      "\n",
      "`shade` is now deprecated in favor of `fill`; setting `fill=True`.\n",
      "This will become an error in seaborn v0.14.0; please update your code.\n",
      "\n",
      "  f = seaborn.kdeplot(dists['ssm_peptides'], shade = True, color = 'deepskyblue')\n"
     ]
    },
    {
     "data": {
      "image/png": "[encoded data removed]",
      "text/plain": [
       "<Figure size 432x288 with 1 Axes>"
      ]
     },
     "metadata": {
      "needs_background": "light"
     },
     "output_type": "display_data"
    }
   ],
   "source": [
    "dists = pd.DataFrame({'random_peptides': pairwise_rand_ohe_embedded_dists,\n",
    "                      'ssm_peptides': pairwise_embedded_dists})\n",
    "f, ax = plt.subplots(1, 1)\n",
    "f = seaborn.kdeplot(dists['random_peptides'], shade = True, color = 'darkred')\n",
    "f = seaborn.kdeplot(dists['ssm_peptides'], shade = True, color = 'deepskyblue')\n",
    "ax.legend(labels=[\"random peptide embeddings\", \"SSM peptide embeddings\"], \n",
    "          labelcolor = [\"darkred\", \"deepskyblue\"])\n",
    "plt.show()"
   ]
  },
  {
   "cell_type": "code",
   "execution_count": null,
   "id": "de90d840-0984-480e-bf9a-d1f8ae311cd7",
   "metadata": {},
   "outputs": [],
   "source": []
  }
 ],
 "metadata": {
  "instance_type": "ml.g4dn.xlarge",
  "kernelspec": {
   "display_name": "Python 3 (PyTorch 1.12 Python 3.8 GPU Optimized)",
   "language": "python",
   "name": "python3__SAGEMAKER_INTERNAL__arn:aws:sagemaker:us-west-2:236514542706:image/pytorch-1.12-gpu-py38"
  },
  "language_info": {
   "codemirror_mode": {
    "name": "ipython",
    "version": 3
   },
   "file_extension": ".py",
   "mimetype": "text/x-python",
   "name": "python",
   "nbconvert_exporter": "python",
   "pygments_lexer": "ipython3",
   "version": "3.8.13"
  }
 },
 "nbformat": 4,
 "nbformat_minor": 5
}
