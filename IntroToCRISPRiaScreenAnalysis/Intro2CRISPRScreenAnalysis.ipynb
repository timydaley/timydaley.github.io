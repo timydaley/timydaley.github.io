{
 "cells": [
  {
   "cell_type": "markdown",
   "id": "f1543766",
   "metadata": {},
   "source": [
    "There are a number of issues I want to discuss in the problem of analysing CRISPR inhibition or CRISPR activation (CRISPRi/a) screens.  Most of this was learned during my postdoc at Stanford, working in the labs of [Stanley Qi](https://med.stanford.edu/qilab.html) and [Wing Hung Wong](https://web.stanford.edu/group/wonglab/).  \n",
    "\n",
    "# Design\n",
    "\n",
    "The most prevalant screen design is the classic treatment-control.  The key to this design is to ensure that everything is the same between the treatment and control, except for the the effect you want to measure.  For example, in gene essentiality screens the treatment is CRISPRi or CRISPRko treated and the the control is the untreated population.  However, you need to make sure that everything else between the two conditions are the same.  Another example is drug treatment screens to identify the mechanism or pathways of a drug.  In this case, the CRISPRi/a treatment is applied to both treatment and control.  The difference is that the treatment population is treated with the drug.  \n",
    "\n",
    "Another design, discussed in the Qi lab's [neuron screen paper](https://www.sciencedirect.com/science/article/pii/S1934590918304405), is to compare positive vs negative selection.  This is particularly relevant in the context of gain of function screens.  In this design, the CRISPRi/a treatment is applied to the population.  Then after the effect is allowed to set in, the population is selected for and against the desired phenotype.  In the neuron screen this was beta-tubulin postive and beta-tubulin negative, respectively.  This design should control for effects of the CRISPR modulation that are not associated with the desired phenotype.  \n",
    "\n",
    "# Measurement\n",
    "\n",
    "The outcomes we see from the screen are the counts of sequenced guide RNAs, typically like a table below taken from [Gilbert 2014](https://www.sciencedirect.com/science/article/pii/S0092867414011787).  This is a genome-wide CRISPRi screen for ricin sensitivity/susceptibility."
   ]
  },
  {
   "cell_type": "code",
   "execution_count": 1,
   "id": "944579b5",
   "metadata": {
    "ExecuteTime": {
     "end_time": "2021-11-24T01:11:48.618129Z",
     "start_time": "2021-11-24T01:11:47.369327Z"
    }
   },
   "outputs": [
    {
     "name": "stdout",
     "output_type": "stream",
     "text": [
      "Requirement already satisfied: seaborn in /Users/tim.daley/git/interviews/engineer/blog/venv/lib/python3.9/site-packages (0.11.2)\n",
      "Requirement already satisfied: scipy>=1.0 in /Users/tim.daley/git/interviews/engineer/blog/venv/lib/python3.9/site-packages (from seaborn) (1.7.1)\n",
      "Requirement already satisfied: matplotlib>=2.2 in /Users/tim.daley/git/interviews/engineer/blog/venv/lib/python3.9/site-packages (from seaborn) (3.4.1)\n",
      "Requirement already satisfied: pandas>=0.23 in /Users/tim.daley/git/interviews/engineer/blog/venv/lib/python3.9/site-packages (from seaborn) (1.2.4)\n",
      "Requirement already satisfied: numpy>=1.15 in /Users/tim.daley/git/interviews/engineer/blog/venv/lib/python3.9/site-packages (from seaborn) (1.20.2)\n",
      "Requirement already satisfied: cycler>=0.10 in /Users/tim.daley/git/interviews/engineer/blog/venv/lib/python3.9/site-packages (from matplotlib>=2.2->seaborn) (0.10.0)\n",
      "Requirement already satisfied: kiwisolver>=1.0.1 in /Users/tim.daley/git/interviews/engineer/blog/venv/lib/python3.9/site-packages (from matplotlib>=2.2->seaborn) (1.3.1)\n",
      "Requirement already satisfied: pyparsing>=2.2.1 in /Users/tim.daley/git/interviews/engineer/blog/venv/lib/python3.9/site-packages (from matplotlib>=2.2->seaborn) (2.4.7)\n",
      "Requirement already satisfied: python-dateutil>=2.7 in /Users/tim.daley/git/interviews/engineer/blog/venv/lib/python3.9/site-packages (from matplotlib>=2.2->seaborn) (2.8.1)\n",
      "Requirement already satisfied: pillow>=6.2.0 in /Users/tim.daley/git/interviews/engineer/blog/venv/lib/python3.9/site-packages (from matplotlib>=2.2->seaborn) (8.2.0)\n",
      "Requirement already satisfied: pytz>=2017.3 in /Users/tim.daley/git/interviews/engineer/blog/venv/lib/python3.9/site-packages (from pandas>=0.23->seaborn) (2021.1)\n",
      "Requirement already satisfied: six in /Users/tim.daley/git/interviews/engineer/blog/venv/lib/python3.9/site-packages (from cycler>=0.10->matplotlib>=2.2->seaborn) (1.15.0)\n",
      "\u001b[33mWARNING: You are using pip version 20.2.3; however, version 21.3.1 is available.\n",
      "You should consider upgrading via the '/Users/tim.daley/git/interviews/engineer/blog/venv/bin/python -m pip install --upgrade pip' command.\u001b[0m\n"
     ]
    }
   ],
   "source": [
    "import sys\n",
    "!{sys.executable} -m pip install seaborn"
   ]
  },
  {
   "cell_type": "code",
   "execution_count": 2,
   "id": "2615bf97",
   "metadata": {
    "ExecuteTime": {
     "end_time": "2021-11-24T01:11:50.287830Z",
     "start_time": "2021-11-24T01:11:48.621390Z"
    }
   },
   "outputs": [
    {
     "data": {
      "text/html": [
       "<div>\n",
       "<style scoped>\n",
       "    .dataframe tbody tr th:only-of-type {\n",
       "        vertical-align: middle;\n",
       "    }\n",
       "\n",
       "    .dataframe tbody tr th {\n",
       "        vertical-align: top;\n",
       "    }\n",
       "\n",
       "    .dataframe thead th {\n",
       "        text-align: right;\n",
       "    }\n",
       "</style>\n",
       "<table border=\"1\" class=\"dataframe\">\n",
       "  <thead>\n",
       "    <tr style=\"text-align: right;\">\n",
       "      <th></th>\n",
       "      <th>sgId</th>\n",
       "      <th>sequence</th>\n",
       "      <th>gene</th>\n",
       "      <th>T0JEV</th>\n",
       "      <th>T0MH</th>\n",
       "      <th>treatedJEV</th>\n",
       "      <th>treatedMH</th>\n",
       "      <th>untreatedJEV</th>\n",
       "      <th>untreatedMH</th>\n",
       "    </tr>\n",
       "  </thead>\n",
       "  <tbody>\n",
       "    <tr>\n",
       "      <th>0</th>\n",
       "      <td>Apoptosis+Cancer+Other_Cancer=A2M_+_9268488.25...</td>\n",
       "      <td>GACCAGATGGATTGTAGGGAGT</td>\n",
       "      <td>A2M</td>\n",
       "      <td>988</td>\n",
       "      <td>1114</td>\n",
       "      <td>813</td>\n",
       "      <td>1116</td>\n",
       "      <td>1131</td>\n",
       "      <td>1050</td>\n",
       "    </tr>\n",
       "    <tr>\n",
       "      <th>1</th>\n",
       "      <td>Apoptosis+Cancer+Other_Cancer=A2M_+_9268495.24...</td>\n",
       "      <td>GTTTGGGACCAGATGGATTGT</td>\n",
       "      <td>A2M</td>\n",
       "      <td>587</td>\n",
       "      <td>592</td>\n",
       "      <td>356</td>\n",
       "      <td>526</td>\n",
       "      <td>670</td>\n",
       "      <td>507</td>\n",
       "    </tr>\n",
       "    <tr>\n",
       "      <th>2</th>\n",
       "      <td>Apoptosis+Cancer+Other_Cancer=A2M_+_9268513.26...</td>\n",
       "      <td>GCCCAGTTGCTTTGGGAAGTGTT</td>\n",
       "      <td>A2M</td>\n",
       "      <td>843</td>\n",
       "      <td>909</td>\n",
       "      <td>818</td>\n",
       "      <td>721</td>\n",
       "      <td>1057</td>\n",
       "      <td>867</td>\n",
       "    </tr>\n",
       "    <tr>\n",
       "      <th>3</th>\n",
       "      <td>Apoptosis+Cancer+Other_Cancer=A2M_+_9268524.25...</td>\n",
       "      <td>GCAGCATAAAGCCCAGTTGCTT</td>\n",
       "      <td>A2M</td>\n",
       "      <td>572</td>\n",
       "      <td>655</td>\n",
       "      <td>848</td>\n",
       "      <td>797</td>\n",
       "      <td>855</td>\n",
       "      <td>690</td>\n",
       "    </tr>\n",
       "    <tr>\n",
       "      <th>4</th>\n",
       "      <td>Apoptosis+Cancer+Other_Cancer=A2M_+_9268659.23...</td>\n",
       "      <td>GGGATTCTATTTAGCCCGCC</td>\n",
       "      <td>A2M</td>\n",
       "      <td>431</td>\n",
       "      <td>417</td>\n",
       "      <td>349</td>\n",
       "      <td>396</td>\n",
       "      <td>394</td>\n",
       "      <td>411</td>\n",
       "    </tr>\n",
       "  </tbody>\n",
       "</table>\n",
       "</div>"
      ],
      "text/plain": [
       "                                                sgId                 sequence  \\\n",
       "0  Apoptosis+Cancer+Other_Cancer=A2M_+_9268488.25...   GACCAGATGGATTGTAGGGAGT   \n",
       "1  Apoptosis+Cancer+Other_Cancer=A2M_+_9268495.24...    GTTTGGGACCAGATGGATTGT   \n",
       "2  Apoptosis+Cancer+Other_Cancer=A2M_+_9268513.26...  GCCCAGTTGCTTTGGGAAGTGTT   \n",
       "3  Apoptosis+Cancer+Other_Cancer=A2M_+_9268524.25...   GCAGCATAAAGCCCAGTTGCTT   \n",
       "4  Apoptosis+Cancer+Other_Cancer=A2M_+_9268659.23...     GGGATTCTATTTAGCCCGCC   \n",
       "\n",
       "  gene  T0JEV  T0MH  treatedJEV  treatedMH  untreatedJEV  untreatedMH  \n",
       "0  A2M    988  1114         813       1116          1131         1050  \n",
       "1  A2M    587   592         356        526           670          507  \n",
       "2  A2M    843   909         818        721          1057          867  \n",
       "3  A2M    572   655         848        797           855          690  \n",
       "4  A2M    431   417         349        396           394          411  "
      ]
     },
     "execution_count": 2,
     "metadata": {},
     "output_type": "execute_result"
    }
   ],
   "source": [
    "import pandas as pd\n",
    "import seaborn\n",
    "\n",
    "data_loc = '20150112_ctxdta_crispri_mergedcountstable.txt'\n",
    "gilbert_2014 = pd.read_csv(data_loc, sep = '\\t', header = 0)\n",
    "gilbert_2014.head()"
   ]
  },
  {
   "cell_type": "code",
   "execution_count": 3,
   "id": "9d19ace5",
   "metadata": {
    "ExecuteTime": {
     "end_time": "2021-11-24T01:11:50.492460Z",
     "start_time": "2021-11-24T01:11:50.304784Z"
    }
   },
   "outputs": [
    {
     "data": {
      "text/html": [
       "<div>\n",
       "<style scoped>\n",
       "    .dataframe tbody tr th:only-of-type {\n",
       "        vertical-align: middle;\n",
       "    }\n",
       "\n",
       "    .dataframe tbody tr th {\n",
       "        vertical-align: top;\n",
       "    }\n",
       "\n",
       "    .dataframe thead th {\n",
       "        text-align: right;\n",
       "    }\n",
       "</style>\n",
       "<table border=\"1\" class=\"dataframe\">\n",
       "  <thead>\n",
       "    <tr style=\"text-align: right;\">\n",
       "      <th></th>\n",
       "      <th>sgId</th>\n",
       "      <th>sequence</th>\n",
       "      <th>gene</th>\n",
       "      <th>T0JEV</th>\n",
       "      <th>T0MH</th>\n",
       "      <th>treatedJEV</th>\n",
       "      <th>treatedMH</th>\n",
       "      <th>untreatedJEV</th>\n",
       "      <th>untreatedMH</th>\n",
       "      <th>essential_lfc_JEV</th>\n",
       "      <th>essential_lfc_MH</th>\n",
       "      <th>ricin_lfc_MH</th>\n",
       "      <th>ricin_lfc_JEV</th>\n",
       "    </tr>\n",
       "  </thead>\n",
       "  <tbody>\n",
       "    <tr>\n",
       "      <th>0</th>\n",
       "      <td>Apoptosis+Cancer+Other_Cancer=A2M_+_9268488.25...</td>\n",
       "      <td>GACCAGATGGATTGTAGGGAGT</td>\n",
       "      <td>A2M</td>\n",
       "      <td>988</td>\n",
       "      <td>1114</td>\n",
       "      <td>813</td>\n",
       "      <td>1116</td>\n",
       "      <td>1131</td>\n",
       "      <td>1050</td>\n",
       "      <td>0.054000</td>\n",
       "      <td>-0.054468</td>\n",
       "      <td>0.121453</td>\n",
       "      <td>-0.336574</td>\n",
       "    </tr>\n",
       "    <tr>\n",
       "      <th>1</th>\n",
       "      <td>Apoptosis+Cancer+Other_Cancer=A2M_+_9268495.24...</td>\n",
       "      <td>GTTTGGGACCAGATGGATTGT</td>\n",
       "      <td>A2M</td>\n",
       "      <td>587</td>\n",
       "      <td>592</td>\n",
       "      <td>356</td>\n",
       "      <td>526</td>\n",
       "      <td>670</td>\n",
       "      <td>507</td>\n",
       "      <td>0.049665</td>\n",
       "      <td>-0.192390</td>\n",
       "      <td>0.086561</td>\n",
       "      <td>-0.771189</td>\n",
       "    </tr>\n",
       "    <tr>\n",
       "      <th>2</th>\n",
       "      <td>Apoptosis+Cancer+Other_Cancer=A2M_+_9268513.26...</td>\n",
       "      <td>GCCCAGTTGCTTTGGGAAGTGTT</td>\n",
       "      <td>A2M</td>\n",
       "      <td>843</td>\n",
       "      <td>909</td>\n",
       "      <td>818</td>\n",
       "      <td>721</td>\n",
       "      <td>1057</td>\n",
       "      <td>867</td>\n",
       "      <td>0.185193</td>\n",
       "      <td>-0.037358</td>\n",
       "      <td>-0.232110</td>\n",
       "      <td>-0.230205</td>\n",
       "    </tr>\n",
       "    <tr>\n",
       "      <th>3</th>\n",
       "      <td>Apoptosis+Cancer+Other_Cancer=A2M_+_9268524.25...</td>\n",
       "      <td>GCAGCATAAAGCCCAGTTGCTT</td>\n",
       "      <td>A2M</td>\n",
       "      <td>572</td>\n",
       "      <td>655</td>\n",
       "      <td>848</td>\n",
       "      <td>797</td>\n",
       "      <td>855</td>\n",
       "      <td>690</td>\n",
       "      <td>0.438244</td>\n",
       "      <td>0.105803</td>\n",
       "      <td>0.241289</td>\n",
       "      <td>0.127353</td>\n",
       "    </tr>\n",
       "    <tr>\n",
       "      <th>4</th>\n",
       "      <td>Apoptosis+Cancer+Other_Cancer=A2M_+_9268659.23...</td>\n",
       "      <td>GGGATTCTATTTAGCCCGCC</td>\n",
       "      <td>A2M</td>\n",
       "      <td>431</td>\n",
       "      <td>417</td>\n",
       "      <td>349</td>\n",
       "      <td>396</td>\n",
       "      <td>394</td>\n",
       "      <td>411</td>\n",
       "      <td>-0.270010</td>\n",
       "      <td>0.009955</td>\n",
       "      <td>-0.019919</td>\n",
       "      <td>-0.035298</td>\n",
       "    </tr>\n",
       "  </tbody>\n",
       "</table>\n",
       "</div>"
      ],
      "text/plain": [
       "                                                sgId                 sequence  \\\n",
       "0  Apoptosis+Cancer+Other_Cancer=A2M_+_9268488.25...   GACCAGATGGATTGTAGGGAGT   \n",
       "1  Apoptosis+Cancer+Other_Cancer=A2M_+_9268495.24...    GTTTGGGACCAGATGGATTGT   \n",
       "2  Apoptosis+Cancer+Other_Cancer=A2M_+_9268513.26...  GCCCAGTTGCTTTGGGAAGTGTT   \n",
       "3  Apoptosis+Cancer+Other_Cancer=A2M_+_9268524.25...   GCAGCATAAAGCCCAGTTGCTT   \n",
       "4  Apoptosis+Cancer+Other_Cancer=A2M_+_9268659.23...     GGGATTCTATTTAGCCCGCC   \n",
       "\n",
       "  gene  T0JEV  T0MH  treatedJEV  treatedMH  untreatedJEV  untreatedMH  \\\n",
       "0  A2M    988  1114         813       1116          1131         1050   \n",
       "1  A2M    587   592         356        526           670          507   \n",
       "2  A2M    843   909         818        721          1057          867   \n",
       "3  A2M    572   655         848        797           855          690   \n",
       "4  A2M    431   417         349        396           394          411   \n",
       "\n",
       "   essential_lfc_JEV  essential_lfc_MH  ricin_lfc_MH  ricin_lfc_JEV  \n",
       "0           0.054000         -0.054468      0.121453      -0.336574  \n",
       "1           0.049665         -0.192390      0.086561      -0.771189  \n",
       "2           0.185193         -0.037358     -0.232110      -0.230205  \n",
       "3           0.438244          0.105803      0.241289       0.127353  \n",
       "4          -0.270010          0.009955     -0.019919      -0.035298  "
      ]
     },
     "execution_count": 3,
     "metadata": {},
     "output_type": "execute_result"
    }
   ],
   "source": [
    "import numpy as np\n",
    "\n",
    "def log2_fc(df, condition_col, control_col, zero_correction = 1):\n",
    "  # formula is log2(treatment_prob/condition_prob)\n",
    "  # where x_prob is relative proportion\n",
    "  # x_prob = (count + zero_correction) / sum(count + zero_correction)\n",
    "  # more accurate to work in log space\n",
    "  log_num = np.log2(df[condition_col] + zero_correction) - np.log2(sum(df[condition_col] + zero_correction))\n",
    "  log_denom = np.log2(df[control_col] + zero_correction) - np.log2(sum(df[control_col] + zero_correction))\n",
    "  return log_num - log_denom\n",
    "\n",
    "gilbert_2014['essential_lfc_JEV'] = log2_fc(gilbert_2014, \"untreatedJEV\", \"T0JEV\")\n",
    "gilbert_2014['essential_lfc_MH'] = log2_fc(gilbert_2014, \"untreatedMH\", \"T0MH\")\n",
    "gilbert_2014['ricin_lfc_MH'] = log2_fc(gilbert_2014, \"treatedMH\", \"untreatedMH\")\n",
    "gilbert_2014['ricin_lfc_JEV'] = log2_fc(gilbert_2014, \"treatedJEV\", \"untreatedJEV\")\n",
    "\n",
    "gilbert_2014.head()"
   ]
  },
  {
   "cell_type": "code",
   "execution_count": 4,
   "id": "d900e0df",
   "metadata": {
    "ExecuteTime": {
     "end_time": "2021-11-24T01:11:50.930178Z",
     "start_time": "2021-11-24T01:11:50.507022Z"
    }
   },
   "outputs": [
    {
     "data": {
      "text/plain": [
       "Text(0.5, 1.0, 'Distribution of essential log2 fold changes')"
      ]
     },
     "execution_count": 4,
     "metadata": {},
     "output_type": "execute_result"
    },
    {
     "data": {
      "image/png": "[encoded data removed]",
      "text/plain": [
       "<Figure size 432x288 with 1 Axes>"
      ]
     },
     "metadata": {
      "needs_background": "light"
     },
     "output_type": "display_data"
    }
   ],
   "source": [
    "import matplotlib.pyplot as plt\n",
    "\n",
    "fig, ax = plt.subplots()\n",
    "ax = seaborn.scatterplot(x = \"essential_lfc_JEV\", y = \"essential_lfc_MH\", \n",
    "                         data = gilbert_2014, alpha = 0.1, color = 'black')\n",
    "ax.set_xlabel('JEV')\n",
    "ax.set_ylabel('MH')\n",
    "ax.set_title(\"Distribution of essential log2 fold changes\")"
   ]
  },
  {
   "cell_type": "code",
   "execution_count": 5,
   "id": "21de8dab",
   "metadata": {
    "ExecuteTime": {
     "end_time": "2021-11-24T01:11:51.336106Z",
     "start_time": "2021-11-24T01:11:50.932082Z"
    }
   },
   "outputs": [
    {
     "data": {
      "text/plain": [
       "Text(0.5, 1.0, 'Distribution of ricin log2 fold changes')"
      ]
     },
     "execution_count": 5,
     "metadata": {},
     "output_type": "execute_result"
    },
    {
     "data": {
      "image/png": "[encoded data removed]",
      "text/plain": [
       "<Figure size 432x288 with 1 Axes>"
      ]
     },
     "metadata": {
      "needs_background": "light"
     },
     "output_type": "display_data"
    }
   ],
   "source": [
    "fig, ax = plt.subplots()\n",
    "ax = seaborn.scatterplot(x = \"ricin_lfc_JEV\", y = \"ricin_lfc_MH\", \n",
    "                         data = gilbert_2014, alpha = 0.1, color = 'black')\n",
    "ax.set_xlabel('JEV')\n",
    "ax.set_ylabel('MH')\n",
    "ax.set_title(\"Distribution of ricin log2 fold changes\")"
   ]
  },
  {
   "cell_type": "markdown",
   "id": "2fcb544f",
   "metadata": {},
   "source": [
    "We see that the distribution of the log fold changes of the \"essential\" experiment is towards the negative side, while for the \"ricin\" experiment it goes both ways but mostly towards the postive side.  This is a definite difference in the experiments.  "
   ]
  },
  {
   "cell_type": "markdown",
   "id": "00bf6477",
   "metadata": {},
   "source": [
    "# Moderated log fold change\n",
    "\n",
    "We see a lot of noise in the above plots.  Except for the extreme outliers it's difficult to determine what the signal and what's the noise.  A good solution to this problem is using a moderated log fold change.  There are a number of packages to compute this.  The basic idea behind all of them is to smooth the log fold changes towards zero, accounting for noise from sequencing, usually based on a negative binomial regression.  I particularly like DESeq2, but it's implemented in R. "
   ]
  },
  {
   "cell_type": "code",
   "execution_count": 6,
   "id": "aaf0c0aa",
   "metadata": {
    "ExecuteTime": {
     "end_time": "2021-11-24T01:11:52.356482Z",
     "start_time": "2021-11-24T01:11:51.340012Z"
    }
   },
   "outputs": [
    {
     "name": "stdout",
     "output_type": "stream",
     "text": [
      "Requirement already satisfied: rpy2 in /Users/tim.daley/git/interviews/engineer/blog/venv/lib/python3.9/site-packages (3.4.5)\n",
      "Requirement already satisfied: cffi>=1.10.0 in /Users/tim.daley/git/interviews/engineer/blog/venv/lib/python3.9/site-packages (from rpy2) (1.14.5)\n",
      "Requirement already satisfied: jinja2 in /Users/tim.daley/git/interviews/engineer/blog/venv/lib/python3.9/site-packages (from rpy2) (2.11.3)\n",
      "Requirement already satisfied: pytz in /Users/tim.daley/git/interviews/engineer/blog/venv/lib/python3.9/site-packages (from rpy2) (2021.1)\n",
      "Requirement already satisfied: tzlocal in /Users/tim.daley/git/interviews/engineer/blog/venv/lib/python3.9/site-packages (from rpy2) (4.0)\n",
      "Requirement already satisfied: pycparser in /Users/tim.daley/git/interviews/engineer/blog/venv/lib/python3.9/site-packages (from cffi>=1.10.0->rpy2) (2.20)\n",
      "Requirement already satisfied: MarkupSafe>=0.23 in /Users/tim.daley/git/interviews/engineer/blog/venv/lib/python3.9/site-packages (from jinja2->rpy2) (1.1.1)\n",
      "Requirement already satisfied: pytz-deprecation-shim in /Users/tim.daley/git/interviews/engineer/blog/venv/lib/python3.9/site-packages (from tzlocal->rpy2) (0.1.0.post0)\n",
      "Requirement already satisfied: tzdata; python_version >= \"3.6\" in /Users/tim.daley/git/interviews/engineer/blog/venv/lib/python3.9/site-packages (from pytz-deprecation-shim->tzlocal->rpy2) (2021.2.post0)\n",
      "\u001b[33mWARNING: You are using pip version 20.2.3; however, version 21.3.1 is available.\n",
      "You should consider upgrading via the '/Users/tim.daley/git/interviews/engineer/blog/venv/bin/python -m pip install --upgrade pip' command.\u001b[0m\n"
     ]
    }
   ],
   "source": [
    "import sys\n",
    "!{sys.executable} -m pip install rpy2"
   ]
  },
  {
   "cell_type": "code",
   "execution_count": 7,
   "id": "6451bd10",
   "metadata": {
    "ExecuteTime": {
     "end_time": "2021-11-24T01:11:53.533933Z",
     "start_time": "2021-11-24T01:11:52.360426Z"
    }
   },
   "outputs": [],
   "source": [
    "%load_ext rpy2.ipython"
   ]
  },
  {
   "cell_type": "code",
   "execution_count": 8,
   "id": "c6dc6281",
   "metadata": {
    "ExecuteTime": {
     "end_time": "2021-11-24T01:12:58.151170Z",
     "start_time": "2021-11-24T01:11:53.536213Z"
    }
   },
   "outputs": [
    {
     "name": "stderr",
     "output_type": "stream",
     "text": [
      "R[write to console]: Loading required package: DESeq2\n",
      "\n",
      "R[write to console]: Loading required package: S4Vectors\n",
      "\n",
      "R[write to console]: Loading required package: stats4\n",
      "\n",
      "R[write to console]: Loading required package: BiocGenerics\n",
      "\n",
      "R[write to console]: Loading required package: parallel\n",
      "\n",
      "R[write to console]: \n",
      "Attaching package: ‘BiocGenerics’\n",
      "\n",
      "\n",
      "R[write to console]: The following objects are masked from ‘package:parallel’:\n",
      "\n",
      "    clusterApply, clusterApplyLB, clusterCall, clusterEvalQ,\n",
      "    clusterExport, clusterMap, parApply, parCapply, parLapply,\n",
      "    parLapplyLB, parRapply, parSapply, parSapplyLB\n",
      "\n",
      "\n",
      "R[write to console]: The following objects are masked from ‘package:stats’:\n",
      "\n",
      "    IQR, mad, sd, var, xtabs\n",
      "\n",
      "\n",
      "R[write to console]: The following objects are masked from ‘package:base’:\n",
      "\n",
      "    anyDuplicated, append, as.data.frame, basename, cbind, colnames,\n",
      "    dirname, do.call, duplicated, eval, evalq, Filter, Find, get, grep,\n",
      "    grepl, intersect, is.unsorted, lapply, Map, mapply, match, mget,\n",
      "    order, paste, pmax, pmax.int, pmin, pmin.int, Position, rank,\n",
      "    rbind, Reduce, rownames, sapply, setdiff, sort, table, tapply,\n",
      "    union, unique, unsplit, which, which.max, which.min\n",
      "\n",
      "\n",
      "R[write to console]: \n",
      "Attaching package: ‘S4Vectors’\n",
      "\n",
      "\n",
      "R[write to console]: The following object is masked from ‘package:base’:\n",
      "\n",
      "    expand.grid\n",
      "\n",
      "\n",
      "R[write to console]: Loading required package: IRanges\n",
      "\n",
      "R[write to console]: Loading required package: GenomicRanges\n",
      "\n",
      "R[write to console]: Loading required package: GenomeInfoDb\n",
      "\n",
      "R[write to console]: Loading required package: SummarizedExperiment\n",
      "\n",
      "R[write to console]: Loading required package: Biobase\n",
      "\n",
      "R[write to console]: Welcome to Bioconductor\n",
      "\n",
      "    Vignettes contain introductory material; view with\n",
      "    'browseVignettes()'. To cite Bioconductor, see\n",
      "    'citation(\"Biobase\")', and for packages 'citation(\"pkgname\")'.\n",
      "\n",
      "\n",
      "R[write to console]: Loading required package: DelayedArray\n",
      "\n",
      "R[write to console]: Loading required package: matrixStats\n",
      "\n",
      "R[write to console]: \n",
      "Attaching package: ‘matrixStats’\n",
      "\n",
      "\n",
      "R[write to console]: The following objects are masked from ‘package:Biobase’:\n",
      "\n",
      "    anyMissing, rowMedians\n",
      "\n",
      "\n",
      "R[write to console]: \n",
      "Attaching package: ‘DelayedArray’\n",
      "\n",
      "\n",
      "R[write to console]: The following objects are masked from ‘package:matrixStats’:\n",
      "\n",
      "    colMaxs, colMins, colRanges, rowMaxs, rowMins, rowRanges\n",
      "\n",
      "\n",
      "R[write to console]: The following objects are masked from ‘package:base’:\n",
      "\n",
      "    aperm, apply, rowsum\n",
      "\n",
      "\n",
      "R[write to console]: Loading required package: ggplot2\n",
      "\n",
      "R[write to console]:   the design formula contains one or more numeric variables with integer values,\n",
      "  specifying a model with increasing fold change for higher values.\n",
      "  did you mean for this to be a factor? if so, first convert\n",
      "  this variable to a factor using the factor() function\n",
      "\n",
      "R[write to console]: estimating size factors\n",
      "\n",
      "R[write to console]: estimating dispersions\n",
      "\n",
      "R[write to console]: gene-wise dispersion estimates\n",
      "\n",
      "R[write to console]: mean-dispersion relationship\n",
      "\n",
      "R[write to console]: -- note: fitType='parametric', but the dispersion trend was not well captured by the\n",
      "   function: y = a/x + b, and a local regression fit was automatically substituted.\n",
      "   specify fitType='local' or 'mean' to avoid this message next time.\n",
      "\n",
      "R[write to console]: final dispersion estimates\n",
      "\n",
      "R[write to console]: fitting model and testing\n",
      "\n"
     ]
    }
   ],
   "source": [
    "import warnings\n",
    "warnings.filterwarnings('ignore')\n",
    "%R require(DESeq2); require(ggplot2); \n",
    "%Rpush gilbert_2014\n",
    "%R counts = gilbert_2014[, c(4, 5, 8, 9)]; coldata = data.frame(condition = c(0, 0, 1, 1), rep = c(0, 1, 0, 1)); \\\n",
    "  rownames(coldata) = colnames(counts);\\\n",
    "  WeissmanCRISPRiRicinTreatmentUntreatedVsDay0DESeq = DESeq2::DESeqDataSetFromMatrix(countData = counts, colData = coldata, design = ~ condition);\\\n",
    "  WeissmanCRISPRiRicinTreatmentUntreatedVsDay0DESeq = DESeq2::DESeq(WeissmanCRISPRiRicinTreatmentUntreatedVsDay0DESeq);\\\n",
    "  WeissmanCRISPRiRicinTreatmentUntreatedVsDay0DESeq = DESeq2::results(WeissmanCRISPRiRicinTreatmentUntreatedVsDay0DESeq);\\\n",
    "  log2fc = WeissmanCRISPRiRicinTreatmentUntreatedVsDay0DESeq$log2FoldChange;\\\n",
    "  adj_pvals = WeissmanCRISPRiRicinTreatmentUntreatedVsDay0DESeq$padj\n",
    "%Rpull log2fc adj_pvals"
   ]
  },
  {
   "cell_type": "code",
   "execution_count": 9,
   "id": "34113880",
   "metadata": {
    "ExecuteTime": {
     "end_time": "2021-11-24T01:12:58.810234Z",
     "start_time": "2021-11-24T01:12:58.152934Z"
    }
   },
   "outputs": [
    {
     "data": {
      "text/html": [
       "<div>\n",
       "<style scoped>\n",
       "    .dataframe tbody tr th:only-of-type {\n",
       "        vertical-align: middle;\n",
       "    }\n",
       "\n",
       "    .dataframe tbody tr th {\n",
       "        vertical-align: top;\n",
       "    }\n",
       "\n",
       "    .dataframe thead th {\n",
       "        text-align: right;\n",
       "    }\n",
       "</style>\n",
       "<table border=\"1\" class=\"dataframe\">\n",
       "  <thead>\n",
       "    <tr style=\"text-align: right;\">\n",
       "      <th></th>\n",
       "      <th>sgId</th>\n",
       "      <th>sequence</th>\n",
       "      <th>gene</th>\n",
       "      <th>T0JEV</th>\n",
       "      <th>T0MH</th>\n",
       "      <th>treatedJEV</th>\n",
       "      <th>treatedMH</th>\n",
       "      <th>untreatedJEV</th>\n",
       "      <th>untreatedMH</th>\n",
       "      <th>essential_lfc_JEV</th>\n",
       "      <th>essential_lfc_MH</th>\n",
       "      <th>ricin_lfc_MH</th>\n",
       "      <th>ricin_lfc_JEV</th>\n",
       "      <th>essential_moderated_log2fc</th>\n",
       "      <th>essential_moderated_adj_pval</th>\n",
       "    </tr>\n",
       "  </thead>\n",
       "  <tbody>\n",
       "    <tr>\n",
       "      <th>0</th>\n",
       "      <td>Apoptosis+Cancer+Other_Cancer=A2M_+_9268488.25...</td>\n",
       "      <td>GACCAGATGGATTGTAGGGAGT</td>\n",
       "      <td>A2M</td>\n",
       "      <td>988</td>\n",
       "      <td>1114</td>\n",
       "      <td>813</td>\n",
       "      <td>1116</td>\n",
       "      <td>1131</td>\n",
       "      <td>1050</td>\n",
       "      <td>0.054000</td>\n",
       "      <td>-0.054468</td>\n",
       "      <td>0.121453</td>\n",
       "      <td>-0.336574</td>\n",
       "      <td>-0.026463</td>\n",
       "      <td>0.999736</td>\n",
       "    </tr>\n",
       "    <tr>\n",
       "      <th>1</th>\n",
       "      <td>Apoptosis+Cancer+Other_Cancer=A2M_+_9268495.24...</td>\n",
       "      <td>GTTTGGGACCAGATGGATTGT</td>\n",
       "      <td>A2M</td>\n",
       "      <td>587</td>\n",
       "      <td>592</td>\n",
       "      <td>356</td>\n",
       "      <td>526</td>\n",
       "      <td>670</td>\n",
       "      <td>507</td>\n",
       "      <td>0.049665</td>\n",
       "      <td>-0.192390</td>\n",
       "      <td>0.086561</td>\n",
       "      <td>-0.771189</td>\n",
       "      <td>-0.087428</td>\n",
       "      <td>0.996625</td>\n",
       "    </tr>\n",
       "    <tr>\n",
       "      <th>2</th>\n",
       "      <td>Apoptosis+Cancer+Other_Cancer=A2M_+_9268513.26...</td>\n",
       "      <td>GCCCAGTTGCTTTGGGAAGTGTT</td>\n",
       "      <td>A2M</td>\n",
       "      <td>843</td>\n",
       "      <td>909</td>\n",
       "      <td>818</td>\n",
       "      <td>721</td>\n",
       "      <td>1057</td>\n",
       "      <td>867</td>\n",
       "      <td>0.185193</td>\n",
       "      <td>-0.037358</td>\n",
       "      <td>-0.232110</td>\n",
       "      <td>-0.230205</td>\n",
       "      <td>0.052726</td>\n",
       "      <td>0.999736</td>\n",
       "    </tr>\n",
       "    <tr>\n",
       "      <th>3</th>\n",
       "      <td>Apoptosis+Cancer+Other_Cancer=A2M_+_9268524.25...</td>\n",
       "      <td>GCAGCATAAAGCCCAGTTGCTT</td>\n",
       "      <td>A2M</td>\n",
       "      <td>572</td>\n",
       "      <td>655</td>\n",
       "      <td>848</td>\n",
       "      <td>797</td>\n",
       "      <td>855</td>\n",
       "      <td>690</td>\n",
       "      <td>0.438244</td>\n",
       "      <td>0.105803</td>\n",
       "      <td>0.241289</td>\n",
       "      <td>0.127353</td>\n",
       "      <td>0.251089</td>\n",
       "      <td>0.536598</td>\n",
       "    </tr>\n",
       "    <tr>\n",
       "      <th>4</th>\n",
       "      <td>Apoptosis+Cancer+Other_Cancer=A2M_+_9268659.23...</td>\n",
       "      <td>GGGATTCTATTTAGCCCGCC</td>\n",
       "      <td>A2M</td>\n",
       "      <td>431</td>\n",
       "      <td>417</td>\n",
       "      <td>349</td>\n",
       "      <td>396</td>\n",
       "      <td>394</td>\n",
       "      <td>411</td>\n",
       "      <td>-0.270010</td>\n",
       "      <td>0.009955</td>\n",
       "      <td>-0.019919</td>\n",
       "      <td>-0.035298</td>\n",
       "      <td>-0.156360</td>\n",
       "      <td>0.960393</td>\n",
       "    </tr>\n",
       "  </tbody>\n",
       "</table>\n",
       "</div>"
      ],
      "text/plain": [
       "                                                sgId                 sequence  \\\n",
       "0  Apoptosis+Cancer+Other_Cancer=A2M_+_9268488.25...   GACCAGATGGATTGTAGGGAGT   \n",
       "1  Apoptosis+Cancer+Other_Cancer=A2M_+_9268495.24...    GTTTGGGACCAGATGGATTGT   \n",
       "2  Apoptosis+Cancer+Other_Cancer=A2M_+_9268513.26...  GCCCAGTTGCTTTGGGAAGTGTT   \n",
       "3  Apoptosis+Cancer+Other_Cancer=A2M_+_9268524.25...   GCAGCATAAAGCCCAGTTGCTT   \n",
       "4  Apoptosis+Cancer+Other_Cancer=A2M_+_9268659.23...     GGGATTCTATTTAGCCCGCC   \n",
       "\n",
       "  gene  T0JEV  T0MH  treatedJEV  treatedMH  untreatedJEV  untreatedMH  \\\n",
       "0  A2M    988  1114         813       1116          1131         1050   \n",
       "1  A2M    587   592         356        526           670          507   \n",
       "2  A2M    843   909         818        721          1057          867   \n",
       "3  A2M    572   655         848        797           855          690   \n",
       "4  A2M    431   417         349        396           394          411   \n",
       "\n",
       "   essential_lfc_JEV  essential_lfc_MH  ricin_lfc_MH  ricin_lfc_JEV  \\\n",
       "0           0.054000         -0.054468      0.121453      -0.336574   \n",
       "1           0.049665         -0.192390      0.086561      -0.771189   \n",
       "2           0.185193         -0.037358     -0.232110      -0.230205   \n",
       "3           0.438244          0.105803      0.241289       0.127353   \n",
       "4          -0.270010          0.009955     -0.019919      -0.035298   \n",
       "\n",
       "   essential_moderated_log2fc  essential_moderated_adj_pval  \n",
       "0                   -0.026463                      0.999736  \n",
       "1                   -0.087428                      0.996625  \n",
       "2                    0.052726                      0.999736  \n",
       "3                    0.251089                      0.536598  \n",
       "4                   -0.156360                      0.960393  "
      ]
     },
     "execution_count": 9,
     "metadata": {},
     "output_type": "execute_result"
    }
   ],
   "source": [
    "gilbert_2014['essential_moderated_log2fc'] = log2fc\n",
    "gilbert_2014['essential_moderated_adj_pval'] = adj_pvals\n",
    "gilbert_2014.head()"
   ]
  },
  {
   "cell_type": "code",
   "execution_count": 10,
   "id": "ea5175a9",
   "metadata": {
    "ExecuteTime": {
     "end_time": "2021-11-24T01:13:52.695913Z",
     "start_time": "2021-11-24T01:12:58.812963Z"
    }
   },
   "outputs": [
    {
     "name": "stderr",
     "output_type": "stream",
     "text": [
      "R[write to console]:   the design formula contains one or more numeric variables with integer values,\n",
      "  specifying a model with increasing fold change for higher values.\n",
      "  did you mean for this to be a factor? if so, first convert\n",
      "  this variable to a factor using the factor() function\n",
      "\n",
      "R[write to console]: estimating size factors\n",
      "\n",
      "R[write to console]: estimating dispersions\n",
      "\n",
      "R[write to console]: gene-wise dispersion estimates\n",
      "\n",
      "R[write to console]: mean-dispersion relationship\n",
      "\n",
      "R[write to console]: final dispersion estimates\n",
      "\n",
      "R[write to console]: fitting model and testing\n",
      "\n"
     ]
    }
   ],
   "source": [
    "import warnings\n",
    "warnings.filterwarnings('ignore')\n",
    "%R require(DESeq2); require(ggplot2); \n",
    "%Rpush gilbert_2014\n",
    "%R counts = gilbert_2014[, c(8, 9, 6, 7)]; coldata = data.frame(condition = c(0, 0, 1, 1), rep = c(0, 1, 0, 1)); \\\n",
    "  rownames(coldata) = colnames(counts);\\\n",
    "  WeissmanCRISPRiRicinTreatmentDESeq = DESeq2::DESeqDataSetFromMatrix(countData = counts, colData = coldata, design = ~ condition);\\\n",
    "  WeissmanCRISPRiRicinTreatmentDESeq = DESeq2::DESeq(WeissmanCRISPRiRicinTreatmentDESeq);\\\n",
    "  WeissmanCRISPRiRicinTreatmentDESeq = DESeq2::results(WeissmanCRISPRiRicinTreatmentDESeq);\\\n",
    "  log2fc = WeissmanCRISPRiRicinTreatmentDESeq$log2FoldChange;\\\n",
    "  adj_pvals = WeissmanCRISPRiRicinTreatmentDESeq$padj\n",
    "%Rpull log2fc adj_pvals"
   ]
  },
  {
   "cell_type": "code",
   "execution_count": 11,
   "id": "bde8e8f3",
   "metadata": {
    "ExecuteTime": {
     "end_time": "2021-11-24T01:13:53.337081Z",
     "start_time": "2021-11-24T01:13:52.697648Z"
    }
   },
   "outputs": [
    {
     "data": {
      "text/html": [
       "<div>\n",
       "<style scoped>\n",
       "    .dataframe tbody tr th:only-of-type {\n",
       "        vertical-align: middle;\n",
       "    }\n",
       "\n",
       "    .dataframe tbody tr th {\n",
       "        vertical-align: top;\n",
       "    }\n",
       "\n",
       "    .dataframe thead th {\n",
       "        text-align: right;\n",
       "    }\n",
       "</style>\n",
       "<table border=\"1\" class=\"dataframe\">\n",
       "  <thead>\n",
       "    <tr style=\"text-align: right;\">\n",
       "      <th></th>\n",
       "      <th>sgId</th>\n",
       "      <th>sequence</th>\n",
       "      <th>gene</th>\n",
       "      <th>T0JEV</th>\n",
       "      <th>T0MH</th>\n",
       "      <th>treatedJEV</th>\n",
       "      <th>treatedMH</th>\n",
       "      <th>untreatedJEV</th>\n",
       "      <th>untreatedMH</th>\n",
       "      <th>essential_lfc_JEV</th>\n",
       "      <th>essential_lfc_MH</th>\n",
       "      <th>ricin_lfc_MH</th>\n",
       "      <th>ricin_lfc_JEV</th>\n",
       "      <th>essential_moderated_log2fc</th>\n",
       "      <th>essential_moderated_adj_pval</th>\n",
       "      <th>ricin_moderated_log2fc</th>\n",
       "      <th>ricin_moderated_adj_pval</th>\n",
       "    </tr>\n",
       "  </thead>\n",
       "  <tbody>\n",
       "    <tr>\n",
       "      <th>0</th>\n",
       "      <td>Apoptosis+Cancer+Other_Cancer=A2M_+_9268488.25...</td>\n",
       "      <td>GACCAGATGGATTGTAGGGAGT</td>\n",
       "      <td>A2M</td>\n",
       "      <td>988</td>\n",
       "      <td>1114</td>\n",
       "      <td>813</td>\n",
       "      <td>1116</td>\n",
       "      <td>1131</td>\n",
       "      <td>1050</td>\n",
       "      <td>0.054000</td>\n",
       "      <td>-0.054468</td>\n",
       "      <td>0.121453</td>\n",
       "      <td>-0.336574</td>\n",
       "      <td>-0.026463</td>\n",
       "      <td>0.999736</td>\n",
       "      <td>0.085196</td>\n",
       "      <td>0.984008</td>\n",
       "    </tr>\n",
       "    <tr>\n",
       "      <th>1</th>\n",
       "      <td>Apoptosis+Cancer+Other_Cancer=A2M_+_9268495.24...</td>\n",
       "      <td>GTTTGGGACCAGATGGATTGT</td>\n",
       "      <td>A2M</td>\n",
       "      <td>587</td>\n",
       "      <td>592</td>\n",
       "      <td>356</td>\n",
       "      <td>526</td>\n",
       "      <td>670</td>\n",
       "      <td>507</td>\n",
       "      <td>0.049665</td>\n",
       "      <td>-0.192390</td>\n",
       "      <td>0.086561</td>\n",
       "      <td>-0.771189</td>\n",
       "      <td>-0.087428</td>\n",
       "      <td>0.996625</td>\n",
       "      <td>-0.151280</td>\n",
       "      <td>0.974268</td>\n",
       "    </tr>\n",
       "    <tr>\n",
       "      <th>2</th>\n",
       "      <td>Apoptosis+Cancer+Other_Cancer=A2M_+_9268513.26...</td>\n",
       "      <td>GCCCAGTTGCTTTGGGAAGTGTT</td>\n",
       "      <td>A2M</td>\n",
       "      <td>843</td>\n",
       "      <td>909</td>\n",
       "      <td>818</td>\n",
       "      <td>721</td>\n",
       "      <td>1057</td>\n",
       "      <td>867</td>\n",
       "      <td>0.185193</td>\n",
       "      <td>-0.037358</td>\n",
       "      <td>-0.232110</td>\n",
       "      <td>-0.230205</td>\n",
       "      <td>0.052726</td>\n",
       "      <td>0.999736</td>\n",
       "      <td>-0.054219</td>\n",
       "      <td>0.990361</td>\n",
       "    </tr>\n",
       "    <tr>\n",
       "      <th>3</th>\n",
       "      <td>Apoptosis+Cancer+Other_Cancer=A2M_+_9268524.25...</td>\n",
       "      <td>GCAGCATAAAGCCCAGTTGCTT</td>\n",
       "      <td>A2M</td>\n",
       "      <td>572</td>\n",
       "      <td>655</td>\n",
       "      <td>848</td>\n",
       "      <td>797</td>\n",
       "      <td>855</td>\n",
       "      <td>690</td>\n",
       "      <td>0.438244</td>\n",
       "      <td>0.105803</td>\n",
       "      <td>0.241289</td>\n",
       "      <td>0.127353</td>\n",
       "      <td>0.251089</td>\n",
       "      <td>0.536598</td>\n",
       "      <td>0.358094</td>\n",
       "      <td>0.832268</td>\n",
       "    </tr>\n",
       "    <tr>\n",
       "      <th>4</th>\n",
       "      <td>Apoptosis+Cancer+Other_Cancer=A2M_+_9268659.23...</td>\n",
       "      <td>GGGATTCTATTTAGCCCGCC</td>\n",
       "      <td>A2M</td>\n",
       "      <td>431</td>\n",
       "      <td>417</td>\n",
       "      <td>349</td>\n",
       "      <td>396</td>\n",
       "      <td>394</td>\n",
       "      <td>411</td>\n",
       "      <td>-0.270010</td>\n",
       "      <td>0.009955</td>\n",
       "      <td>-0.019919</td>\n",
       "      <td>-0.035298</td>\n",
       "      <td>-0.156360</td>\n",
       "      <td>0.960393</td>\n",
       "      <td>0.150326</td>\n",
       "      <td>0.973473</td>\n",
       "    </tr>\n",
       "  </tbody>\n",
       "</table>\n",
       "</div>"
      ],
      "text/plain": [
       "                                                sgId                 sequence  \\\n",
       "0  Apoptosis+Cancer+Other_Cancer=A2M_+_9268488.25...   GACCAGATGGATTGTAGGGAGT   \n",
       "1  Apoptosis+Cancer+Other_Cancer=A2M_+_9268495.24...    GTTTGGGACCAGATGGATTGT   \n",
       "2  Apoptosis+Cancer+Other_Cancer=A2M_+_9268513.26...  GCCCAGTTGCTTTGGGAAGTGTT   \n",
       "3  Apoptosis+Cancer+Other_Cancer=A2M_+_9268524.25...   GCAGCATAAAGCCCAGTTGCTT   \n",
       "4  Apoptosis+Cancer+Other_Cancer=A2M_+_9268659.23...     GGGATTCTATTTAGCCCGCC   \n",
       "\n",
       "  gene  T0JEV  T0MH  treatedJEV  treatedMH  untreatedJEV  untreatedMH  \\\n",
       "0  A2M    988  1114         813       1116          1131         1050   \n",
       "1  A2M    587   592         356        526           670          507   \n",
       "2  A2M    843   909         818        721          1057          867   \n",
       "3  A2M    572   655         848        797           855          690   \n",
       "4  A2M    431   417         349        396           394          411   \n",
       "\n",
       "   essential_lfc_JEV  essential_lfc_MH  ricin_lfc_MH  ricin_lfc_JEV  \\\n",
       "0           0.054000         -0.054468      0.121453      -0.336574   \n",
       "1           0.049665         -0.192390      0.086561      -0.771189   \n",
       "2           0.185193         -0.037358     -0.232110      -0.230205   \n",
       "3           0.438244          0.105803      0.241289       0.127353   \n",
       "4          -0.270010          0.009955     -0.019919      -0.035298   \n",
       "\n",
       "   essential_moderated_log2fc  essential_moderated_adj_pval  \\\n",
       "0                   -0.026463                      0.999736   \n",
       "1                   -0.087428                      0.996625   \n",
       "2                    0.052726                      0.999736   \n",
       "3                    0.251089                      0.536598   \n",
       "4                   -0.156360                      0.960393   \n",
       "\n",
       "   ricin_moderated_log2fc  ricin_moderated_adj_pval  \n",
       "0                0.085196                  0.984008  \n",
       "1               -0.151280                  0.974268  \n",
       "2               -0.054219                  0.990361  \n",
       "3                0.358094                  0.832268  \n",
       "4                0.150326                  0.973473  "
      ]
     },
     "execution_count": 11,
     "metadata": {},
     "output_type": "execute_result"
    }
   ],
   "source": [
    "gilbert_2014['ricin_moderated_log2fc'] = log2fc\n",
    "gilbert_2014['ricin_moderated_adj_pval'] = adj_pvals\n",
    "gilbert_2014.head()"
   ]
  },
  {
   "cell_type": "markdown",
   "id": "43e75600",
   "metadata": {},
   "source": [
    "Let's compare the moderated log fold changes to the average of the individual log fold changes.  "
   ]
  },
  {
   "cell_type": "code",
   "execution_count": 12,
   "id": "c475be01",
   "metadata": {
    "ExecuteTime": {
     "end_time": "2021-11-24T01:13:53.372305Z",
     "start_time": "2021-11-24T01:13:53.339175Z"
    }
   },
   "outputs": [],
   "source": [
    "gilbert_2014['ricin_lfc_avg'] = gilbert_2014[['ricin_lfc_MH', 'ricin_lfc_JEV']].mean(axis=1)\n",
    "gilbert_2014['essential_lfc_avg'] = gilbert_2014[['essential_lfc_JEV', 'essential_lfc_MH']].mean(axis=1)"
   ]
  },
  {
   "cell_type": "code",
   "execution_count": 13,
   "id": "a211d29e",
   "metadata": {
    "ExecuteTime": {
     "end_time": "2021-11-24T01:13:53.796729Z",
     "start_time": "2021-11-24T01:13:53.374565Z"
    }
   },
   "outputs": [
    {
     "data": {
      "text/plain": [
       "<AxesSubplot:xlabel='essential_moderated_log2fc', ylabel='essential_lfc_avg'>"
      ]
     },
     "execution_count": 13,
     "metadata": {},
     "output_type": "execute_result"
    },
    {
     "data": {
      "image/png": "[encoded data removed]",
      "text/plain": [
       "<Figure size 432x288 with 1 Axes>"
      ]
     },
     "metadata": {
      "needs_background": "light"
     },
     "output_type": "display_data"
    }
   ],
   "source": [
    "seaborn.scatterplot(x = 'essential_moderated_log2fc', y = 'essential_lfc_avg', \n",
    "                    data = gilbert_2014, alpha = 0.2, color = 'black')"
   ]
  },
  {
   "cell_type": "code",
   "execution_count": 14,
   "id": "a4ae3c26",
   "metadata": {
    "ExecuteTime": {
     "end_time": "2021-11-24T01:13:55.012104Z",
     "start_time": "2021-11-24T01:13:53.798488Z"
    }
   },
   "outputs": [
    {
     "data": {
      "text/plain": [
       "<matplotlib.legend.Legend at 0x138a02610>"
      ]
     },
     "execution_count": 14,
     "metadata": {},
     "output_type": "execute_result"
    },
    {
     "data": {
      "image/png": "[encoded data removed]",
      "text/plain": [
       "<Figure size 432x288 with 1 Axes>"
      ]
     },
     "metadata": {
      "needs_background": "light"
     },
     "output_type": "display_data"
    }
   ],
   "source": [
    "fig, ax = plt.subplots()\n",
    "for x in ['essential_moderated_log2fc', 'essential_lfc_avg']:\n",
    "    seaborn.kdeplot(gilbert_2014[x], ax=ax, label = x)\n",
    "ax.set_xlim(-12, 6)\n",
    "ax.legend()"
   ]
  },
  {
   "cell_type": "code",
   "execution_count": 15,
   "id": "135cd142",
   "metadata": {
    "ExecuteTime": {
     "end_time": "2021-11-24T01:13:55.436133Z",
     "start_time": "2021-11-24T01:13:55.014729Z"
    }
   },
   "outputs": [
    {
     "data": {
      "text/plain": [
       "<AxesSubplot:xlabel='ricin_moderated_log2fc', ylabel='ricin_lfc_avg'>"
      ]
     },
     "execution_count": 15,
     "metadata": {},
     "output_type": "execute_result"
    },
    {
     "data": {
      "image/png": "[encoded data removed]",
      "text/plain": [
       "<Figure size 432x288 with 1 Axes>"
      ]
     },
     "metadata": {
      "needs_background": "light"
     },
     "output_type": "display_data"
    }
   ],
   "source": [
    "seaborn.scatterplot(x = 'ricin_moderated_log2fc', y = 'ricin_lfc_avg', \n",
    "                    data = gilbert_2014, alpha = 0.2, color = 'black')"
   ]
  },
  {
   "cell_type": "code",
   "execution_count": 16,
   "id": "62730b69",
   "metadata": {
    "ExecuteTime": {
     "end_time": "2021-11-24T01:13:56.635130Z",
     "start_time": "2021-11-24T01:13:55.437975Z"
    }
   },
   "outputs": [
    {
     "data": {
      "text/plain": [
       "<matplotlib.legend.Legend at 0x13b5d2610>"
      ]
     },
     "execution_count": 16,
     "metadata": {},
     "output_type": "execute_result"
    },
    {
     "data": {
      "image/png": "[encoded data removed]",
      "text/plain": [
       "<Figure size 432x288 with 1 Axes>"
      ]
     },
     "metadata": {
      "needs_background": "light"
     },
     "output_type": "display_data"
    }
   ],
   "source": [
    "fig, ax = plt.subplots()\n",
    "for x in ['ricin_moderated_log2fc', 'ricin_lfc_avg']:\n",
    "    seaborn.kdeplot(gilbert_2014[x], ax=ax, label = x)\n",
    "ax.set_xlim(-12, 6)\n",
    "ax.legend()"
   ]
  },
  {
   "cell_type": "code",
   "execution_count": 17,
   "id": "560031ff",
   "metadata": {
    "ExecuteTime": {
     "end_time": "2021-11-24T01:13:56.643631Z",
     "start_time": "2021-11-24T01:13:56.637128Z"
    }
   },
   "outputs": [
    {
     "data": {
      "text/plain": [
       "[0.024711828301861735, -0.19521762342504134]"
      ]
     },
     "execution_count": 17,
     "metadata": {},
     "output_type": "execute_result"
    }
   ],
   "source": [
    "[gilbert_2014['ricin_moderated_log2fc'].mean(), gilbert_2014['ricin_lfc_avg'].mean()]"
   ]
  },
  {
   "cell_type": "markdown",
   "id": "2a9c01c7",
   "metadata": {},
   "source": [
    "Note the difference in means between the moderated log fold change and the average of the individual log fold changes.  The former is close to zero, while the latter seems a bit different than zero.  It's worth checking the distribution of negative control guides. "
   ]
  },
  {
   "cell_type": "code",
   "execution_count": 18,
   "id": "933a8cbd",
   "metadata": {
    "ExecuteTime": {
     "end_time": "2021-11-24T01:13:56.677621Z",
     "start_time": "2021-11-24T01:13:56.647053Z"
    }
   },
   "outputs": [
    {
     "data": {
      "text/plain": [
       "negative_control    10569\n",
       "EIF4G2                 56\n",
       "EIF5A                  52\n",
       "MATR3                  50\n",
       "UBTF                   50\n",
       "                    ...  \n",
       "RGS18                   6\n",
       "GZMK                    6\n",
       "PTPRQ                   6\n",
       "ZNF705D                 4\n",
       "IFNA6                   4\n",
       "Name: gene, Length: 15976, dtype: int64"
      ]
     },
     "execution_count": 18,
     "metadata": {},
     "output_type": "execute_result"
    }
   ],
   "source": [
    "gilbert_2014['gene'].value_counts()"
   ]
  },
  {
   "cell_type": "code",
   "execution_count": 19,
   "id": "1367206a",
   "metadata": {
    "ExecuteTime": {
     "end_time": "2021-11-24T01:13:57.482932Z",
     "start_time": "2021-11-24T01:13:56.680843Z"
    }
   },
   "outputs": [
    {
     "data": {
      "text/plain": [
       "<matplotlib.legend.Legend at 0x1370911f0>"
      ]
     },
     "execution_count": 19,
     "metadata": {},
     "output_type": "execute_result"
    },
    {
     "data": {
      "image/png": "[encoded data removed]",
      "text/plain": [
       "<Figure size 432x288 with 1 Axes>"
      ]
     },
     "metadata": {
      "needs_background": "light"
     },
     "output_type": "display_data"
    }
   ],
   "source": [
    "neg_ctrl_flag = (gilbert_2014['gene'] == 'negative_control')\n",
    "\n",
    "fig, ax = plt.subplots()\n",
    "seaborn.kdeplot(gilbert_2014[neg_ctrl_flag]['ricin_moderated_log2fc'], ax=ax, \n",
    "                label = 'negative control', color = 'darkred')\n",
    "seaborn.kdeplot(gilbert_2014[~neg_ctrl_flag]['ricin_moderated_log2fc'], ax=ax, \n",
    "                label = 'gene targeting', color = 'skyblue')\n",
    "ax.set_xlim(-12, 6)\n",
    "ax.legend()"
   ]
  },
  {
   "cell_type": "code",
   "execution_count": 20,
   "id": "6783dfae",
   "metadata": {
    "ExecuteTime": {
     "end_time": "2021-11-24T01:13:58.176160Z",
     "start_time": "2021-11-24T01:13:57.484782Z"
    }
   },
   "outputs": [
    {
     "data": {
      "text/plain": [
       "<matplotlib.legend.Legend at 0x138ad51f0>"
      ]
     },
     "execution_count": 20,
     "metadata": {},
     "output_type": "execute_result"
    },
    {
     "data": {
      "image/png": "[encoded data removed]",
      "text/plain": [
       "<Figure size 432x288 with 1 Axes>"
      ]
     },
     "metadata": {
      "needs_background": "light"
     },
     "output_type": "display_data"
    }
   ],
   "source": [
    "fig, ax = plt.subplots()\n",
    "seaborn.kdeplot(gilbert_2014[neg_ctrl_flag]['ricin_lfc_avg'], ax=ax, \n",
    "                label = 'negative control', color = 'darkred')\n",
    "seaborn.kdeplot(gilbert_2014[~neg_ctrl_flag]['ricin_lfc_avg'], ax=ax, \n",
    "                label = 'gene targeting', color = 'skyblue')\n",
    "ax.set_xlim(-12, 6)\n",
    "ax.legend()"
   ]
  },
  {
   "cell_type": "markdown",
   "id": "2e02dd7e",
   "metadata": {},
   "source": [
    "# The importance of negative controls\n",
    "\n",
    "Negative control guides give us an estimate of the null distribution.  It's always good to check the distribution of the negative control guides.  One thing to check is whether the peaks of the gene targeting and the peak of the negative control guides match up.  This validates the assumption that most genes have no effect.  The other main thing to check is if there's a over-representation of the gene targeting guides in the tail in which you expect the signal to lie.  For example, in the essential log fold change we expect an over-representation towards the negative end of the log fold change.  This gives us an assurance that there is a signal present in the data."
   ]
  },
  {
   "cell_type": "code",
   "execution_count": 21,
   "id": "dd587bec",
   "metadata": {
    "ExecuteTime": {
     "end_time": "2021-11-24T01:13:58.862329Z",
     "start_time": "2021-11-24T01:13:58.185478Z"
    }
   },
   "outputs": [
    {
     "data": {
      "text/plain": [
       "<matplotlib.legend.Legend at 0x138b175b0>"
      ]
     },
     "execution_count": 21,
     "metadata": {},
     "output_type": "execute_result"
    },
    {
     "data": {
      "image/png": "[encoded data removed]",
      "text/plain": [
       "<Figure size 432x288 with 1 Axes>"
      ]
     },
     "metadata": {
      "needs_background": "light"
     },
     "output_type": "display_data"
    }
   ],
   "source": [
    "fig, ax = plt.subplots()\n",
    "seaborn.kdeplot(gilbert_2014[neg_ctrl_flag]['essential_moderated_log2fc'], ax=ax, \n",
    "                label = 'negative control', color = 'darkred')\n",
    "seaborn.kdeplot(gilbert_2014[~neg_ctrl_flag]['essential_moderated_log2fc'], ax=ax, \n",
    "                label = 'gene targeting', color = 'skyblue')\n",
    "ax.set_xlim(-12, 0)\n",
    "ax.set_ylim(0, 0.2)\n",
    "ax.legend()"
   ]
  },
  {
   "cell_type": "markdown",
   "id": "fef29bbc",
   "metadata": {},
   "source": [
    "## When the negative control and gene targeting distributions don't match up\n",
    "\n",
    "A pernicious problem is when the distributions of the negative controls and gene targeting guides don't match up.  I've seen this once before, in our [neuron screen](https://www.sciencedirect.com/science/article/pii/S1934590918304405).  This was an activation screen of transcription factors that led mouse embryonic stem cells to differentiation to neurons.  But there is a perfectly reasonable explanation for this behavior.  If a transcription factor is associated with some cell fate other than neurons then we should expect that those factors would be depleted (compared to the negative control, which have some non-zero base rate of neuron differentation).  This would be true even if a non-negligible number of transcription factors would lead to non-neuronal fates. "
   ]
  },
  {
   "cell_type": "code",
   "execution_count": 22,
   "id": "5c8e1082",
   "metadata": {
    "ExecuteTime": {
     "end_time": "2021-11-24T01:13:58.986748Z",
     "start_time": "2021-11-24T01:13:58.867116Z"
    }
   },
   "outputs": [
    {
     "data": {
      "text/html": [
       "<div>\n",
       "<style scoped>\n",
       "    .dataframe tbody tr th:only-of-type {\n",
       "        vertical-align: middle;\n",
       "    }\n",
       "\n",
       "    .dataframe tbody tr th {\n",
       "        vertical-align: top;\n",
       "    }\n",
       "\n",
       "    .dataframe thead th {\n",
       "        text-align: right;\n",
       "    }\n",
       "</style>\n",
       "<table border=\"1\" class=\"dataframe\">\n",
       "  <thead>\n",
       "    <tr style=\"text-align: right;\">\n",
       "      <th></th>\n",
       "      <th>guide</th>\n",
       "      <th>gene</th>\n",
       "      <th>distance2TSS</th>\n",
       "      <th>plasmid_rep1</th>\n",
       "      <th>plasmid_rep2</th>\n",
       "      <th>CD8_pos_rep1</th>\n",
       "      <th>CD8_neg_rep1</th>\n",
       "      <th>CD8_pos_rep2</th>\n",
       "      <th>CD8_neg_rep2</th>\n",
       "    </tr>\n",
       "  </thead>\n",
       "  <tbody>\n",
       "    <tr>\n",
       "      <th>0</th>\n",
       "      <td>GGGTATCTGGACTAGAAGCC</td>\n",
       "      <td>Sox17</td>\n",
       "      <td>128</td>\n",
       "      <td>249</td>\n",
       "      <td>400</td>\n",
       "      <td>50</td>\n",
       "      <td>196</td>\n",
       "      <td>3</td>\n",
       "      <td>21</td>\n",
       "    </tr>\n",
       "    <tr>\n",
       "      <th>1</th>\n",
       "      <td>GTTTGAGTGTGATACCGCTG</td>\n",
       "      <td>Sox17</td>\n",
       "      <td>170</td>\n",
       "      <td>197</td>\n",
       "      <td>287</td>\n",
       "      <td>190</td>\n",
       "      <td>286</td>\n",
       "      <td>363</td>\n",
       "      <td>582</td>\n",
       "    </tr>\n",
       "    <tr>\n",
       "      <th>2</th>\n",
       "      <td>GTATCACACTCAAACAGTGC</td>\n",
       "      <td>Sox17</td>\n",
       "      <td>178</td>\n",
       "      <td>539</td>\n",
       "      <td>517</td>\n",
       "      <td>1462</td>\n",
       "      <td>2171</td>\n",
       "      <td>111</td>\n",
       "      <td>193</td>\n",
       "    </tr>\n",
       "    <tr>\n",
       "      <th>3</th>\n",
       "      <td>GACCTGAGGCTCGAAAGGCT</td>\n",
       "      <td>Sox17</td>\n",
       "      <td>241</td>\n",
       "      <td>198</td>\n",
       "      <td>278</td>\n",
       "      <td>604</td>\n",
       "      <td>76</td>\n",
       "      <td>11</td>\n",
       "      <td>21</td>\n",
       "    </tr>\n",
       "    <tr>\n",
       "      <th>4</th>\n",
       "      <td>GCTGTGCCCGTAACCATTTG</td>\n",
       "      <td>Sox17</td>\n",
       "      <td>291</td>\n",
       "      <td>372</td>\n",
       "      <td>455</td>\n",
       "      <td>184</td>\n",
       "      <td>688</td>\n",
       "      <td>223</td>\n",
       "      <td>159</td>\n",
       "    </tr>\n",
       "  </tbody>\n",
       "</table>\n",
       "</div>"
      ],
      "text/plain": [
       "                  guide   gene  distance2TSS  plasmid_rep1  plasmid_rep2  \\\n",
       "0  GGGTATCTGGACTAGAAGCC  Sox17           128           249           400   \n",
       "1  GTTTGAGTGTGATACCGCTG  Sox17           170           197           287   \n",
       "2  GTATCACACTCAAACAGTGC  Sox17           178           539           517   \n",
       "3  GACCTGAGGCTCGAAAGGCT  Sox17           241           198           278   \n",
       "4  GCTGTGCCCGTAACCATTTG  Sox17           291           372           455   \n",
       "\n",
       "   CD8_pos_rep1  CD8_neg_rep1  CD8_pos_rep2  CD8_neg_rep2  \n",
       "0            50           196             3            21  \n",
       "1           190           286           363           582  \n",
       "2          1462          2171           111           193  \n",
       "3           604            76            11            21  \n",
       "4           184           688           223           159  "
      ]
     },
     "execution_count": 22,
     "metadata": {},
     "output_type": "execute_result"
    }
   ],
   "source": [
    "neuron = pd.read_csv('NeuronPerfectMatchCounts.txt', sep = '\\t')\n",
    "neuron.head()"
   ]
  },
  {
   "cell_type": "code",
   "execution_count": 23,
   "id": "5ca0302b",
   "metadata": {
    "ExecuteTime": {
     "end_time": "2021-11-24T01:13:59.003824Z",
     "start_time": "2021-11-24T01:13:58.988419Z"
    }
   },
   "outputs": [
    {
     "data": {
      "text/plain": [
       "random    8237\n",
       "Hmga1      825\n",
       "Nfatc2     807\n",
       "Aire       632\n",
       "Tcf3       530\n",
       "          ... \n",
       "Mir15a       9\n",
       "Gm4736       5\n",
       "Zfp628       4\n",
       "Obox3        3\n",
       "Obox5        2\n",
       "Name: gene, Length: 824, dtype: int64"
      ]
     },
     "execution_count": 23,
     "metadata": {},
     "output_type": "execute_result"
    }
   ],
   "source": [
    "neuron['gene'].value_counts()"
   ]
  },
  {
   "cell_type": "code",
   "execution_count": 24,
   "id": "9de81b07",
   "metadata": {
    "ExecuteTime": {
     "end_time": "2021-11-24T01:13:59.061537Z",
     "start_time": "2021-11-24T01:13:59.006088Z"
    }
   },
   "outputs": [
    {
     "name": "stdout",
     "output_type": "stream",
     "text": [
      "False    97388\n",
      "True      3497\n",
      "Name: gene, dtype: int64\n",
      "(100885, 9)\n",
      "(97388, 9)\n"
     ]
    }
   ],
   "source": [
    "# there are micro RNA's in the library.  need to subset to TFs only\n",
    "mir_flag = neuron['gene'].str.startswith('Mir')\n",
    "print(mir_flag.value_counts())\n",
    "print(neuron.shape)\n",
    "neuron = neuron[~mir_flag]\n",
    "print(neuron.shape)"
   ]
  },
  {
   "cell_type": "code",
   "execution_count": 25,
   "id": "fac41b1d",
   "metadata": {
    "ExecuteTime": {
     "end_time": "2021-11-24T01:13:59.133132Z",
     "start_time": "2021-11-24T01:13:59.063687Z"
    }
   },
   "outputs": [
    {
     "data": {
      "text/html": [
       "<div>\n",
       "<style scoped>\n",
       "    .dataframe tbody tr th:only-of-type {\n",
       "        vertical-align: middle;\n",
       "    }\n",
       "\n",
       "    .dataframe tbody tr th {\n",
       "        vertical-align: top;\n",
       "    }\n",
       "\n",
       "    .dataframe thead th {\n",
       "        text-align: right;\n",
       "    }\n",
       "</style>\n",
       "<table border=\"1\" class=\"dataframe\">\n",
       "  <thead>\n",
       "    <tr style=\"text-align: right;\">\n",
       "      <th></th>\n",
       "      <th>guide</th>\n",
       "      <th>gene</th>\n",
       "      <th>distance2TSS</th>\n",
       "      <th>plasmid_rep1</th>\n",
       "      <th>plasmid_rep2</th>\n",
       "      <th>CD8_pos_rep1</th>\n",
       "      <th>CD8_neg_rep1</th>\n",
       "      <th>CD8_pos_rep2</th>\n",
       "      <th>CD8_neg_rep2</th>\n",
       "      <th>pos_vs_neg_lfc_rep1</th>\n",
       "      <th>pos_vs_neg_lfc_rep2</th>\n",
       "      <th>pos_vs_neg_lfc_avg</th>\n",
       "    </tr>\n",
       "  </thead>\n",
       "  <tbody>\n",
       "    <tr>\n",
       "      <th>0</th>\n",
       "      <td>GGGTATCTGGACTAGAAGCC</td>\n",
       "      <td>Sox17</td>\n",
       "      <td>128</td>\n",
       "      <td>249</td>\n",
       "      <td>400</td>\n",
       "      <td>50</td>\n",
       "      <td>196</td>\n",
       "      <td>3</td>\n",
       "      <td>21</td>\n",
       "      <td>-1.661383</td>\n",
       "      <td>-2.397803</td>\n",
       "      <td>-2.029593</td>\n",
       "    </tr>\n",
       "    <tr>\n",
       "      <th>1</th>\n",
       "      <td>GTTTGAGTGTGATACCGCTG</td>\n",
       "      <td>Sox17</td>\n",
       "      <td>170</td>\n",
       "      <td>197</td>\n",
       "      <td>287</td>\n",
       "      <td>190</td>\n",
       "      <td>286</td>\n",
       "      <td>363</td>\n",
       "      <td>582</td>\n",
       "      <td>-0.299234</td>\n",
       "      <td>-0.617929</td>\n",
       "      <td>-0.458581</td>\n",
       "    </tr>\n",
       "    <tr>\n",
       "      <th>2</th>\n",
       "      <td>GTATCACACTCAAACAGTGC</td>\n",
       "      <td>Sox17</td>\n",
       "      <td>178</td>\n",
       "      <td>539</td>\n",
       "      <td>517</td>\n",
       "      <td>1462</td>\n",
       "      <td>2171</td>\n",
       "      <td>111</td>\n",
       "      <td>193</td>\n",
       "      <td>-0.281850</td>\n",
       "      <td>-0.730929</td>\n",
       "      <td>-0.506390</td>\n",
       "    </tr>\n",
       "    <tr>\n",
       "      <th>3</th>\n",
       "      <td>GACCTGAGGCTCGAAAGGCT</td>\n",
       "      <td>Sox17</td>\n",
       "      <td>241</td>\n",
       "      <td>198</td>\n",
       "      <td>278</td>\n",
       "      <td>604</td>\n",
       "      <td>76</td>\n",
       "      <td>11</td>\n",
       "      <td>21</td>\n",
       "      <td>3.262249</td>\n",
       "      <td>-0.812840</td>\n",
       "      <td>1.224704</td>\n",
       "    </tr>\n",
       "    <tr>\n",
       "      <th>4</th>\n",
       "      <td>GCTGTGCCCGTAACCATTTG</td>\n",
       "      <td>Sox17</td>\n",
       "      <td>291</td>\n",
       "      <td>372</td>\n",
       "      <td>455</td>\n",
       "      <td>184</td>\n",
       "      <td>688</td>\n",
       "      <td>223</td>\n",
       "      <td>159</td>\n",
       "      <td>-1.608735</td>\n",
       "      <td>0.547056</td>\n",
       "      <td>-0.530840</td>\n",
       "    </tr>\n",
       "  </tbody>\n",
       "</table>\n",
       "</div>"
      ],
      "text/plain": [
       "                  guide   gene  distance2TSS  plasmid_rep1  plasmid_rep2  \\\n",
       "0  GGGTATCTGGACTAGAAGCC  Sox17           128           249           400   \n",
       "1  GTTTGAGTGTGATACCGCTG  Sox17           170           197           287   \n",
       "2  GTATCACACTCAAACAGTGC  Sox17           178           539           517   \n",
       "3  GACCTGAGGCTCGAAAGGCT  Sox17           241           198           278   \n",
       "4  GCTGTGCCCGTAACCATTTG  Sox17           291           372           455   \n",
       "\n",
       "   CD8_pos_rep1  CD8_neg_rep1  CD8_pos_rep2  CD8_neg_rep2  \\\n",
       "0            50           196             3            21   \n",
       "1           190           286           363           582   \n",
       "2          1462          2171           111           193   \n",
       "3           604            76            11            21   \n",
       "4           184           688           223           159   \n",
       "\n",
       "   pos_vs_neg_lfc_rep1  pos_vs_neg_lfc_rep2  pos_vs_neg_lfc_avg  \n",
       "0            -1.661383            -2.397803           -2.029593  \n",
       "1            -0.299234            -0.617929           -0.458581  \n",
       "2            -0.281850            -0.730929           -0.506390  \n",
       "3             3.262249            -0.812840            1.224704  \n",
       "4            -1.608735             0.547056           -0.530840  "
      ]
     },
     "execution_count": 25,
     "metadata": {},
     "output_type": "execute_result"
    }
   ],
   "source": [
    "neuron['pos_vs_neg_lfc_rep1'] = log2_fc(neuron, \"CD8_pos_rep1\", \"CD8_neg_rep1\")\n",
    "neuron['pos_vs_neg_lfc_rep2'] = log2_fc(neuron, \"CD8_pos_rep2\", \"CD8_neg_rep2\")\n",
    "neuron['pos_vs_neg_lfc_avg'] = neuron[['pos_vs_neg_lfc_rep1', 'pos_vs_neg_lfc_rep2']].mean(axis=1)\n",
    "neuron.head()"
   ]
  },
  {
   "cell_type": "code",
   "execution_count": 26,
   "id": "f64722f4",
   "metadata": {
    "ExecuteTime": {
     "end_time": "2021-11-24T01:13:59.149970Z",
     "start_time": "2021-11-24T01:13:59.134864Z"
    }
   },
   "outputs": [
    {
     "data": {
      "text/plain": [
       "random    8237\n",
       "Hmga1      825\n",
       "Nfatc2     807\n",
       "Aire       632\n",
       "Tcf3       530\n",
       "          ... \n",
       "Mycs        10\n",
       "Gm4736       5\n",
       "Zfp628       4\n",
       "Obox3        3\n",
       "Obox5        2\n",
       "Name: gene, Length: 786, dtype: int64"
      ]
     },
     "execution_count": 26,
     "metadata": {},
     "output_type": "execute_result"
    }
   ],
   "source": [
    "neuron['gene'].value_counts()"
   ]
  },
  {
   "cell_type": "code",
   "execution_count": 27,
   "id": "f725c51c",
   "metadata": {
    "ExecuteTime": {
     "end_time": "2021-11-24T01:13:59.701203Z",
     "start_time": "2021-11-24T01:13:59.151805Z"
    }
   },
   "outputs": [
    {
     "data": {
      "text/plain": [
       "<matplotlib.legend.Legend at 0x13897ce50>"
      ]
     },
     "execution_count": 27,
     "metadata": {},
     "output_type": "execute_result"
    },
    {
     "data": {
      "image/png": "[encoded data removed]",
      "text/plain": [
       "<Figure size 432x288 with 1 Axes>"
      ]
     },
     "metadata": {
      "needs_background": "light"
     },
     "output_type": "display_data"
    }
   ],
   "source": [
    "neg_ctrl_flag = (neuron['gene'] == 'random')\n",
    "\n",
    "fig, ax = plt.subplots()\n",
    "seaborn.kdeplot(neuron[neg_ctrl_flag]['pos_vs_neg_lfc_avg'], ax=ax, \n",
    "                label = 'negative control', color = 'darkred')\n",
    "seaborn.kdeplot(neuron[~neg_ctrl_flag]['pos_vs_neg_lfc_avg'], ax=ax, \n",
    "                label = 'gene targeting', color = 'skyblue')\n",
    "ax.legend()"
   ]
  },
  {
   "cell_type": "markdown",
   "id": "f16b646e",
   "metadata": {},
   "source": [
    "The solution proposed by [Salil Bhate](https://www.linkedin.com/in/salil-bhate-4a115ba8/) was to calcaulte a score of the enrichment of the gene targeting guides compared to the negative controls."
   ]
  },
  {
   "cell_type": "code",
   "execution_count": 28,
   "id": "70d191ce",
   "metadata": {
    "ExecuteTime": {
     "end_time": "2021-11-24T01:14:00.451602Z",
     "start_time": "2021-11-24T01:13:59.703102Z"
    }
   },
   "outputs": [
    {
     "name": "stdout",
     "output_type": "stream",
     "text": [
      "5\n",
      "[-0.051638582979339986, -0.5709901880241777, 0.17943040819011102, 0.17943040819011102, 0.5476740973761256]\n",
      "8237\n",
      "5\n",
      "[-1.5268412000817353, 3.888907026395401, 2.5909816179634557, 0.9260165549450683, -0.3309388391867021]\n"
     ]
    },
    {
     "data": {
      "text/plain": [
       "-0.2631524074368839"
      ]
     },
     "execution_count": 28,
     "metadata": {},
     "output_type": "execute_result"
    }
   ],
   "source": [
    "import random \n",
    "import statistics\n",
    "\n",
    "def enrich_score(scores, neg_ctrl_scores):\n",
    "    assert(len(scores) == len(neg_ctrl_scores))\n",
    "    return(statistics.mean(scores) - statistics.mean(neg_ctrl_scores))\n",
    "\n",
    "def cal_enrich(gene_targeting_guides, neg_ctrl_guides, n_bootstraps = 10000):\n",
    "    n_gene = len(gene_targeting_guides)\n",
    "    samples_scores = []\n",
    "    for i in range(n_bootstraps):\n",
    "        neg_ctrl_sample = random.sample(neg_ctrl_guides, n_gene)\n",
    "        samples_scores.append(enrich_score(gene_targeting_guides, neg_ctrl_sample))\n",
    "    return statistics.mean(samples_scores)\n",
    "\n",
    "g = 'Gm4736'\n",
    "guides = neuron[neuron['gene'] == g]['pos_vs_neg_lfc_avg'].tolist()\n",
    "print(len(guides))\n",
    "print(guides)\n",
    "\n",
    "neg_ctrl_guides = neuron[neuron['gene'] == 'random']['pos_vs_neg_lfc_avg'].tolist()\n",
    "print(len(neg_ctrl_guides))\n",
    "\n",
    "neg_ctrl_sample = random.sample(neg_ctrl_guides, len(guides))\n",
    "print(len(neg_ctrl_sample))\n",
    "print(neg_ctrl_sample)\n",
    "\n",
    "cal_enrich(neuron[neuron['gene'] == g]['pos_vs_neg_lfc_avg'].tolist(),\n",
    "           neuron[neuron['gene'] == 'random']['pos_vs_neg_lfc_avg'].tolist())"
   ]
  },
  {
   "cell_type": "code",
   "execution_count": 29,
   "id": "2d9d3cd7",
   "metadata": {
    "ExecuteTime": {
     "end_time": "2021-11-24T01:51:55.845393Z",
     "start_time": "2021-11-24T01:14:00.453657Z"
    }
   },
   "outputs": [
    {
     "name": "stdout",
     "output_type": "stream",
     "text": [
      "785\n"
     ]
    },
    {
     "data": {
      "text/html": [
       "<div>\n",
       "<style scoped>\n",
       "    .dataframe tbody tr th:only-of-type {\n",
       "        vertical-align: middle;\n",
       "    }\n",
       "\n",
       "    .dataframe tbody tr th {\n",
       "        vertical-align: top;\n",
       "    }\n",
       "\n",
       "    .dataframe thead th {\n",
       "        text-align: right;\n",
       "    }\n",
       "</style>\n",
       "<table border=\"1\" class=\"dataframe\">\n",
       "  <thead>\n",
       "    <tr style=\"text-align: right;\">\n",
       "      <th></th>\n",
       "      <th>gene</th>\n",
       "      <th>score</th>\n",
       "      <th>n_guides</th>\n",
       "    </tr>\n",
       "  </thead>\n",
       "  <tbody>\n",
       "    <tr>\n",
       "      <th>0</th>\n",
       "      <td>Sox17</td>\n",
       "      <td>-0.347266</td>\n",
       "      <td>252</td>\n",
       "    </tr>\n",
       "    <tr>\n",
       "      <th>1</th>\n",
       "      <td>Mybl1</td>\n",
       "      <td>-0.426841</td>\n",
       "      <td>48</td>\n",
       "    </tr>\n",
       "    <tr>\n",
       "      <th>2</th>\n",
       "      <td>Ncoa2</td>\n",
       "      <td>-0.432888</td>\n",
       "      <td>72</td>\n",
       "    </tr>\n",
       "    <tr>\n",
       "      <th>3</th>\n",
       "      <td>Msc</td>\n",
       "      <td>0.169258</td>\n",
       "      <td>60</td>\n",
       "    </tr>\n",
       "    <tr>\n",
       "      <th>4</th>\n",
       "      <td>Arid5a</td>\n",
       "      <td>-0.015604</td>\n",
       "      <td>237</td>\n",
       "    </tr>\n",
       "  </tbody>\n",
       "</table>\n",
       "</div>"
      ],
      "text/plain": [
       "     gene     score  n_guides\n",
       "0   Sox17 -0.347266       252\n",
       "1   Mybl1 -0.426841        48\n",
       "2   Ncoa2 -0.432888        72\n",
       "3     Msc  0.169258        60\n",
       "4  Arid5a -0.015604       237"
      ]
     },
     "execution_count": 29,
     "metadata": {},
     "output_type": "execute_result"
    }
   ],
   "source": [
    "genes = neuron['gene'].unique().tolist()\n",
    "genes.remove('random')\n",
    "print(len(genes))\n",
    "gene_scores = pd.DataFrame({'gene': genes})\n",
    "gene_scores['score'] = \\\n",
    "  gene_scores['gene'].map(lambda g: cal_enrich(neuron[neuron['gene'] == g]['pos_vs_neg_lfc_avg'].tolist(),\n",
    "                                               neuron[neuron['gene'] == 'random']['pos_vs_neg_lfc_avg'].tolist()))\n",
    "gene_scores['n_guides'] = gene_scores['gene'].map(lambda g: sum(neuron['gene'] == g))\n",
    "gene_scores.head()"
   ]
  },
  {
   "cell_type": "code",
   "execution_count": 30,
   "id": "74ed7c3a",
   "metadata": {
    "ExecuteTime": {
     "end_time": "2021-11-24T01:51:55.856439Z",
     "start_time": "2021-11-24T01:51:55.846795Z"
    }
   },
   "outputs": [
    {
     "data": {
      "text/html": [
       "<div>\n",
       "<style scoped>\n",
       "    .dataframe tbody tr th:only-of-type {\n",
       "        vertical-align: middle;\n",
       "    }\n",
       "\n",
       "    .dataframe tbody tr th {\n",
       "        vertical-align: top;\n",
       "    }\n",
       "\n",
       "    .dataframe thead th {\n",
       "        text-align: right;\n",
       "    }\n",
       "</style>\n",
       "<table border=\"1\" class=\"dataframe\">\n",
       "  <thead>\n",
       "    <tr style=\"text-align: right;\">\n",
       "      <th></th>\n",
       "      <th>gene</th>\n",
       "      <th>score</th>\n",
       "      <th>n_guides</th>\n",
       "    </tr>\n",
       "  </thead>\n",
       "  <tbody>\n",
       "    <tr>\n",
       "      <th>216</th>\n",
       "      <td>Obox5</td>\n",
       "      <td>2.404559</td>\n",
       "      <td>2</td>\n",
       "    </tr>\n",
       "    <tr>\n",
       "      <th>86</th>\n",
       "      <td>Snai1</td>\n",
       "      <td>1.029969</td>\n",
       "      <td>82</td>\n",
       "    </tr>\n",
       "    <tr>\n",
       "      <th>205</th>\n",
       "      <td>Zfp239</td>\n",
       "      <td>0.926932</td>\n",
       "      <td>40</td>\n",
       "    </tr>\n",
       "    <tr>\n",
       "      <th>6</th>\n",
       "      <td>Pou3f3</td>\n",
       "      <td>0.874267</td>\n",
       "      <td>60</td>\n",
       "    </tr>\n",
       "    <tr>\n",
       "      <th>201</th>\n",
       "      <td>Pcbp1</td>\n",
       "      <td>0.818536</td>\n",
       "      <td>40</td>\n",
       "    </tr>\n",
       "    <tr>\n",
       "      <th>280</th>\n",
       "      <td>Zfp423</td>\n",
       "      <td>0.815143</td>\n",
       "      <td>138</td>\n",
       "    </tr>\n",
       "    <tr>\n",
       "      <th>212</th>\n",
       "      <td>Zfp628</td>\n",
       "      <td>0.812128</td>\n",
       "      <td>4</td>\n",
       "    </tr>\n",
       "    <tr>\n",
       "      <th>500</th>\n",
       "      <td>Pcbp2</td>\n",
       "      <td>0.794597</td>\n",
       "      <td>65</td>\n",
       "    </tr>\n",
       "    <tr>\n",
       "      <th>572</th>\n",
       "      <td>Foxd4</td>\n",
       "      <td>0.763076</td>\n",
       "      <td>38</td>\n",
       "    </tr>\n",
       "    <tr>\n",
       "      <th>604</th>\n",
       "      <td>Pax3</td>\n",
       "      <td>0.731000</td>\n",
       "      <td>141</td>\n",
       "    </tr>\n",
       "    <tr>\n",
       "      <th>124</th>\n",
       "      <td>Foxd3</td>\n",
       "      <td>0.723851</td>\n",
       "      <td>78</td>\n",
       "    </tr>\n",
       "    <tr>\n",
       "      <th>407</th>\n",
       "      <td>Sox11</td>\n",
       "      <td>0.723564</td>\n",
       "      <td>62</td>\n",
       "    </tr>\n",
       "    <tr>\n",
       "      <th>42</th>\n",
       "      <td>Ptf1a</td>\n",
       "      <td>0.667576</td>\n",
       "      <td>96</td>\n",
       "    </tr>\n",
       "    <tr>\n",
       "      <th>409</th>\n",
       "      <td>Twist1</td>\n",
       "      <td>0.633802</td>\n",
       "      <td>82</td>\n",
       "    </tr>\n",
       "    <tr>\n",
       "      <th>541</th>\n",
       "      <td>Zbtb12</td>\n",
       "      <td>0.611154</td>\n",
       "      <td>44</td>\n",
       "    </tr>\n",
       "    <tr>\n",
       "      <th>171</th>\n",
       "      <td>Foxk1</td>\n",
       "      <td>0.592274</td>\n",
       "      <td>34</td>\n",
       "    </tr>\n",
       "    <tr>\n",
       "      <th>135</th>\n",
       "      <td>Nfyc</td>\n",
       "      <td>0.571604</td>\n",
       "      <td>93</td>\n",
       "    </tr>\n",
       "    <tr>\n",
       "      <th>556</th>\n",
       "      <td>Pura</td>\n",
       "      <td>0.568692</td>\n",
       "      <td>37</td>\n",
       "    </tr>\n",
       "    <tr>\n",
       "      <th>342</th>\n",
       "      <td>Ascl1</td>\n",
       "      <td>0.566426</td>\n",
       "      <td>78</td>\n",
       "    </tr>\n",
       "    <tr>\n",
       "      <th>475</th>\n",
       "      <td>Zic2</td>\n",
       "      <td>0.548996</td>\n",
       "      <td>127</td>\n",
       "    </tr>\n",
       "    <tr>\n",
       "      <th>454</th>\n",
       "      <td>Foxd1</td>\n",
       "      <td>0.521924</td>\n",
       "      <td>82</td>\n",
       "    </tr>\n",
       "    <tr>\n",
       "      <th>82</th>\n",
       "      <td>Tgif2</td>\n",
       "      <td>0.519055</td>\n",
       "      <td>258</td>\n",
       "    </tr>\n",
       "    <tr>\n",
       "      <th>542</th>\n",
       "      <td>Pou5f1</td>\n",
       "      <td>0.517626</td>\n",
       "      <td>169</td>\n",
       "    </tr>\n",
       "    <tr>\n",
       "      <th>23</th>\n",
       "      <td>Myog</td>\n",
       "      <td>0.514009</td>\n",
       "      <td>110</td>\n",
       "    </tr>\n",
       "    <tr>\n",
       "      <th>391</th>\n",
       "      <td>Ikzf3</td>\n",
       "      <td>0.508076</td>\n",
       "      <td>31</td>\n",
       "    </tr>\n",
       "    <tr>\n",
       "      <th>563</th>\n",
       "      <td>Smad7</td>\n",
       "      <td>0.481705</td>\n",
       "      <td>114</td>\n",
       "    </tr>\n",
       "    <tr>\n",
       "      <th>239</th>\n",
       "      <td>Myod1</td>\n",
       "      <td>0.480629</td>\n",
       "      <td>148</td>\n",
       "    </tr>\n",
       "    <tr>\n",
       "      <th>112</th>\n",
       "      <td>Pou3f2</td>\n",
       "      <td>0.475212</td>\n",
       "      <td>90</td>\n",
       "    </tr>\n",
       "    <tr>\n",
       "      <th>444</th>\n",
       "      <td>Neurog1</td>\n",
       "      <td>0.474284</td>\n",
       "      <td>116</td>\n",
       "    </tr>\n",
       "    <tr>\n",
       "      <th>645</th>\n",
       "      <td>Nr1h2</td>\n",
       "      <td>0.473144</td>\n",
       "      <td>36</td>\n",
       "    </tr>\n",
       "  </tbody>\n",
       "</table>\n",
       "</div>"
      ],
      "text/plain": [
       "        gene     score  n_guides\n",
       "216    Obox5  2.404559         2\n",
       "86     Snai1  1.029969        82\n",
       "205   Zfp239  0.926932        40\n",
       "6     Pou3f3  0.874267        60\n",
       "201    Pcbp1  0.818536        40\n",
       "280   Zfp423  0.815143       138\n",
       "212   Zfp628  0.812128         4\n",
       "500    Pcbp2  0.794597        65\n",
       "572    Foxd4  0.763076        38\n",
       "604     Pax3  0.731000       141\n",
       "124    Foxd3  0.723851        78\n",
       "407    Sox11  0.723564        62\n",
       "42     Ptf1a  0.667576        96\n",
       "409   Twist1  0.633802        82\n",
       "541   Zbtb12  0.611154        44\n",
       "171    Foxk1  0.592274        34\n",
       "135     Nfyc  0.571604        93\n",
       "556     Pura  0.568692        37\n",
       "342    Ascl1  0.566426        78\n",
       "475     Zic2  0.548996       127\n",
       "454    Foxd1  0.521924        82\n",
       "82     Tgif2  0.519055       258\n",
       "542   Pou5f1  0.517626       169\n",
       "23      Myog  0.514009       110\n",
       "391    Ikzf3  0.508076        31\n",
       "563    Smad7  0.481705       114\n",
       "239    Myod1  0.480629       148\n",
       "112   Pou3f2  0.475212        90\n",
       "444  Neurog1  0.474284       116\n",
       "645    Nr1h2  0.473144        36"
      ]
     },
     "execution_count": 30,
     "metadata": {},
     "output_type": "execute_result"
    }
   ],
   "source": [
    "gene_scores.sort_values(by = 'score', ascending = False).head(30)"
   ]
  },
  {
   "cell_type": "code",
   "execution_count": 31,
   "id": "7d00131b",
   "metadata": {
    "ExecuteTime": {
     "end_time": "2021-11-24T01:51:56.012063Z",
     "start_time": "2021-11-24T01:51:55.857897Z"
    }
   },
   "outputs": [
    {
     "data": {
      "text/plain": [
       "<AxesSubplot:>"
      ]
     },
     "execution_count": 31,
     "metadata": {},
     "output_type": "execute_result"
    },
    {
     "data": {
      "image/png": "[encoded data removed]",
      "text/plain": [
       "<Figure size 432x288 with 1 Axes>"
      ]
     },
     "metadata": {
      "needs_background": "light"
     },
     "output_type": "display_data"
    }
   ],
   "source": [
    "gene_scores['score'].hist(bins = 25, color = 'black')"
   ]
  },
  {
   "cell_type": "code",
   "execution_count": 32,
   "id": "ad1f443b",
   "metadata": {
    "ExecuteTime": {
     "end_time": "2021-11-24T01:51:56.018191Z",
     "start_time": "2021-11-24T01:51:56.013746Z"
    }
   },
   "outputs": [
    {
     "data": {
      "text/plain": [
       "-0.06582876582313937"
      ]
     },
     "execution_count": 32,
     "metadata": {},
     "output_type": "execute_result"
    }
   ],
   "source": [
    "gene_scores['score'].median()"
   ]
  },
  {
   "cell_type": "markdown",
   "id": "a2944067",
   "metadata": {},
   "source": [
    "We see a lot of these genes overlap with the original list, though it doesn't correspond exactly.  But that's not totally unexpected.  We also see that the median of the gene scores is slightly negative, which means that most gene scores are negative.  We cannot assume there that a null gene has zero effect, relative to the negative controls.  Instead most genes have a negative effect.  Seems strange, but it can trip you up.  \n",
    "\n",
    "\n",
    "Sorry for the aside, let's return to the Gilbert data. \n",
    "\n",
    "# Combining guide level measurements \n",
    "\n",
    "We now come to the problem of how to combine information at the guide level to make inferences at the gene level.  Simple methods, such as taking the mean of the guide-level log fold changes will ignore issues such as non-working guides or off-target effects.\n",
    "\n",
    "With these types of screens it's difficult to know the ground truth.  We usually have to use proxy information in order to judge how good our inferences are, such as GO terms of the top hits.  Essential screens are pretty well studied.  [Hart et al, 2014](https://www.embopress.org/doi/pdf/10.15252/msb.20145216) compiled a list of common essential genes across a number of a number of different studies.  We can use this as a \"ground truth\" to compare different methods. "
   ]
  },
  {
   "cell_type": "code",
   "execution_count": 33,
   "id": "60c67946",
   "metadata": {
    "ExecuteTime": {
     "end_time": "2021-11-24T01:51:56.037943Z",
     "start_time": "2021-11-24T01:51:56.021501Z"
    }
   },
   "outputs": [
    {
     "name": "stdout",
     "output_type": "stream",
     "text": [
      "(1580, 2)\n"
     ]
    },
    {
     "data": {
      "text/html": [
       "<div>\n",
       "<style scoped>\n",
       "    .dataframe tbody tr th:only-of-type {\n",
       "        vertical-align: middle;\n",
       "    }\n",
       "\n",
       "    .dataframe tbody tr th {\n",
       "        vertical-align: top;\n",
       "    }\n",
       "\n",
       "    .dataframe thead th {\n",
       "        text-align: right;\n",
       "    }\n",
       "</style>\n",
       "<table border=\"1\" class=\"dataframe\">\n",
       "  <thead>\n",
       "    <tr style=\"text-align: right;\">\n",
       "      <th></th>\n",
       "      <th>gene</th>\n",
       "      <th>hgnc</th>\n",
       "    </tr>\n",
       "  </thead>\n",
       "  <tbody>\n",
       "    <tr>\n",
       "      <th>0</th>\n",
       "      <td>AAMP</td>\n",
       "      <td>HGNC:18</td>\n",
       "    </tr>\n",
       "    <tr>\n",
       "      <th>1</th>\n",
       "      <td>AARS2</td>\n",
       "      <td>HGNC:21022</td>\n",
       "    </tr>\n",
       "    <tr>\n",
       "      <th>2</th>\n",
       "      <td>AARS</td>\n",
       "      <td>HGNC:20</td>\n",
       "    </tr>\n",
       "    <tr>\n",
       "      <th>3</th>\n",
       "      <td>AASDHPPT</td>\n",
       "      <td>HGNC:14235</td>\n",
       "    </tr>\n",
       "    <tr>\n",
       "      <th>4</th>\n",
       "      <td>AATF</td>\n",
       "      <td>HGNC:19235</td>\n",
       "    </tr>\n",
       "  </tbody>\n",
       "</table>\n",
       "</div>"
      ],
      "text/plain": [
       "       gene        hgnc\n",
       "0      AAMP     HGNC:18\n",
       "1     AARS2  HGNC:21022\n",
       "2      AARS     HGNC:20\n",
       "3  AASDHPPT  HGNC:14235\n",
       "4      AATF  HGNC:19235"
      ]
     },
     "execution_count": 33,
     "metadata": {},
     "output_type": "execute_result"
    }
   ],
   "source": [
    "essential_genes = pd.read_csv(\"core-essential-genes-sym_HGNCID.txt\", sep = '\\t', \n",
    "                              header = None, names = ['gene', 'hgnc'])\n",
    "print(essential_genes.shape)\n",
    "essential_genes.head()"
   ]
  },
  {
   "cell_type": "code",
   "execution_count": 34,
   "id": "1970ff21",
   "metadata": {
    "ExecuteTime": {
     "end_time": "2021-11-24T01:51:56.052800Z",
     "start_time": "2021-11-24T01:51:56.041747Z"
    }
   },
   "outputs": [
    {
     "data": {
      "text/plain": [
       "1561"
      ]
     },
     "execution_count": 34,
     "metadata": {},
     "output_type": "execute_result"
    }
   ],
   "source": [
    "sum(essential_genes['gene'].isin(gilbert_2014['gene']))"
   ]
  },
  {
   "cell_type": "markdown",
   "id": "cc80df3a",
   "metadata": {},
   "source": [
    "## Combining p-values\n",
    "\n",
    "There's a few ways to combine p-values.  [Fisher's method](https://en.wikipedia.org/wiki/Fisher%27s_method), [Stouffer's method](https://en.wikipedia.org/wiki/Fisher%27s_method#Relation_to_Stouffer's_Z-score_method), and [robust rank aggregation](https://academic.oup.com/bioinformatics/article/28/4/573/213339) (which MAGeCK uses).  Let's compare them.  But one thing to account for is that the default implementation of Stouffer's method in [scipy.stats](https://docs.scipy.org/doc/scipy-0.16.0/reference/generated/scipy.stats.combine_pvalues.html) won't distinguish the two sided p-values.  So we need to do it ourselves.  "
   ]
  },
  {
   "cell_type": "code",
   "execution_count": 35,
   "id": "2306833b",
   "metadata": {
    "ExecuteTime": {
     "end_time": "2021-11-24T01:51:56.066226Z",
     "start_time": "2021-11-24T01:51:56.055932Z"
    }
   },
   "outputs": [
    {
     "data": {
      "text/plain": [
       "1.0"
      ]
     },
     "execution_count": 35,
     "metadata": {},
     "output_type": "execute_result"
    }
   ],
   "source": [
    "import scipy.stats as stats\n",
    "import math\n",
    "\n",
    "def stouffers_method(pvals, orig_z_vals):\n",
    "    assert(pvals.shape == orig_z_vals.shape)\n",
    "    # convert p-values to z_values\n",
    "    # don't know why scipy uses point percent function to refer to the quantile function\n",
    "    transformed_zvals = np.sign(orig_z_vals)*pvals.map(lambda p: stats.norm.ppf(p/2.0))\n",
    "    z = sum(transformed_zvals)/math.sqrt(pvals.shape[0])\n",
    "    # the absolute value of the z-value is half-normally distributed\n",
    "    # P(x > |z|) = 1 - 2*(phi(|z|) - 0.5)\n",
    "    return 1.0 - 2.0*(stats.norm.cdf(abs(z)) - 0.5)\n",
    "\n",
    "# test if opposite signs cancel\n",
    "def test_stouffers():\n",
    "    test_pvals = pd.Series([0.05, 0.05])\n",
    "    test_zvals = pd.Series([-2.16, 2.16])\n",
    "    return stouffers_method(test_pvals, test_zvals)\n",
    "test_stouffers()  \n",
    "\n"
   ]
  },
  {
   "cell_type": "code",
   "execution_count": 36,
   "id": "4fabdda1",
   "metadata": {
    "ExecuteTime": {
     "end_time": "2021-11-24T01:57:18.398920Z",
     "start_time": "2021-11-24T01:51:56.068360Z"
    }
   },
   "outputs": [
    {
     "data": {
      "text/html": [
       "<div>\n",
       "<style scoped>\n",
       "    .dataframe tbody tr th:only-of-type {\n",
       "        vertical-align: middle;\n",
       "    }\n",
       "\n",
       "    .dataframe tbody tr th {\n",
       "        vertical-align: top;\n",
       "    }\n",
       "\n",
       "    .dataframe thead th {\n",
       "        text-align: right;\n",
       "    }\n",
       "</style>\n",
       "<table border=\"1\" class=\"dataframe\">\n",
       "  <thead>\n",
       "    <tr style=\"text-align: right;\">\n",
       "      <th></th>\n",
       "      <th>gene</th>\n",
       "      <th>essential_stouffer_pval</th>\n",
       "    </tr>\n",
       "  </thead>\n",
       "  <tbody>\n",
       "    <tr>\n",
       "      <th>0</th>\n",
       "      <td>A2M</td>\n",
       "      <td>8.509142e-01</td>\n",
       "    </tr>\n",
       "    <tr>\n",
       "      <th>1</th>\n",
       "      <td>A4GALT</td>\n",
       "      <td>6.993867e-01</td>\n",
       "    </tr>\n",
       "    <tr>\n",
       "      <th>2</th>\n",
       "      <td>AACS</td>\n",
       "      <td>3.940236e-01</td>\n",
       "    </tr>\n",
       "    <tr>\n",
       "      <th>3</th>\n",
       "      <td>AATF</td>\n",
       "      <td>7.682743e-14</td>\n",
       "    </tr>\n",
       "    <tr>\n",
       "      <th>4</th>\n",
       "      <td>ABCA13</td>\n",
       "      <td>7.684682e-01</td>\n",
       "    </tr>\n",
       "  </tbody>\n",
       "</table>\n",
       "</div>"
      ],
      "text/plain": [
       "     gene  essential_stouffer_pval\n",
       "0     A2M             8.509142e-01\n",
       "1  A4GALT             6.993867e-01\n",
       "2    AACS             3.940236e-01\n",
       "3    AATF             7.682743e-14\n",
       "4  ABCA13             7.684682e-01"
      ]
     },
     "execution_count": 36,
     "metadata": {},
     "output_type": "execute_result"
    }
   ],
   "source": [
    "gilbert_gene_lvl = pd.DataFrame({'gene': gilbert_2014['gene'].unique().tolist()})\n",
    "gilbert_gene_lvl['essential_stouffer_pval'] = gilbert_gene_lvl['gene'].map(lambda g: stouffers_method(gilbert_2014[gilbert_2014['gene'] == g]['essential_moderated_adj_pval'], \n",
    "                                                                                                      gilbert_2014[gilbert_2014['gene'] == g]['essential_moderated_log2fc']))\n",
    "gilbert_gene_lvl.head()"
   ]
  },
  {
   "cell_type": "code",
   "execution_count": 37,
   "id": "8ac5c4a9",
   "metadata": {
    "ExecuteTime": {
     "end_time": "2021-11-24T01:57:20.314475Z",
     "start_time": "2021-11-24T01:57:18.400972Z"
    }
   },
   "outputs": [
    {
     "data": {
      "text/html": [
       "<div>\n",
       "<style scoped>\n",
       "    .dataframe tbody tr th:only-of-type {\n",
       "        vertical-align: middle;\n",
       "    }\n",
       "\n",
       "    .dataframe tbody tr th {\n",
       "        vertical-align: top;\n",
       "    }\n",
       "\n",
       "    .dataframe thead th {\n",
       "        text-align: right;\n",
       "    }\n",
       "</style>\n",
       "<table border=\"1\" class=\"dataframe\">\n",
       "  <thead>\n",
       "    <tr style=\"text-align: right;\">\n",
       "      <th></th>\n",
       "      <th>gene</th>\n",
       "      <th>essential_fisher_pval</th>\n",
       "    </tr>\n",
       "  </thead>\n",
       "  <tbody>\n",
       "    <tr>\n",
       "      <th>0</th>\n",
       "      <td>1-Dec</td>\n",
       "      <td>0.999999</td>\n",
       "    </tr>\n",
       "    <tr>\n",
       "      <th>1</th>\n",
       "      <td>1-Mar</td>\n",
       "      <td>1.000000</td>\n",
       "    </tr>\n",
       "    <tr>\n",
       "      <th>2</th>\n",
       "      <td>1-Sep</td>\n",
       "      <td>0.995081</td>\n",
       "    </tr>\n",
       "    <tr>\n",
       "      <th>3</th>\n",
       "      <td>10-Mar</td>\n",
       "      <td>NaN</td>\n",
       "    </tr>\n",
       "    <tr>\n",
       "      <th>4</th>\n",
       "      <td>10-Sep</td>\n",
       "      <td>1.000000</td>\n",
       "    </tr>\n",
       "  </tbody>\n",
       "</table>\n",
       "</div>"
      ],
      "text/plain": [
       "     gene  essential_fisher_pval\n",
       "0   1-Dec               0.999999\n",
       "1   1-Mar               1.000000\n",
       "2   1-Sep               0.995081\n",
       "3  10-Mar                    NaN\n",
       "4  10-Sep               1.000000"
      ]
     },
     "execution_count": 37,
     "metadata": {},
     "output_type": "execute_result"
    }
   ],
   "source": [
    "from scipy.stats import combine_pvalues\n",
    "\n",
    "fishers_pvals = gilbert_2014[['gene', 'essential_moderated_adj_pval']].groupby('gene', as_index = False)\\\n",
    "                                                                      .agg(lambda p: combine_pvalues(p)[1])\n",
    "fishers_pvals.rename(columns = {'essential_moderated_adj_pval': 'essential_fisher_pval'},\n",
    "                     inplace = True)\n",
    "fishers_pvals.head()"
   ]
  },
  {
   "cell_type": "code",
   "execution_count": 38,
   "id": "e96cf6ad",
   "metadata": {
    "ExecuteTime": {
     "end_time": "2021-11-24T01:57:20.332774Z",
     "start_time": "2021-11-24T01:57:20.316597Z"
    }
   },
   "outputs": [
    {
     "name": "stdout",
     "output_type": "stream",
     "text": [
      "(15976, 2)\n",
      "(15976, 3)\n"
     ]
    },
    {
     "data": {
      "text/html": [
       "<div>\n",
       "<style scoped>\n",
       "    .dataframe tbody tr th:only-of-type {\n",
       "        vertical-align: middle;\n",
       "    }\n",
       "\n",
       "    .dataframe tbody tr th {\n",
       "        vertical-align: top;\n",
       "    }\n",
       "\n",
       "    .dataframe thead th {\n",
       "        text-align: right;\n",
       "    }\n",
       "</style>\n",
       "<table border=\"1\" class=\"dataframe\">\n",
       "  <thead>\n",
       "    <tr style=\"text-align: right;\">\n",
       "      <th></th>\n",
       "      <th>gene</th>\n",
       "      <th>essential_stouffer_pval</th>\n",
       "      <th>essential_fisher_pval</th>\n",
       "    </tr>\n",
       "  </thead>\n",
       "  <tbody>\n",
       "    <tr>\n",
       "      <th>0</th>\n",
       "      <td>A2M</td>\n",
       "      <td>8.509142e-01</td>\n",
       "      <td>1.000000e+00</td>\n",
       "    </tr>\n",
       "    <tr>\n",
       "      <th>1</th>\n",
       "      <td>A4GALT</td>\n",
       "      <td>6.993867e-01</td>\n",
       "      <td>1.000000e+00</td>\n",
       "    </tr>\n",
       "    <tr>\n",
       "      <th>2</th>\n",
       "      <td>AACS</td>\n",
       "      <td>3.940236e-01</td>\n",
       "      <td>9.959100e-01</td>\n",
       "    </tr>\n",
       "    <tr>\n",
       "      <th>3</th>\n",
       "      <td>AATF</td>\n",
       "      <td>7.682743e-14</td>\n",
       "      <td>1.081587e-27</td>\n",
       "    </tr>\n",
       "    <tr>\n",
       "      <th>4</th>\n",
       "      <td>ABCA13</td>\n",
       "      <td>7.684682e-01</td>\n",
       "      <td>1.000000e+00</td>\n",
       "    </tr>\n",
       "  </tbody>\n",
       "</table>\n",
       "</div>"
      ],
      "text/plain": [
       "     gene  essential_stouffer_pval  essential_fisher_pval\n",
       "0     A2M             8.509142e-01           1.000000e+00\n",
       "1  A4GALT             6.993867e-01           1.000000e+00\n",
       "2    AACS             3.940236e-01           9.959100e-01\n",
       "3    AATF             7.682743e-14           1.081587e-27\n",
       "4  ABCA13             7.684682e-01           1.000000e+00"
      ]
     },
     "execution_count": 38,
     "metadata": {},
     "output_type": "execute_result"
    }
   ],
   "source": [
    "print(gilbert_gene_lvl.shape)\n",
    "gilbert_gene_lvl = gilbert_gene_lvl.merge(fishers_pvals, on = 'gene', how = 'inner')\n",
    "print(gilbert_gene_lvl.shape)\n",
    "gilbert_gene_lvl.head()"
   ]
  },
  {
   "cell_type": "code",
   "execution_count": 39,
   "id": "7359c38f",
   "metadata": {
    "ExecuteTime": {
     "end_time": "2021-11-24T01:57:20.343345Z",
     "start_time": "2021-11-24T01:57:20.334556Z"
    }
   },
   "outputs": [
    {
     "name": "stdout",
     "output_type": "stream",
     "text": [
      "number with stouffer N/A:  1063\n",
      "number with fisher N/A:  1063\n",
      "number with both N/A:  1063\n"
     ]
    }
   ],
   "source": [
    "# I noticed N/A's above.  Let's see if they're identical\n",
    "print(\"number with stouffer N/A: \", sum(gilbert_gene_lvl['essential_stouffer_pval'].isna()))\n",
    "print(\"number with fisher N/A: \", sum(gilbert_gene_lvl['essential_fisher_pval'].isna()))\n",
    "print(\"number with both N/A: \", sum(gilbert_gene_lvl['essential_fisher_pval'].isna() & \\\n",
    "                                    gilbert_gene_lvl['essential_stouffer_pval'].isna()))"
   ]
  },
  {
   "cell_type": "markdown",
   "id": "c6f7a630",
   "metadata": {},
   "source": [
    "Cool!  Looks like the missing p-values are the same for both method.  Let's see if we can figure out why."
   ]
  },
  {
   "cell_type": "code",
   "execution_count": 40,
   "id": "232b975b",
   "metadata": {
    "ExecuteTime": {
     "end_time": "2021-11-24T01:57:20.353992Z",
     "start_time": "2021-11-24T01:57:20.345264Z"
    }
   },
   "outputs": [
    {
     "data": {
      "text/html": [
       "<div>\n",
       "<style scoped>\n",
       "    .dataframe tbody tr th:only-of-type {\n",
       "        vertical-align: middle;\n",
       "    }\n",
       "\n",
       "    .dataframe tbody tr th {\n",
       "        vertical-align: top;\n",
       "    }\n",
       "\n",
       "    .dataframe thead th {\n",
       "        text-align: right;\n",
       "    }\n",
       "</style>\n",
       "<table border=\"1\" class=\"dataframe\">\n",
       "  <thead>\n",
       "    <tr style=\"text-align: right;\">\n",
       "      <th></th>\n",
       "      <th>gene</th>\n",
       "      <th>essential_stouffer_pval</th>\n",
       "      <th>essential_fisher_pval</th>\n",
       "    </tr>\n",
       "  </thead>\n",
       "  <tbody>\n",
       "    <tr>\n",
       "      <th>139</th>\n",
       "      <td>ANGPT2</td>\n",
       "      <td>NaN</td>\n",
       "      <td>NaN</td>\n",
       "    </tr>\n",
       "    <tr>\n",
       "      <th>187</th>\n",
       "      <td>ARID1A</td>\n",
       "      <td>NaN</td>\n",
       "      <td>NaN</td>\n",
       "    </tr>\n",
       "    <tr>\n",
       "      <th>453</th>\n",
       "      <td>CD40LG</td>\n",
       "      <td>NaN</td>\n",
       "      <td>NaN</td>\n",
       "    </tr>\n",
       "    <tr>\n",
       "      <th>821</th>\n",
       "      <td>DUX4</td>\n",
       "      <td>NaN</td>\n",
       "      <td>NaN</td>\n",
       "    </tr>\n",
       "    <tr>\n",
       "      <th>871</th>\n",
       "      <td>ELN</td>\n",
       "      <td>NaN</td>\n",
       "      <td>NaN</td>\n",
       "    </tr>\n",
       "  </tbody>\n",
       "</table>\n",
       "</div>"
      ],
      "text/plain": [
       "       gene  essential_stouffer_pval  essential_fisher_pval\n",
       "139  ANGPT2                      NaN                    NaN\n",
       "187  ARID1A                      NaN                    NaN\n",
       "453  CD40LG                      NaN                    NaN\n",
       "821    DUX4                      NaN                    NaN\n",
       "871     ELN                      NaN                    NaN"
      ]
     },
     "execution_count": 40,
     "metadata": {},
     "output_type": "execute_result"
    }
   ],
   "source": [
    "gilbert_gene_lvl[gilbert_gene_lvl['essential_stouffer_pval'].isna()].head()"
   ]
  },
  {
   "cell_type": "code",
   "execution_count": 41,
   "id": "a837b388",
   "metadata": {
    "ExecuteTime": {
     "end_time": "2021-11-24T01:57:20.395355Z",
     "start_time": "2021-11-24T01:57:20.355669Z"
    }
   },
   "outputs": [
    {
     "data": {
      "text/html": [
       "<div>\n",
       "<style scoped>\n",
       "    .dataframe tbody tr th:only-of-type {\n",
       "        vertical-align: middle;\n",
       "    }\n",
       "\n",
       "    .dataframe tbody tr th {\n",
       "        vertical-align: top;\n",
       "    }\n",
       "\n",
       "    .dataframe thead th {\n",
       "        text-align: right;\n",
       "    }\n",
       "</style>\n",
       "<table border=\"1\" class=\"dataframe\">\n",
       "  <thead>\n",
       "    <tr style=\"text-align: right;\">\n",
       "      <th></th>\n",
       "      <th>sgId</th>\n",
       "      <th>sequence</th>\n",
       "      <th>gene</th>\n",
       "      <th>T0JEV</th>\n",
       "      <th>T0MH</th>\n",
       "      <th>treatedJEV</th>\n",
       "      <th>treatedMH</th>\n",
       "      <th>untreatedJEV</th>\n",
       "      <th>untreatedMH</th>\n",
       "      <th>essential_lfc_JEV</th>\n",
       "      <th>essential_lfc_MH</th>\n",
       "      <th>ricin_lfc_MH</th>\n",
       "      <th>ricin_lfc_JEV</th>\n",
       "      <th>essential_moderated_log2fc</th>\n",
       "      <th>essential_moderated_adj_pval</th>\n",
       "      <th>ricin_moderated_log2fc</th>\n",
       "      <th>ricin_moderated_adj_pval</th>\n",
       "      <th>ricin_lfc_avg</th>\n",
       "      <th>essential_lfc_avg</th>\n",
       "    </tr>\n",
       "  </thead>\n",
       "  <tbody>\n",
       "    <tr>\n",
       "      <th>1718</th>\n",
       "      <td>Apoptosis+Cancer+Other_Cancer=ANGPT2_+_6420678...</td>\n",
       "      <td>GACACAGCCCTCCCAAGTGAGC</td>\n",
       "      <td>ANGPT2</td>\n",
       "      <td>625</td>\n",
       "      <td>689</td>\n",
       "      <td>641</td>\n",
       "      <td>569</td>\n",
       "      <td>738</td>\n",
       "      <td>704</td>\n",
       "      <td>0.098580</td>\n",
       "      <td>0.061840</td>\n",
       "      <td>-0.273075</td>\n",
       "      <td>-0.063802</td>\n",
       "      <td>0.054315</td>\n",
       "      <td>0.999736</td>\n",
       "      <td>0.012386</td>\n",
       "      <td>0.997272</td>\n",
       "      <td>-0.168438</td>\n",
       "      <td>0.080210</td>\n",
       "    </tr>\n",
       "    <tr>\n",
       "      <th>1719</th>\n",
       "      <td>Apoptosis+Cancer+Other_Cancer=ANGPT2_+_6420729...</td>\n",
       "      <td>GGATCTGGGGAGAGAGGAACAA</td>\n",
       "      <td>ANGPT2</td>\n",
       "      <td>642</td>\n",
       "      <td>585</td>\n",
       "      <td>346</td>\n",
       "      <td>587</td>\n",
       "      <td>783</td>\n",
       "      <td>622</td>\n",
       "      <td>0.145203</td>\n",
       "      <td>0.119145</td>\n",
       "      <td>-0.049830</td>\n",
       "      <td>-1.036719</td>\n",
       "      <td>0.108920</td>\n",
       "      <td>0.987145</td>\n",
       "      <td>-0.327465</td>\n",
       "      <td>0.917055</td>\n",
       "      <td>-0.543274</td>\n",
       "      <td>0.132174</td>\n",
       "    </tr>\n",
       "    <tr>\n",
       "      <th>1720</th>\n",
       "      <td>Apoptosis+Cancer+Other_Cancer=ANGPT2_+_6420737...</td>\n",
       "      <td>GACACTGTAGGATCTGGGGAGAG</td>\n",
       "      <td>ANGPT2</td>\n",
       "      <td>470</td>\n",
       "      <td>567</td>\n",
       "      <td>744</td>\n",
       "      <td>298</td>\n",
       "      <td>571</td>\n",
       "      <td>670</td>\n",
       "      <td>0.139456</td>\n",
       "      <td>0.271235</td>\n",
       "      <td>-1.132581</td>\n",
       "      <td>0.520425</td>\n",
       "      <td>0.184226</td>\n",
       "      <td>0.897740</td>\n",
       "      <td>0.016118</td>\n",
       "      <td>0.997709</td>\n",
       "      <td>-0.306078</td>\n",
       "      <td>0.205346</td>\n",
       "    </tr>\n",
       "    <tr>\n",
       "      <th>1721</th>\n",
       "      <td>Apoptosis+Cancer+Other_Cancer=ANGPT2_+_6420746...</td>\n",
       "      <td>GATACTGACACTGTAGGATC</td>\n",
       "      <td>ANGPT2</td>\n",
       "      <td>675</td>\n",
       "      <td>930</td>\n",
       "      <td>652</td>\n",
       "      <td>448</td>\n",
       "      <td>819</td>\n",
       "      <td>890</td>\n",
       "      <td>0.137769</td>\n",
       "      <td>-0.032542</td>\n",
       "      <td>-0.955124</td>\n",
       "      <td>-0.189341</td>\n",
       "      <td>0.017666</td>\n",
       "      <td>0.999736</td>\n",
       "      <td>-0.370208</td>\n",
       "      <td>0.870948</td>\n",
       "      <td>-0.572233</td>\n",
       "      <td>0.052613</td>\n",
       "    </tr>\n",
       "    <tr>\n",
       "      <th>1722</th>\n",
       "      <td>Apoptosis+Cancer+Other_Cancer=ANGPT2_+_6420752...</td>\n",
       "      <td>GATTCGGATACTGACACTGT</td>\n",
       "      <td>ANGPT2</td>\n",
       "      <td>1807</td>\n",
       "      <td>1810</td>\n",
       "      <td>1582</td>\n",
       "      <td>1603</td>\n",
       "      <td>2188</td>\n",
       "      <td>1974</td>\n",
       "      <td>0.135046</td>\n",
       "      <td>0.155879</td>\n",
       "      <td>-0.266592</td>\n",
       "      <td>-0.328411</td>\n",
       "      <td>0.119888</td>\n",
       "      <td>0.784776</td>\n",
       "      <td>-0.120716</td>\n",
       "      <td>0.963820</td>\n",
       "      <td>-0.297502</td>\n",
       "      <td>0.145463</td>\n",
       "    </tr>\n",
       "    <tr>\n",
       "      <th>1723</th>\n",
       "      <td>Apoptosis+Cancer+Other_Cancer=ANGPT2_+_6420789...</td>\n",
       "      <td>GCTCTTATCAACTTATCATATA</td>\n",
       "      <td>ANGPT2</td>\n",
       "      <td>0</td>\n",
       "      <td>0</td>\n",
       "      <td>0</td>\n",
       "      <td>0</td>\n",
       "      <td>0</td>\n",
       "      <td>0</td>\n",
       "      <td>-0.140832</td>\n",
       "      <td>0.030813</td>\n",
       "      <td>0.033586</td>\n",
       "      <td>0.139199</td>\n",
       "      <td>NaN</td>\n",
       "      <td>NaN</td>\n",
       "      <td>NaN</td>\n",
       "      <td>NaN</td>\n",
       "      <td>0.086393</td>\n",
       "      <td>-0.055009</td>\n",
       "    </tr>\n",
       "    <tr>\n",
       "      <th>1724</th>\n",
       "      <td>Apoptosis+Cancer+Other_Cancer=ANGPT2_-_6420667...</td>\n",
       "      <td>GTAAACTGTCAGATTGCAG</td>\n",
       "      <td>ANGPT2</td>\n",
       "      <td>709</td>\n",
       "      <td>760</td>\n",
       "      <td>628</td>\n",
       "      <td>568</td>\n",
       "      <td>813</td>\n",
       "      <td>906</td>\n",
       "      <td>0.056378</td>\n",
       "      <td>0.284019</td>\n",
       "      <td>-0.639088</td>\n",
       "      <td>-0.232769</td>\n",
       "      <td>0.148588</td>\n",
       "      <td>0.901040</td>\n",
       "      <td>-0.260508</td>\n",
       "      <td>0.915055</td>\n",
       "      <td>-0.435928</td>\n",
       "      <td>0.170199</td>\n",
       "    </tr>\n",
       "    <tr>\n",
       "      <th>1725</th>\n",
       "      <td>Apoptosis+Cancer+Other_Cancer=ANGPT2_-_6420691...</td>\n",
       "      <td>GAAGAACAGTCCTGCTCACTT</td>\n",
       "      <td>ANGPT2</td>\n",
       "      <td>395</td>\n",
       "      <td>392</td>\n",
       "      <td>314</td>\n",
       "      <td>588</td>\n",
       "      <td>458</td>\n",
       "      <td>469</td>\n",
       "      <td>0.072162</td>\n",
       "      <td>0.288945</td>\n",
       "      <td>0.359193</td>\n",
       "      <td>-0.403943</td>\n",
       "      <td>0.155260</td>\n",
       "      <td>0.956851</td>\n",
       "      <td>0.218926</td>\n",
       "      <td>0.963503</td>\n",
       "      <td>-0.022375</td>\n",
       "      <td>0.180553</td>\n",
       "    </tr>\n",
       "    <tr>\n",
       "      <th>1726</th>\n",
       "      <td>Apoptosis+Cancer+Other_Cancer=ANGPT2_-_6420832...</td>\n",
       "      <td>GATAAGAGCAGCCAGACATGTGTAG</td>\n",
       "      <td>ANGPT2</td>\n",
       "      <td>1204</td>\n",
       "      <td>1283</td>\n",
       "      <td>843</td>\n",
       "      <td>1148</td>\n",
       "      <td>1221</td>\n",
       "      <td>1077</td>\n",
       "      <td>-0.120621</td>\n",
       "      <td>-0.221475</td>\n",
       "      <td>0.125608</td>\n",
       "      <td>-0.394730</td>\n",
       "      <td>-0.195593</td>\n",
       "      <td>0.447121</td>\n",
       "      <td>0.056322</td>\n",
       "      <td>0.990337</td>\n",
       "      <td>-0.134561</td>\n",
       "      <td>-0.171048</td>\n",
       "    </tr>\n",
       "    <tr>\n",
       "      <th>1727</th>\n",
       "      <td>Apoptosis+Cancer+Other_Cancer=ANGPT2_-_6420833...</td>\n",
       "      <td>GAGCAGCCAGACATGTGTAGT</td>\n",
       "      <td>ANGPT2</td>\n",
       "      <td>1313</td>\n",
       "      <td>1269</td>\n",
       "      <td>1010</td>\n",
       "      <td>1188</td>\n",
       "      <td>1442</td>\n",
       "      <td>1313</td>\n",
       "      <td>-0.005726</td>\n",
       "      <td>0.079950</td>\n",
       "      <td>-0.110630</td>\n",
       "      <td>-0.374089</td>\n",
       "      <td>0.010341</td>\n",
       "      <td>0.999736</td>\n",
       "      <td>-0.061964</td>\n",
       "      <td>0.987661</td>\n",
       "      <td>-0.242360</td>\n",
       "      <td>0.037112</td>\n",
       "    </tr>\n",
       "    <tr>\n",
       "      <th>2317</th>\n",
       "      <td>Apoptosis+Cancer+Other_Cancer=ARID1A_+_2702251...</td>\n",
       "      <td>GACTCTCCGCTTTCTGCTGC</td>\n",
       "      <td>ARID1A</td>\n",
       "      <td>745</td>\n",
       "      <td>762</td>\n",
       "      <td>539</td>\n",
       "      <td>441</td>\n",
       "      <td>736</td>\n",
       "      <td>843</td>\n",
       "      <td>-0.158343</td>\n",
       "      <td>0.176373</td>\n",
       "      <td>-0.899610</td>\n",
       "      <td>-0.309506</td>\n",
       "      <td>-0.011429</td>\n",
       "      <td>0.999736</td>\n",
       "      <td>-0.424945</td>\n",
       "      <td>0.806955</td>\n",
       "      <td>-0.604558</td>\n",
       "      <td>0.009015</td>\n",
       "    </tr>\n",
       "    <tr>\n",
       "      <th>2318</th>\n",
       "      <td>Apoptosis+Cancer+Other_Cancer=ARID1A_+_2702262...</td>\n",
       "      <td>GCTCTGTAGGCTCGGGACC</td>\n",
       "      <td>ARID1A</td>\n",
       "      <td>34</td>\n",
       "      <td>61</td>\n",
       "      <td>59</td>\n",
       "      <td>77</td>\n",
       "      <td>43</td>\n",
       "      <td>47</td>\n",
       "      <td>0.189317</td>\n",
       "      <td>-0.338420</td>\n",
       "      <td>0.734026</td>\n",
       "      <td>0.586658</td>\n",
       "      <td>-0.145774</td>\n",
       "      <td>0.999736</td>\n",
       "      <td>0.855925</td>\n",
       "      <td>0.871925</td>\n",
       "      <td>0.660342</td>\n",
       "      <td>-0.074552</td>\n",
       "    </tr>\n",
       "    <tr>\n",
       "      <th>2319</th>\n",
       "      <td>Apoptosis+Cancer+Other_Cancer=ARID1A_+_2702272...</td>\n",
       "      <td>Gctcctctcccccccgccccgc</td>\n",
       "      <td>ARID1A</td>\n",
       "      <td>171</td>\n",
       "      <td>176</td>\n",
       "      <td>207</td>\n",
       "      <td>201</td>\n",
       "      <td>232</td>\n",
       "      <td>180</td>\n",
       "      <td>0.297090</td>\n",
       "      <td>0.063054</td>\n",
       "      <td>0.191952</td>\n",
       "      <td>-0.024547</td>\n",
       "      <td>0.163607</td>\n",
       "      <td>0.991712</td>\n",
       "      <td>0.253817</td>\n",
       "      <td>0.960213</td>\n",
       "      <td>0.083702</td>\n",
       "      <td>0.180072</td>\n",
       "    </tr>\n",
       "    <tr>\n",
       "      <th>2320</th>\n",
       "      <td>Apoptosis+Cancer+Other_Cancer=ARID1A_+_2702278...</td>\n",
       "      <td>Ggctgccctccccacccgccc</td>\n",
       "      <td>ARID1A</td>\n",
       "      <td>0</td>\n",
       "      <td>0</td>\n",
       "      <td>0</td>\n",
       "      <td>0</td>\n",
       "      <td>0</td>\n",
       "      <td>0</td>\n",
       "      <td>-0.140832</td>\n",
       "      <td>0.030813</td>\n",
       "      <td>0.033586</td>\n",
       "      <td>0.139199</td>\n",
       "      <td>NaN</td>\n",
       "      <td>NaN</td>\n",
       "      <td>NaN</td>\n",
       "      <td>NaN</td>\n",
       "      <td>0.086393</td>\n",
       "      <td>-0.055009</td>\n",
       "    </tr>\n",
       "    <tr>\n",
       "      <th>2321</th>\n",
       "      <td>Apoptosis+Cancer+Other_Cancer=ARID1A_+_2702286...</td>\n",
       "      <td>GTCTCGTCCGCGGAGAGACC</td>\n",
       "      <td>ARID1A</td>\n",
       "      <td>342</td>\n",
       "      <td>358</td>\n",
       "      <td>322</td>\n",
       "      <td>702</td>\n",
       "      <td>375</td>\n",
       "      <td>413</td>\n",
       "      <td>-0.008308</td>\n",
       "      <td>0.236460</td>\n",
       "      <td>0.797480</td>\n",
       "      <td>-0.079999</td>\n",
       "      <td>0.091994</td>\n",
       "      <td>0.997765</td>\n",
       "      <td>0.634014</td>\n",
       "      <td>0.777153</td>\n",
       "      <td>0.358741</td>\n",
       "      <td>0.114076</td>\n",
       "    </tr>\n",
       "    <tr>\n",
       "      <th>2322</th>\n",
       "      <td>Apoptosis+Cancer+Other_Cancer=ARID1A_+_2702292...</td>\n",
       "      <td>GCGGCGGGTTGCCCAGGCTGC</td>\n",
       "      <td>ARID1A</td>\n",
       "      <td>511</td>\n",
       "      <td>532</td>\n",
       "      <td>410</td>\n",
       "      <td>1170</td>\n",
       "      <td>520</td>\n",
       "      <td>515</td>\n",
       "      <td>-0.115692</td>\n",
       "      <td>-0.015951</td>\n",
       "      <td>1.215884</td>\n",
       "      <td>-0.202946</td>\n",
       "      <td>-0.091562</td>\n",
       "      <td>0.993440</td>\n",
       "      <td>0.866134</td>\n",
       "      <td>0.615286</td>\n",
       "      <td>0.506469</td>\n",
       "      <td>-0.065822</td>\n",
       "    </tr>\n",
       "    <tr>\n",
       "      <th>2323</th>\n",
       "      <td>Apoptosis+Cancer+Other_Cancer=ARID1A_+_2702292...</td>\n",
       "      <td>GGCGGCGGCGGCGGGTTGCCC</td>\n",
       "      <td>ARID1A</td>\n",
       "      <td>247</td>\n",
       "      <td>228</td>\n",
       "      <td>308</td>\n",
       "      <td>179</td>\n",
       "      <td>324</td>\n",
       "      <td>269</td>\n",
       "      <td>0.249268</td>\n",
       "      <td>0.268425</td>\n",
       "      <td>-0.551376</td>\n",
       "      <td>0.066367</td>\n",
       "      <td>0.234704</td>\n",
       "      <td>0.923972</td>\n",
       "      <td>-0.013157</td>\n",
       "      <td>0.997851</td>\n",
       "      <td>-0.242505</td>\n",
       "      <td>0.258847</td>\n",
       "    </tr>\n",
       "    <tr>\n",
       "      <th>2324</th>\n",
       "      <td>Apoptosis+Cancer+Other_Cancer=ARID1A_+_2702295...</td>\n",
       "      <td>GGCTTTCTTCAGCTCCGAGGG</td>\n",
       "      <td>ARID1A</td>\n",
       "      <td>790</td>\n",
       "      <td>1013</td>\n",
       "      <td>854</td>\n",
       "      <td>480</td>\n",
       "      <td>1092</td>\n",
       "      <td>910</td>\n",
       "      <td>0.325712</td>\n",
       "      <td>-0.123721</td>\n",
       "      <td>-0.887828</td>\n",
       "      <td>-0.215098</td>\n",
       "      <td>0.072590</td>\n",
       "      <td>0.996342</td>\n",
       "      <td>-0.314418</td>\n",
       "      <td>0.920233</td>\n",
       "      <td>-0.551463</td>\n",
       "      <td>0.100995</td>\n",
       "    </tr>\n",
       "    <tr>\n",
       "      <th>2325</th>\n",
       "      <td>Apoptosis+Cancer+Other_Cancer=ARID1A_+_2702305...</td>\n",
       "      <td>GGGGCCCTCGCTTTCCTGCC</td>\n",
       "      <td>ARID1A</td>\n",
       "      <td>541</td>\n",
       "      <td>510</td>\n",
       "      <td>379</td>\n",
       "      <td>496</td>\n",
       "      <td>438</td>\n",
       "      <td>393</td>\n",
       "      <td>-0.444904</td>\n",
       "      <td>-0.344314</td>\n",
       "      <td>0.368636</td>\n",
       "      <td>-0.069022</td>\n",
       "      <td>-0.422776</td>\n",
       "      <td>0.091847</td>\n",
       "      <td>0.337701</td>\n",
       "      <td>0.899128</td>\n",
       "      <td>0.149807</td>\n",
       "      <td>-0.394609</td>\n",
       "    </tr>\n",
       "    <tr>\n",
       "      <th>2326</th>\n",
       "      <td>Apoptosis+Cancer+Other_Cancer=ARID1A_+_2702309...</td>\n",
       "      <td>GTCCTGCAGCTCCTTTCCCAG</td>\n",
       "      <td>ARID1A</td>\n",
       "      <td>957</td>\n",
       "      <td>879</td>\n",
       "      <td>1023</td>\n",
       "      <td>899</td>\n",
       "      <td>1150</td>\n",
       "      <td>986</td>\n",
       "      <td>0.123959</td>\n",
       "      <td>0.196360</td>\n",
       "      <td>-0.099539</td>\n",
       "      <td>-0.029473</td>\n",
       "      <td>0.133119</td>\n",
       "      <td>0.920551</td>\n",
       "      <td>0.114926</td>\n",
       "      <td>0.973934</td>\n",
       "      <td>-0.064506</td>\n",
       "      <td>0.160159</td>\n",
       "    </tr>\n",
       "    <tr>\n",
       "      <th>2327</th>\n",
       "      <td>Apoptosis+Cancer+Other_Cancer=ARID1A_-_2702254...</td>\n",
       "      <td>GCAGAAAGCGGAGAGTCACAG</td>\n",
       "      <td>ARID1A</td>\n",
       "      <td>1399</td>\n",
       "      <td>1444</td>\n",
       "      <td>1931</td>\n",
       "      <td>2323</td>\n",
       "      <td>1595</td>\n",
       "      <td>1436</td>\n",
       "      <td>0.048202</td>\n",
       "      <td>0.022804</td>\n",
       "      <td>0.727136</td>\n",
       "      <td>0.414834</td>\n",
       "      <td>0.010417</td>\n",
       "      <td>0.999736</td>\n",
       "      <td>0.752902</td>\n",
       "      <td>0.088016</td>\n",
       "      <td>0.570985</td>\n",
       "      <td>0.035503</td>\n",
       "    </tr>\n",
       "    <tr>\n",
       "      <th>2328</th>\n",
       "      <td>Apoptosis+Cancer+Other_Cancer=ARID1A_-_2702259...</td>\n",
       "      <td>GCCCCCCTCATTCCCAGGCAA</td>\n",
       "      <td>ARID1A</td>\n",
       "      <td>518</td>\n",
       "      <td>503</td>\n",
       "      <td>624</td>\n",
       "      <td>588</td>\n",
       "      <td>531</td>\n",
       "      <td>669</td>\n",
       "      <td>-0.105140</td>\n",
       "      <td>0.441551</td>\n",
       "      <td>-0.152307</td>\n",
       "      <td>0.371629</td>\n",
       "      <td>0.154616</td>\n",
       "      <td>0.959416</td>\n",
       "      <td>0.274976</td>\n",
       "      <td>0.921261</td>\n",
       "      <td>0.109661</td>\n",
       "      <td>0.168205</td>\n",
       "    </tr>\n",
       "    <tr>\n",
       "      <th>2329</th>\n",
       "      <td>Apoptosis+Cancer+Other_Cancer=ARID1A_-_2702262...</td>\n",
       "      <td>GGGGAATGAGCCGGGAGAGCC</td>\n",
       "      <td>ARID1A</td>\n",
       "      <td>1040</td>\n",
       "      <td>1162</td>\n",
       "      <td>1219</td>\n",
       "      <td>1159</td>\n",
       "      <td>1219</td>\n",
       "      <td>1153</td>\n",
       "      <td>0.088079</td>\n",
       "      <td>0.019605</td>\n",
       "      <td>0.041068</td>\n",
       "      <td>0.139199</td>\n",
       "      <td>0.027664</td>\n",
       "      <td>0.999736</td>\n",
       "      <td>0.268680</td>\n",
       "      <td>0.877806</td>\n",
       "      <td>0.090134</td>\n",
       "      <td>0.053842</td>\n",
       "    </tr>\n",
       "    <tr>\n",
       "      <th>2330</th>\n",
       "      <td>Apoptosis+Cancer+Other_Cancer=ARID1A_-_2702272...</td>\n",
       "      <td>GccAGCCCGGAGCCTGAGCCgg</td>\n",
       "      <td>ARID1A</td>\n",
       "      <td>859</td>\n",
       "      <td>951</td>\n",
       "      <td>825</td>\n",
       "      <td>1272</td>\n",
       "      <td>1001</td>\n",
       "      <td>910</td>\n",
       "      <td>0.079642</td>\n",
       "      <td>-0.032697</td>\n",
       "      <td>0.516296</td>\n",
       "      <td>-0.139469</td>\n",
       "      <td>-0.002022</td>\n",
       "      <td>0.999843</td>\n",
       "      <td>0.395721</td>\n",
       "      <td>0.825335</td>\n",
       "      <td>0.188413</td>\n",
       "      <td>0.023473</td>\n",
       "    </tr>\n",
       "    <tr>\n",
       "      <th>2331</th>\n",
       "      <td>Apoptosis+Cancer+Other_Cancer=ARID1A_-_2702276...</td>\n",
       "      <td>Gagcgagcgcagcgcagcag</td>\n",
       "      <td>ARID1A</td>\n",
       "      <td>896</td>\n",
       "      <td>1142</td>\n",
       "      <td>761</td>\n",
       "      <td>769</td>\n",
       "      <td>988</td>\n",
       "      <td>1069</td>\n",
       "      <td>0.000031</td>\n",
       "      <td>-0.064401</td>\n",
       "      <td>-0.441094</td>\n",
       "      <td>-0.236980</td>\n",
       "      <td>-0.061360</td>\n",
       "      <td>0.998586</td>\n",
       "      <td>-0.164600</td>\n",
       "      <td>0.956437</td>\n",
       "      <td>-0.339037</td>\n",
       "      <td>-0.032185</td>\n",
       "    </tr>\n",
       "    <tr>\n",
       "      <th>2332</th>\n",
       "      <td>Apoptosis+Cancer+Other_Cancer=ARID1A_-_2702279...</td>\n",
       "      <td>Gcgaggcccgcccgggcgggt</td>\n",
       "      <td>ARID1A</td>\n",
       "      <td>442</td>\n",
       "      <td>461</td>\n",
       "      <td>301</td>\n",
       "      <td>1127</td>\n",
       "      <td>520</td>\n",
       "      <td>628</td>\n",
       "      <td>0.093145</td>\n",
       "      <td>0.475981</td>\n",
       "      <td>0.876221</td>\n",
       "      <td>-0.647535</td>\n",
       "      <td>0.268799</td>\n",
       "      <td>0.664981</td>\n",
       "      <td>0.565885</td>\n",
       "      <td>0.882205</td>\n",
       "      <td>0.114343</td>\n",
       "      <td>0.284563</td>\n",
       "    </tr>\n",
       "    <tr>\n",
       "      <th>2333</th>\n",
       "      <td>Apoptosis+Cancer+Other_Cancer=ARID1A_-_2702289...</td>\n",
       "      <td>GGACGAGACAGCGGGGATCA</td>\n",
       "      <td>ARID1A</td>\n",
       "      <td>1150</td>\n",
       "      <td>1288</td>\n",
       "      <td>1470</td>\n",
       "      <td>1121</td>\n",
       "      <td>1339</td>\n",
       "      <td>1321</td>\n",
       "      <td>0.078513</td>\n",
       "      <td>0.067283</td>\n",
       "      <td>-0.203063</td>\n",
       "      <td>0.273764</td>\n",
       "      <td>0.046741</td>\n",
       "      <td>0.999165</td>\n",
       "      <td>0.228261</td>\n",
       "      <td>0.924375</td>\n",
       "      <td>0.035350</td>\n",
       "      <td>0.072898</td>\n",
       "    </tr>\n",
       "    <tr>\n",
       "      <th>2334</th>\n",
       "      <td>Apoptosis+Cancer+Other_Cancer=ARID1A_-_2702304...</td>\n",
       "      <td>GgcCGAGCGCGGGGAAATGA</td>\n",
       "      <td>ARID1A</td>\n",
       "      <td>843</td>\n",
       "      <td>791</td>\n",
       "      <td>466</td>\n",
       "      <td>697</td>\n",
       "      <td>1077</td>\n",
       "      <td>919</td>\n",
       "      <td>0.212211</td>\n",
       "      <td>0.246947</td>\n",
       "      <td>-0.364821</td>\n",
       "      <td>-1.067663</td>\n",
       "      <td>0.203918</td>\n",
       "      <td>0.650802</td>\n",
       "      <td>-0.516246</td>\n",
       "      <td>0.711782</td>\n",
       "      <td>-0.716242</td>\n",
       "      <td>0.229579</td>\n",
       "    </tr>\n",
       "    <tr>\n",
       "      <th>2335</th>\n",
       "      <td>Apoptosis+Cancer+Other_Cancer=ARID1A_-_2702308...</td>\n",
       "      <td>GGAAAGCGAGGGCCCCGCCG</td>\n",
       "      <td>ARID1A</td>\n",
       "      <td>480</td>\n",
       "      <td>491</td>\n",
       "      <td>598</td>\n",
       "      <td>396</td>\n",
       "      <td>472</td>\n",
       "      <td>533</td>\n",
       "      <td>-0.165028</td>\n",
       "      <td>0.148995</td>\n",
       "      <td>-0.394114</td>\n",
       "      <td>0.479915</td>\n",
       "      <td>-0.029334</td>\n",
       "      <td>0.999736</td>\n",
       "      <td>0.249278</td>\n",
       "      <td>0.947266</td>\n",
       "      <td>0.042900</td>\n",
       "      <td>-0.008017</td>\n",
       "    </tr>\n",
       "    <tr>\n",
       "      <th>2336</th>\n",
       "      <td>Apoptosis+Cancer+Other_Cancer=ARID1A_-_2702313...</td>\n",
       "      <td>GGACGGGGCCGAGAGCAATG</td>\n",
       "      <td>ARID1A</td>\n",
       "      <td>759</td>\n",
       "      <td>754</td>\n",
       "      <td>681</td>\n",
       "      <td>503</td>\n",
       "      <td>910</td>\n",
       "      <td>735</td>\n",
       "      <td>0.120620</td>\n",
       "      <td>-0.005958</td>\n",
       "      <td>-0.512696</td>\n",
       "      <td>-0.278480</td>\n",
       "      <td>0.036317</td>\n",
       "      <td>0.999736</td>\n",
       "      <td>-0.204848</td>\n",
       "      <td>0.953583</td>\n",
       "      <td>-0.395588</td>\n",
       "      <td>0.057331</td>\n",
       "    </tr>\n",
       "    <tr>\n",
       "      <th>5576</th>\n",
       "      <td>Apoptosis+Cancer+Other_Cancer=CD40LG_+_1357303...</td>\n",
       "      <td>GTCAAAGTGGCCACCTTACTC</td>\n",
       "      <td>CD40LG</td>\n",
       "      <td>548</td>\n",
       "      <td>593</td>\n",
       "      <td>351</td>\n",
       "      <td>357</td>\n",
       "      <td>558</td>\n",
       "      <td>730</td>\n",
       "      <td>-0.114790</td>\n",
       "      <td>0.330222</td>\n",
       "      <td>-0.996326</td>\n",
       "      <td>-0.528073</td>\n",
       "      <td>0.099328</td>\n",
       "      <td>0.994684</td>\n",
       "      <td>-0.603928</td>\n",
       "      <td>0.655443</td>\n",
       "      <td>-0.762199</td>\n",
       "      <td>0.107716</td>\n",
       "    </tr>\n",
       "    <tr>\n",
       "      <th>5577</th>\n",
       "      <td>Apoptosis+Cancer+Other_Cancer=CD40LG_+_1357303...</td>\n",
       "      <td>GTTAAAGTTGAAATGGTATCTTC</td>\n",
       "      <td>CD40LG</td>\n",
       "      <td>734</td>\n",
       "      <td>885</td>\n",
       "      <td>1060</td>\n",
       "      <td>667</td>\n",
       "      <td>824</td>\n",
       "      <td>866</td>\n",
       "      <td>0.025818</td>\n",
       "      <td>-0.000461</td>\n",
       "      <td>-0.342598</td>\n",
       "      <td>0.502158</td>\n",
       "      <td>-0.014592</td>\n",
       "      <td>0.999736</td>\n",
       "      <td>0.297952</td>\n",
       "      <td>0.915055</td>\n",
       "      <td>0.079780</td>\n",
       "      <td>0.012678</td>\n",
       "    </tr>\n",
       "    <tr>\n",
       "      <th>5578</th>\n",
       "      <td>Apoptosis+Cancer+Other_Cancer=CD40LG_+_1357304...</td>\n",
       "      <td>GCCGCAGATCGGGGAGAAGTT</td>\n",
       "      <td>CD40LG</td>\n",
       "      <td>892</td>\n",
       "      <td>1015</td>\n",
       "      <td>1607</td>\n",
       "      <td>486</td>\n",
       "      <td>1049</td>\n",
       "      <td>1028</td>\n",
       "      <td>0.092826</td>\n",
       "      <td>0.049156</td>\n",
       "      <td>-1.045663</td>\n",
       "      <td>0.754078</td>\n",
       "      <td>0.044438</td>\n",
       "      <td>0.999736</td>\n",
       "      <td>0.284075</td>\n",
       "      <td>0.958708</td>\n",
       "      <td>-0.145793</td>\n",
       "      <td>0.070991</td>\n",
       "    </tr>\n",
       "    <tr>\n",
       "      <th>5579</th>\n",
       "      <td>Apoptosis+Cancer+Other_Cancer=CD40LG_+_1357304...</td>\n",
       "      <td>GTCCAGTGGCCGCAGATCG</td>\n",
       "      <td>CD40LG</td>\n",
       "      <td>674</td>\n",
       "      <td>768</td>\n",
       "      <td>433</td>\n",
       "      <td>468</td>\n",
       "      <td>831</td>\n",
       "      <td>714</td>\n",
       "      <td>0.160864</td>\n",
       "      <td>-0.074227</td>\n",
       "      <td>-0.574769</td>\n",
       "      <td>-0.799689</td>\n",
       "      <td>0.018987</td>\n",
       "      <td>0.999736</td>\n",
       "      <td>-0.512502</td>\n",
       "      <td>0.673486</td>\n",
       "      <td>-0.687229</td>\n",
       "      <td>0.043319</td>\n",
       "    </tr>\n",
       "    <tr>\n",
       "      <th>5580</th>\n",
       "      <td>Apoptosis+Cancer+Other_Cancer=CD40LG_+_1357305...</td>\n",
       "      <td>GGACCCCAAATTTAGTTAATAA</td>\n",
       "      <td>CD40LG</td>\n",
       "      <td>574</td>\n",
       "      <td>725</td>\n",
       "      <td>854</td>\n",
       "      <td>649</td>\n",
       "      <td>707</td>\n",
       "      <td>692</td>\n",
       "      <td>0.159356</td>\n",
       "      <td>-0.036301</td>\n",
       "      <td>-0.058829</td>\n",
       "      <td>0.411375</td>\n",
       "      <td>0.030436</td>\n",
       "      <td>0.999736</td>\n",
       "      <td>0.369766</td>\n",
       "      <td>0.848349</td>\n",
       "      <td>0.176273</td>\n",
       "      <td>0.061527</td>\n",
       "    </tr>\n",
       "    <tr>\n",
       "      <th>5581</th>\n",
       "      <td>Apoptosis+Cancer+Other_Cancer=CD40LG_-_1357303...</td>\n",
       "      <td>GCTCTTAACTAATCCTGAGTA</td>\n",
       "      <td>CD40LG</td>\n",
       "      <td>0</td>\n",
       "      <td>0</td>\n",
       "      <td>0</td>\n",
       "      <td>0</td>\n",
       "      <td>0</td>\n",
       "      <td>0</td>\n",
       "      <td>-0.140832</td>\n",
       "      <td>0.030813</td>\n",
       "      <td>0.033586</td>\n",
       "      <td>0.139199</td>\n",
       "      <td>NaN</td>\n",
       "      <td>NaN</td>\n",
       "      <td>NaN</td>\n",
       "      <td>NaN</td>\n",
       "      <td>0.086393</td>\n",
       "      <td>-0.055009</td>\n",
       "    </tr>\n",
       "    <tr>\n",
       "      <th>5582</th>\n",
       "      <td>Apoptosis+Cancer+Other_Cancer=CD40LG_-_1357305...</td>\n",
       "      <td>GCTGTGTATCTTCATAGAAGGT</td>\n",
       "      <td>CD40LG</td>\n",
       "      <td>611</td>\n",
       "      <td>699</td>\n",
       "      <td>933</td>\n",
       "      <td>733</td>\n",
       "      <td>748</td>\n",
       "      <td>743</td>\n",
       "      <td>0.150602</td>\n",
       "      <td>0.118761</td>\n",
       "      <td>0.014064</td>\n",
       "      <td>0.457656</td>\n",
       "      <td>0.108243</td>\n",
       "      <td>0.973946</td>\n",
       "      <td>0.425928</td>\n",
       "      <td>0.776571</td>\n",
       "      <td>0.235860</td>\n",
       "      <td>0.134682</td>\n",
       "    </tr>\n",
       "    <tr>\n",
       "      <th>5583</th>\n",
       "      <td>Apoptosis+Cancer+Other_Cancer=CD40LG_-_1357305...</td>\n",
       "      <td>GTATCTTCATAGAAGGTTGGACA</td>\n",
       "      <td>CD40LG</td>\n",
       "      <td>676</td>\n",
       "      <td>802</td>\n",
       "      <td>542</td>\n",
       "      <td>1108</td>\n",
       "      <td>712</td>\n",
       "      <td>841</td>\n",
       "      <td>-0.066085</td>\n",
       "      <td>0.099234</td>\n",
       "      <td>0.430953</td>\n",
       "      <td>-0.253750</td>\n",
       "      <td>-0.003657</td>\n",
       "      <td>0.999843</td>\n",
       "      <td>0.342783</td>\n",
       "      <td>0.917059</td>\n",
       "      <td>0.088602</td>\n",
       "      <td>0.016574</td>\n",
       "    </tr>\n",
       "    <tr>\n",
       "      <th>5584</th>\n",
       "      <td>Apoptosis+Cancer+Other_Cancer=CD40LG_-_1357306...</td>\n",
       "      <td>GGTTGGTTCTACCCAAATGA</td>\n",
       "      <td>CD40LG</td>\n",
       "      <td>342</td>\n",
       "      <td>366</td>\n",
       "      <td>409</td>\n",
       "      <td>327</td>\n",
       "      <td>370</td>\n",
       "      <td>393</td>\n",
       "      <td>-0.027621</td>\n",
       "      <td>0.133229</td>\n",
       "      <td>-0.230914</td>\n",
       "      <td>0.283404</td>\n",
       "      <td>0.029023</td>\n",
       "      <td>0.999736</td>\n",
       "      <td>0.212633</td>\n",
       "      <td>0.959365</td>\n",
       "      <td>0.026245</td>\n",
       "      <td>0.052804</td>\n",
       "    </tr>\n",
       "    <tr>\n",
       "      <th>5585</th>\n",
       "      <td>Apoptosis+Cancer+Other_Cancer=CD40LG_-_1357306...</td>\n",
       "      <td>GTTCTACCCAAATGATGGATGA</td>\n",
       "      <td>CD40LG</td>\n",
       "      <td>410</td>\n",
       "      <td>445</td>\n",
       "      <td>718</td>\n",
       "      <td>515</td>\n",
       "      <td>622</td>\n",
       "      <td>525</td>\n",
       "      <td>0.459262</td>\n",
       "      <td>0.268832</td>\n",
       "      <td>0.005895</td>\n",
       "      <td>0.345959</td>\n",
       "      <td>0.342030</td>\n",
       "      <td>0.270834</td>\n",
       "      <td>0.373413</td>\n",
       "      <td>0.871294</td>\n",
       "      <td>0.175927</td>\n",
       "      <td>0.364047</td>\n",
       "    </tr>\n",
       "  </tbody>\n",
       "</table>\n",
       "</div>"
      ],
      "text/plain": [
       "                                                   sgId  \\\n",
       "1718  Apoptosis+Cancer+Other_Cancer=ANGPT2_+_6420678...   \n",
       "1719  Apoptosis+Cancer+Other_Cancer=ANGPT2_+_6420729...   \n",
       "1720  Apoptosis+Cancer+Other_Cancer=ANGPT2_+_6420737...   \n",
       "1721  Apoptosis+Cancer+Other_Cancer=ANGPT2_+_6420746...   \n",
       "1722  Apoptosis+Cancer+Other_Cancer=ANGPT2_+_6420752...   \n",
       "1723  Apoptosis+Cancer+Other_Cancer=ANGPT2_+_6420789...   \n",
       "1724  Apoptosis+Cancer+Other_Cancer=ANGPT2_-_6420667...   \n",
       "1725  Apoptosis+Cancer+Other_Cancer=ANGPT2_-_6420691...   \n",
       "1726  Apoptosis+Cancer+Other_Cancer=ANGPT2_-_6420832...   \n",
       "1727  Apoptosis+Cancer+Other_Cancer=ANGPT2_-_6420833...   \n",
       "2317  Apoptosis+Cancer+Other_Cancer=ARID1A_+_2702251...   \n",
       "2318  Apoptosis+Cancer+Other_Cancer=ARID1A_+_2702262...   \n",
       "2319  Apoptosis+Cancer+Other_Cancer=ARID1A_+_2702272...   \n",
       "2320  Apoptosis+Cancer+Other_Cancer=ARID1A_+_2702278...   \n",
       "2321  Apoptosis+Cancer+Other_Cancer=ARID1A_+_2702286...   \n",
       "2322  Apoptosis+Cancer+Other_Cancer=ARID1A_+_2702292...   \n",
       "2323  Apoptosis+Cancer+Other_Cancer=ARID1A_+_2702292...   \n",
       "2324  Apoptosis+Cancer+Other_Cancer=ARID1A_+_2702295...   \n",
       "2325  Apoptosis+Cancer+Other_Cancer=ARID1A_+_2702305...   \n",
       "2326  Apoptosis+Cancer+Other_Cancer=ARID1A_+_2702309...   \n",
       "2327  Apoptosis+Cancer+Other_Cancer=ARID1A_-_2702254...   \n",
       "2328  Apoptosis+Cancer+Other_Cancer=ARID1A_-_2702259...   \n",
       "2329  Apoptosis+Cancer+Other_Cancer=ARID1A_-_2702262...   \n",
       "2330  Apoptosis+Cancer+Other_Cancer=ARID1A_-_2702272...   \n",
       "2331  Apoptosis+Cancer+Other_Cancer=ARID1A_-_2702276...   \n",
       "2332  Apoptosis+Cancer+Other_Cancer=ARID1A_-_2702279...   \n",
       "2333  Apoptosis+Cancer+Other_Cancer=ARID1A_-_2702289...   \n",
       "2334  Apoptosis+Cancer+Other_Cancer=ARID1A_-_2702304...   \n",
       "2335  Apoptosis+Cancer+Other_Cancer=ARID1A_-_2702308...   \n",
       "2336  Apoptosis+Cancer+Other_Cancer=ARID1A_-_2702313...   \n",
       "5576  Apoptosis+Cancer+Other_Cancer=CD40LG_+_1357303...   \n",
       "5577  Apoptosis+Cancer+Other_Cancer=CD40LG_+_1357303...   \n",
       "5578  Apoptosis+Cancer+Other_Cancer=CD40LG_+_1357304...   \n",
       "5579  Apoptosis+Cancer+Other_Cancer=CD40LG_+_1357304...   \n",
       "5580  Apoptosis+Cancer+Other_Cancer=CD40LG_+_1357305...   \n",
       "5581  Apoptosis+Cancer+Other_Cancer=CD40LG_-_1357303...   \n",
       "5582  Apoptosis+Cancer+Other_Cancer=CD40LG_-_1357305...   \n",
       "5583  Apoptosis+Cancer+Other_Cancer=CD40LG_-_1357305...   \n",
       "5584  Apoptosis+Cancer+Other_Cancer=CD40LG_-_1357306...   \n",
       "5585  Apoptosis+Cancer+Other_Cancer=CD40LG_-_1357306...   \n",
       "\n",
       "                       sequence    gene  T0JEV  T0MH  treatedJEV  treatedMH  \\\n",
       "1718     GACACAGCCCTCCCAAGTGAGC  ANGPT2    625   689         641        569   \n",
       "1719     GGATCTGGGGAGAGAGGAACAA  ANGPT2    642   585         346        587   \n",
       "1720    GACACTGTAGGATCTGGGGAGAG  ANGPT2    470   567         744        298   \n",
       "1721       GATACTGACACTGTAGGATC  ANGPT2    675   930         652        448   \n",
       "1722       GATTCGGATACTGACACTGT  ANGPT2   1807  1810        1582       1603   \n",
       "1723     GCTCTTATCAACTTATCATATA  ANGPT2      0     0           0          0   \n",
       "1724        GTAAACTGTCAGATTGCAG  ANGPT2    709   760         628        568   \n",
       "1725      GAAGAACAGTCCTGCTCACTT  ANGPT2    395   392         314        588   \n",
       "1726  GATAAGAGCAGCCAGACATGTGTAG  ANGPT2   1204  1283         843       1148   \n",
       "1727      GAGCAGCCAGACATGTGTAGT  ANGPT2   1313  1269        1010       1188   \n",
       "2317       GACTCTCCGCTTTCTGCTGC  ARID1A    745   762         539        441   \n",
       "2318        GCTCTGTAGGCTCGGGACC  ARID1A     34    61          59         77   \n",
       "2319     Gctcctctcccccccgccccgc  ARID1A    171   176         207        201   \n",
       "2320      Ggctgccctccccacccgccc  ARID1A      0     0           0          0   \n",
       "2321       GTCTCGTCCGCGGAGAGACC  ARID1A    342   358         322        702   \n",
       "2322      GCGGCGGGTTGCCCAGGCTGC  ARID1A    511   532         410       1170   \n",
       "2323      GGCGGCGGCGGCGGGTTGCCC  ARID1A    247   228         308        179   \n",
       "2324      GGCTTTCTTCAGCTCCGAGGG  ARID1A    790  1013         854        480   \n",
       "2325       GGGGCCCTCGCTTTCCTGCC  ARID1A    541   510         379        496   \n",
       "2326      GTCCTGCAGCTCCTTTCCCAG  ARID1A    957   879        1023        899   \n",
       "2327      GCAGAAAGCGGAGAGTCACAG  ARID1A   1399  1444        1931       2323   \n",
       "2328      GCCCCCCTCATTCCCAGGCAA  ARID1A    518   503         624        588   \n",
       "2329      GGGGAATGAGCCGGGAGAGCC  ARID1A   1040  1162        1219       1159   \n",
       "2330     GccAGCCCGGAGCCTGAGCCgg  ARID1A    859   951         825       1272   \n",
       "2331       Gagcgagcgcagcgcagcag  ARID1A    896  1142         761        769   \n",
       "2332      Gcgaggcccgcccgggcgggt  ARID1A    442   461         301       1127   \n",
       "2333       GGACGAGACAGCGGGGATCA  ARID1A   1150  1288        1470       1121   \n",
       "2334       GgcCGAGCGCGGGGAAATGA  ARID1A    843   791         466        697   \n",
       "2335       GGAAAGCGAGGGCCCCGCCG  ARID1A    480   491         598        396   \n",
       "2336       GGACGGGGCCGAGAGCAATG  ARID1A    759   754         681        503   \n",
       "5576      GTCAAAGTGGCCACCTTACTC  CD40LG    548   593         351        357   \n",
       "5577    GTTAAAGTTGAAATGGTATCTTC  CD40LG    734   885        1060        667   \n",
       "5578      GCCGCAGATCGGGGAGAAGTT  CD40LG    892  1015        1607        486   \n",
       "5579        GTCCAGTGGCCGCAGATCG  CD40LG    674   768         433        468   \n",
       "5580     GGACCCCAAATTTAGTTAATAA  CD40LG    574   725         854        649   \n",
       "5581      GCTCTTAACTAATCCTGAGTA  CD40LG      0     0           0          0   \n",
       "5582     GCTGTGTATCTTCATAGAAGGT  CD40LG    611   699         933        733   \n",
       "5583    GTATCTTCATAGAAGGTTGGACA  CD40LG    676   802         542       1108   \n",
       "5584       GGTTGGTTCTACCCAAATGA  CD40LG    342   366         409        327   \n",
       "5585     GTTCTACCCAAATGATGGATGA  CD40LG    410   445         718        515   \n",
       "\n",
       "      untreatedJEV  untreatedMH  essential_lfc_JEV  essential_lfc_MH  \\\n",
       "1718           738          704           0.098580          0.061840   \n",
       "1719           783          622           0.145203          0.119145   \n",
       "1720           571          670           0.139456          0.271235   \n",
       "1721           819          890           0.137769         -0.032542   \n",
       "1722          2188         1974           0.135046          0.155879   \n",
       "1723             0            0          -0.140832          0.030813   \n",
       "1724           813          906           0.056378          0.284019   \n",
       "1725           458          469           0.072162          0.288945   \n",
       "1726          1221         1077          -0.120621         -0.221475   \n",
       "1727          1442         1313          -0.005726          0.079950   \n",
       "2317           736          843          -0.158343          0.176373   \n",
       "2318            43           47           0.189317         -0.338420   \n",
       "2319           232          180           0.297090          0.063054   \n",
       "2320             0            0          -0.140832          0.030813   \n",
       "2321           375          413          -0.008308          0.236460   \n",
       "2322           520          515          -0.115692         -0.015951   \n",
       "2323           324          269           0.249268          0.268425   \n",
       "2324          1092          910           0.325712         -0.123721   \n",
       "2325           438          393          -0.444904         -0.344314   \n",
       "2326          1150          986           0.123959          0.196360   \n",
       "2327          1595         1436           0.048202          0.022804   \n",
       "2328           531          669          -0.105140          0.441551   \n",
       "2329          1219         1153           0.088079          0.019605   \n",
       "2330          1001          910           0.079642         -0.032697   \n",
       "2331           988         1069           0.000031         -0.064401   \n",
       "2332           520          628           0.093145          0.475981   \n",
       "2333          1339         1321           0.078513          0.067283   \n",
       "2334          1077          919           0.212211          0.246947   \n",
       "2335           472          533          -0.165028          0.148995   \n",
       "2336           910          735           0.120620         -0.005958   \n",
       "5576           558          730          -0.114790          0.330222   \n",
       "5577           824          866           0.025818         -0.000461   \n",
       "5578          1049         1028           0.092826          0.049156   \n",
       "5579           831          714           0.160864         -0.074227   \n",
       "5580           707          692           0.159356         -0.036301   \n",
       "5581             0            0          -0.140832          0.030813   \n",
       "5582           748          743           0.150602          0.118761   \n",
       "5583           712          841          -0.066085          0.099234   \n",
       "5584           370          393          -0.027621          0.133229   \n",
       "5585           622          525           0.459262          0.268832   \n",
       "\n",
       "      ricin_lfc_MH  ricin_lfc_JEV  essential_moderated_log2fc  \\\n",
       "1718     -0.273075      -0.063802                    0.054315   \n",
       "1719     -0.049830      -1.036719                    0.108920   \n",
       "1720     -1.132581       0.520425                    0.184226   \n",
       "1721     -0.955124      -0.189341                    0.017666   \n",
       "1722     -0.266592      -0.328411                    0.119888   \n",
       "1723      0.033586       0.139199                         NaN   \n",
       "1724     -0.639088      -0.232769                    0.148588   \n",
       "1725      0.359193      -0.403943                    0.155260   \n",
       "1726      0.125608      -0.394730                   -0.195593   \n",
       "1727     -0.110630      -0.374089                    0.010341   \n",
       "2317     -0.899610      -0.309506                   -0.011429   \n",
       "2318      0.734026       0.586658                   -0.145774   \n",
       "2319      0.191952      -0.024547                    0.163607   \n",
       "2320      0.033586       0.139199                         NaN   \n",
       "2321      0.797480      -0.079999                    0.091994   \n",
       "2322      1.215884      -0.202946                   -0.091562   \n",
       "2323     -0.551376       0.066367                    0.234704   \n",
       "2324     -0.887828      -0.215098                    0.072590   \n",
       "2325      0.368636      -0.069022                   -0.422776   \n",
       "2326     -0.099539      -0.029473                    0.133119   \n",
       "2327      0.727136       0.414834                    0.010417   \n",
       "2328     -0.152307       0.371629                    0.154616   \n",
       "2329      0.041068       0.139199                    0.027664   \n",
       "2330      0.516296      -0.139469                   -0.002022   \n",
       "2331     -0.441094      -0.236980                   -0.061360   \n",
       "2332      0.876221      -0.647535                    0.268799   \n",
       "2333     -0.203063       0.273764                    0.046741   \n",
       "2334     -0.364821      -1.067663                    0.203918   \n",
       "2335     -0.394114       0.479915                   -0.029334   \n",
       "2336     -0.512696      -0.278480                    0.036317   \n",
       "5576     -0.996326      -0.528073                    0.099328   \n",
       "5577     -0.342598       0.502158                   -0.014592   \n",
       "5578     -1.045663       0.754078                    0.044438   \n",
       "5579     -0.574769      -0.799689                    0.018987   \n",
       "5580     -0.058829       0.411375                    0.030436   \n",
       "5581      0.033586       0.139199                         NaN   \n",
       "5582      0.014064       0.457656                    0.108243   \n",
       "5583      0.430953      -0.253750                   -0.003657   \n",
       "5584     -0.230914       0.283404                    0.029023   \n",
       "5585      0.005895       0.345959                    0.342030   \n",
       "\n",
       "      essential_moderated_adj_pval  ricin_moderated_log2fc  \\\n",
       "1718                      0.999736                0.012386   \n",
       "1719                      0.987145               -0.327465   \n",
       "1720                      0.897740                0.016118   \n",
       "1721                      0.999736               -0.370208   \n",
       "1722                      0.784776               -0.120716   \n",
       "1723                           NaN                     NaN   \n",
       "1724                      0.901040               -0.260508   \n",
       "1725                      0.956851                0.218926   \n",
       "1726                      0.447121                0.056322   \n",
       "1727                      0.999736               -0.061964   \n",
       "2317                      0.999736               -0.424945   \n",
       "2318                      0.999736                0.855925   \n",
       "2319                      0.991712                0.253817   \n",
       "2320                           NaN                     NaN   \n",
       "2321                      0.997765                0.634014   \n",
       "2322                      0.993440                0.866134   \n",
       "2323                      0.923972               -0.013157   \n",
       "2324                      0.996342               -0.314418   \n",
       "2325                      0.091847                0.337701   \n",
       "2326                      0.920551                0.114926   \n",
       "2327                      0.999736                0.752902   \n",
       "2328                      0.959416                0.274976   \n",
       "2329                      0.999736                0.268680   \n",
       "2330                      0.999843                0.395721   \n",
       "2331                      0.998586               -0.164600   \n",
       "2332                      0.664981                0.565885   \n",
       "2333                      0.999165                0.228261   \n",
       "2334                      0.650802               -0.516246   \n",
       "2335                      0.999736                0.249278   \n",
       "2336                      0.999736               -0.204848   \n",
       "5576                      0.994684               -0.603928   \n",
       "5577                      0.999736                0.297952   \n",
       "5578                      0.999736                0.284075   \n",
       "5579                      0.999736               -0.512502   \n",
       "5580                      0.999736                0.369766   \n",
       "5581                           NaN                     NaN   \n",
       "5582                      0.973946                0.425928   \n",
       "5583                      0.999843                0.342783   \n",
       "5584                      0.999736                0.212633   \n",
       "5585                      0.270834                0.373413   \n",
       "\n",
       "      ricin_moderated_adj_pval  ricin_lfc_avg  essential_lfc_avg  \n",
       "1718                  0.997272      -0.168438           0.080210  \n",
       "1719                  0.917055      -0.543274           0.132174  \n",
       "1720                  0.997709      -0.306078           0.205346  \n",
       "1721                  0.870948      -0.572233           0.052613  \n",
       "1722                  0.963820      -0.297502           0.145463  \n",
       "1723                       NaN       0.086393          -0.055009  \n",
       "1724                  0.915055      -0.435928           0.170199  \n",
       "1725                  0.963503      -0.022375           0.180553  \n",
       "1726                  0.990337      -0.134561          -0.171048  \n",
       "1727                  0.987661      -0.242360           0.037112  \n",
       "2317                  0.806955      -0.604558           0.009015  \n",
       "2318                  0.871925       0.660342          -0.074552  \n",
       "2319                  0.960213       0.083702           0.180072  \n",
       "2320                       NaN       0.086393          -0.055009  \n",
       "2321                  0.777153       0.358741           0.114076  \n",
       "2322                  0.615286       0.506469          -0.065822  \n",
       "2323                  0.997851      -0.242505           0.258847  \n",
       "2324                  0.920233      -0.551463           0.100995  \n",
       "2325                  0.899128       0.149807          -0.394609  \n",
       "2326                  0.973934      -0.064506           0.160159  \n",
       "2327                  0.088016       0.570985           0.035503  \n",
       "2328                  0.921261       0.109661           0.168205  \n",
       "2329                  0.877806       0.090134           0.053842  \n",
       "2330                  0.825335       0.188413           0.023473  \n",
       "2331                  0.956437      -0.339037          -0.032185  \n",
       "2332                  0.882205       0.114343           0.284563  \n",
       "2333                  0.924375       0.035350           0.072898  \n",
       "2334                  0.711782      -0.716242           0.229579  \n",
       "2335                  0.947266       0.042900          -0.008017  \n",
       "2336                  0.953583      -0.395588           0.057331  \n",
       "5576                  0.655443      -0.762199           0.107716  \n",
       "5577                  0.915055       0.079780           0.012678  \n",
       "5578                  0.958708      -0.145793           0.070991  \n",
       "5579                  0.673486      -0.687229           0.043319  \n",
       "5580                  0.848349       0.176273           0.061527  \n",
       "5581                       NaN       0.086393          -0.055009  \n",
       "5582                  0.776571       0.235860           0.134682  \n",
       "5583                  0.917059       0.088602           0.016574  \n",
       "5584                  0.959365       0.026245           0.052804  \n",
       "5585                  0.871294       0.175927           0.364047  "
      ]
     },
     "execution_count": 41,
     "metadata": {},
     "output_type": "execute_result"
    }
   ],
   "source": [
    "gilbert_2014[gilbert_2014['gene'].isin(['ANGPT2', 'ARID1A', 'CD40LG'])]"
   ]
  },
  {
   "cell_type": "markdown",
   "id": "2aa4b9c4",
   "metadata": {},
   "source": [
    "Looks like I forgot to remove the entries with all zeros.  Whoops.  We can remove these rows are redo the calculations.  "
   ]
  },
  {
   "cell_type": "code",
   "execution_count": 42,
   "id": "a188a57e",
   "metadata": {
    "ExecuteTime": {
     "end_time": "2021-11-24T02:02:29.894215Z",
     "start_time": "2021-11-24T01:57:20.396995Z"
    }
   },
   "outputs": [
    {
     "name": "stdout",
     "output_type": "stream",
     "text": [
      "(209065, 19)\n",
      "(207537, 19)\n",
      "(15976, 3)\n",
      "number with stouffer N/A:  0\n",
      "number with fisher N/A:  0\n",
      "number with both N/A:  0\n"
     ]
    }
   ],
   "source": [
    "print(gilbert_2014.shape)\n",
    "gilbert_2014_no_zeros = gilbert_2014[(gilbert_2014[['T0JEV', 'T0MH', 'treatedJEV', 'treatedMH', 'untreatedJEV', \n",
    "                                                    'untreatedMH']].apply(lambda row: sum(row), axis = 1) > 10)]\n",
    "print(gilbert_2014_no_zeros.shape)\n",
    "gilbert_gene_lvl = pd.DataFrame({'gene': gilbert_2014_no_zeros['gene'].unique().tolist()})\n",
    "gilbert_gene_lvl['essential_stouffer_pval'] = gilbert_gene_lvl['gene'].map(lambda g: stouffers_method(gilbert_2014_no_zeros[gilbert_2014_no_zeros['gene'] == g]['essential_moderated_adj_pval'], \n",
    "                                                                                                      gilbert_2014_no_zeros[gilbert_2014_no_zeros['gene'] == g]['essential_moderated_log2fc']))\n",
    "fishers_pvals = gilbert_2014_no_zeros[['gene', 'essential_moderated_adj_pval']].groupby('gene', as_index = False)\\\n",
    "                                                                      .agg(lambda p: combine_pvalues(p)[1])\n",
    "fishers_pvals.rename(columns = {'essential_moderated_adj_pval': 'essential_fisher_pval'},\n",
    "                     inplace = True)\n",
    "gilbert_gene_lvl = gilbert_gene_lvl.merge(fishers_pvals, on = 'gene', how = 'inner')\n",
    "print(gilbert_gene_lvl.shape)\n",
    "print(\"number with stouffer N/A: \", sum(gilbert_gene_lvl['essential_stouffer_pval'].isna()))\n",
    "print(\"number with fisher N/A: \", sum(gilbert_gene_lvl['essential_fisher_pval'].isna()))\n",
    "print(\"number with both N/A: \", sum(gilbert_gene_lvl['essential_fisher_pval'].isna() & \\\n",
    "                                    gilbert_gene_lvl['essential_stouffer_pval'].isna()))"
   ]
  },
  {
   "cell_type": "code",
   "execution_count": 43,
   "id": "8c2be176",
   "metadata": {
    "ExecuteTime": {
     "end_time": "2021-11-24T02:02:30.037183Z",
     "start_time": "2021-11-24T02:02:29.896134Z"
    }
   },
   "outputs": [
    {
     "name": "stdout",
     "output_type": "stream",
     "text": [
      "0.8828464352628952\n"
     ]
    },
    {
     "data": {
      "text/plain": [
       "<AxesSubplot:xlabel='essential_fisher_pval', ylabel='essential_stouffer_pval'>"
      ]
     },
     "execution_count": 43,
     "metadata": {},
     "output_type": "execute_result"
    },
    {
     "data": {
      "image/png": "[encoded data removed]",
      "text/plain": [
       "<Figure size 432x288 with 1 Axes>"
      ]
     },
     "metadata": {
      "needs_background": "light"
     },
     "output_type": "display_data"
    }
   ],
   "source": [
    "print(gilbert_gene_lvl['essential_fisher_pval'].corr(gilbert_gene_lvl['essential_stouffer_pval']))\n",
    "seaborn.scatterplot(x = 'essential_fisher_pval', y = 'essential_stouffer_pval', \n",
    "                    data = gilbert_gene_lvl, alpha = 0.5, color = 'black')"
   ]
  },
  {
   "cell_type": "markdown",
   "id": "1ff8dcb9",
   "metadata": {
    "ExecuteTime": {
     "end_time": "2021-11-23T21:18:34.016684Z",
     "start_time": "2021-11-23T21:18:33.986582Z"
    }
   },
   "source": [
    "It looks like when the Stouffer value is high, the Fisher value is also high.  However, when the Fisher value is high it's not necessarily true that the Stouffer value is high.  This is likely because of the issues I've discussed before (https://timydaley.github.io/FisherVsStouffer.html) with Fisher's method in that it doesn't reward signals with a consistent direction and it's susceptibility to off-target and outlier effects."
   ]
  },
  {
   "cell_type": "code",
   "execution_count": 44,
   "id": "617727c3",
   "metadata": {
    "ExecuteTime": {
     "end_time": "2021-11-24T02:02:30.049257Z",
     "start_time": "2021-11-24T02:02:30.038617Z"
    }
   },
   "outputs": [
    {
     "data": {
      "text/html": [
       "<div>\n",
       "<style scoped>\n",
       "    .dataframe tbody tr th:only-of-type {\n",
       "        vertical-align: middle;\n",
       "    }\n",
       "\n",
       "    .dataframe tbody tr th {\n",
       "        vertical-align: top;\n",
       "    }\n",
       "\n",
       "    .dataframe thead th {\n",
       "        text-align: right;\n",
       "    }\n",
       "</style>\n",
       "<table border=\"1\" class=\"dataframe\">\n",
       "  <thead>\n",
       "    <tr style=\"text-align: right;\">\n",
       "      <th></th>\n",
       "      <th>gene</th>\n",
       "      <th>essential_stouffer_pval</th>\n",
       "      <th>essential_fisher_pval</th>\n",
       "    </tr>\n",
       "  </thead>\n",
       "  <tbody>\n",
       "    <tr>\n",
       "      <th>11197</th>\n",
       "      <td>SUPV3L1</td>\n",
       "      <td>0.0</td>\n",
       "      <td>0.0</td>\n",
       "    </tr>\n",
       "    <tr>\n",
       "      <th>1741</th>\n",
       "      <td>NBAS</td>\n",
       "      <td>0.0</td>\n",
       "      <td>0.0</td>\n",
       "    </tr>\n",
       "    <tr>\n",
       "      <th>15162</th>\n",
       "      <td>METTL16</td>\n",
       "      <td>0.0</td>\n",
       "      <td>0.0</td>\n",
       "    </tr>\n",
       "    <tr>\n",
       "      <th>4245</th>\n",
       "      <td>METAP2</td>\n",
       "      <td>0.0</td>\n",
       "      <td>0.0</td>\n",
       "    </tr>\n",
       "    <tr>\n",
       "      <th>6708</th>\n",
       "      <td>RTF1</td>\n",
       "      <td>0.0</td>\n",
       "      <td>0.0</td>\n",
       "    </tr>\n",
       "    <tr>\n",
       "      <th>3961</th>\n",
       "      <td>HSD17B10</td>\n",
       "      <td>0.0</td>\n",
       "      <td>0.0</td>\n",
       "    </tr>\n",
       "    <tr>\n",
       "      <th>8815</th>\n",
       "      <td>ABCB7</td>\n",
       "      <td>0.0</td>\n",
       "      <td>0.0</td>\n",
       "    </tr>\n",
       "    <tr>\n",
       "      <th>6428</th>\n",
       "      <td>ORC5</td>\n",
       "      <td>0.0</td>\n",
       "      <td>0.0</td>\n",
       "    </tr>\n",
       "    <tr>\n",
       "      <th>12114</th>\n",
       "      <td>CLNS1A</td>\n",
       "      <td>0.0</td>\n",
       "      <td>0.0</td>\n",
       "    </tr>\n",
       "    <tr>\n",
       "      <th>11227</th>\n",
       "      <td>TBCD</td>\n",
       "      <td>0.0</td>\n",
       "      <td>0.0</td>\n",
       "    </tr>\n",
       "    <tr>\n",
       "      <th>5751</th>\n",
       "      <td>EIF6</td>\n",
       "      <td>0.0</td>\n",
       "      <td>0.0</td>\n",
       "    </tr>\n",
       "    <tr>\n",
       "      <th>7185</th>\n",
       "      <td>ZCCHC9</td>\n",
       "      <td>0.0</td>\n",
       "      <td>0.0</td>\n",
       "    </tr>\n",
       "    <tr>\n",
       "      <th>11029</th>\n",
       "      <td>SHFM1</td>\n",
       "      <td>0.0</td>\n",
       "      <td>0.0</td>\n",
       "    </tr>\n",
       "    <tr>\n",
       "      <th>12883</th>\n",
       "      <td>MTPAP</td>\n",
       "      <td>0.0</td>\n",
       "      <td>0.0</td>\n",
       "    </tr>\n",
       "    <tr>\n",
       "      <th>12854</th>\n",
       "      <td>MRPS27</td>\n",
       "      <td>0.0</td>\n",
       "      <td>0.0</td>\n",
       "    </tr>\n",
       "    <tr>\n",
       "      <th>5773</th>\n",
       "      <td>ESF1</td>\n",
       "      <td>0.0</td>\n",
       "      <td>0.0</td>\n",
       "    </tr>\n",
       "    <tr>\n",
       "      <th>3549</th>\n",
       "      <td>DARS</td>\n",
       "      <td>0.0</td>\n",
       "      <td>0.0</td>\n",
       "    </tr>\n",
       "    <tr>\n",
       "      <th>1647</th>\n",
       "      <td>MNAT1</td>\n",
       "      <td>0.0</td>\n",
       "      <td>0.0</td>\n",
       "    </tr>\n",
       "    <tr>\n",
       "      <th>1627</th>\n",
       "      <td>MIS12</td>\n",
       "      <td>0.0</td>\n",
       "      <td>0.0</td>\n",
       "    </tr>\n",
       "    <tr>\n",
       "      <th>13358</th>\n",
       "      <td>RPL32</td>\n",
       "      <td>0.0</td>\n",
       "      <td>0.0</td>\n",
       "    </tr>\n",
       "  </tbody>\n",
       "</table>\n",
       "</div>"
      ],
      "text/plain": [
       "           gene  essential_stouffer_pval  essential_fisher_pval\n",
       "11197   SUPV3L1                      0.0                    0.0\n",
       "1741       NBAS                      0.0                    0.0\n",
       "15162   METTL16                      0.0                    0.0\n",
       "4245     METAP2                      0.0                    0.0\n",
       "6708       RTF1                      0.0                    0.0\n",
       "3961   HSD17B10                      0.0                    0.0\n",
       "8815      ABCB7                      0.0                    0.0\n",
       "6428       ORC5                      0.0                    0.0\n",
       "12114    CLNS1A                      0.0                    0.0\n",
       "11227      TBCD                      0.0                    0.0\n",
       "5751       EIF6                      0.0                    0.0\n",
       "7185     ZCCHC9                      0.0                    0.0\n",
       "11029     SHFM1                      0.0                    0.0\n",
       "12883     MTPAP                      0.0                    0.0\n",
       "12854    MRPS27                      0.0                    0.0\n",
       "5773       ESF1                      0.0                    0.0\n",
       "3549       DARS                      0.0                    0.0\n",
       "1647      MNAT1                      0.0                    0.0\n",
       "1627      MIS12                      0.0                    0.0\n",
       "13358     RPL32                      0.0                    0.0"
      ]
     },
     "execution_count": 44,
     "metadata": {},
     "output_type": "execute_result"
    }
   ],
   "source": [
    "# top genes\n",
    "gilbert_gene_lvl.sort_values(by = 'essential_fisher_pval', ascending = True).head(20)"
   ]
  },
  {
   "cell_type": "code",
   "execution_count": 45,
   "id": "e25169c8",
   "metadata": {
    "ExecuteTime": {
     "end_time": "2021-11-24T02:02:30.062340Z",
     "start_time": "2021-11-24T02:02:30.051197Z"
    }
   },
   "outputs": [
    {
     "data": {
      "text/html": [
       "<div>\n",
       "<style scoped>\n",
       "    .dataframe tbody tr th:only-of-type {\n",
       "        vertical-align: middle;\n",
       "    }\n",
       "\n",
       "    .dataframe tbody tr th {\n",
       "        vertical-align: top;\n",
       "    }\n",
       "\n",
       "    .dataframe thead th {\n",
       "        text-align: right;\n",
       "    }\n",
       "</style>\n",
       "<table border=\"1\" class=\"dataframe\">\n",
       "  <thead>\n",
       "    <tr style=\"text-align: right;\">\n",
       "      <th></th>\n",
       "      <th>gene</th>\n",
       "      <th>essential_stouffer_pval</th>\n",
       "      <th>essential_fisher_pval</th>\n",
       "    </tr>\n",
       "  </thead>\n",
       "  <tbody>\n",
       "    <tr>\n",
       "      <th>1676</th>\n",
       "      <td>MRPS35</td>\n",
       "      <td>0.0</td>\n",
       "      <td>2.133178e-166</td>\n",
       "    </tr>\n",
       "    <tr>\n",
       "      <th>765</th>\n",
       "      <td>DHX16</td>\n",
       "      <td>0.0</td>\n",
       "      <td>6.340320e-118</td>\n",
       "    </tr>\n",
       "    <tr>\n",
       "      <th>4335</th>\n",
       "      <td>NARS2</td>\n",
       "      <td>0.0</td>\n",
       "      <td>7.454323e-33</td>\n",
       "    </tr>\n",
       "    <tr>\n",
       "      <th>10724</th>\n",
       "      <td>PRPF8</td>\n",
       "      <td>0.0</td>\n",
       "      <td>1.646771e-111</td>\n",
       "    </tr>\n",
       "    <tr>\n",
       "      <th>768</th>\n",
       "      <td>DICER1</td>\n",
       "      <td>0.0</td>\n",
       "      <td>2.090871e-152</td>\n",
       "    </tr>\n",
       "    <tr>\n",
       "      <th>10722</th>\n",
       "      <td>PRPF3</td>\n",
       "      <td>0.0</td>\n",
       "      <td>1.430806e-155</td>\n",
       "    </tr>\n",
       "    <tr>\n",
       "      <th>11793</th>\n",
       "      <td>ACTR10</td>\n",
       "      <td>0.0</td>\n",
       "      <td>1.286949e-80</td>\n",
       "    </tr>\n",
       "    <tr>\n",
       "      <th>772</th>\n",
       "      <td>DIS3</td>\n",
       "      <td>0.0</td>\n",
       "      <td>2.115976e-36</td>\n",
       "    </tr>\n",
       "    <tr>\n",
       "      <th>10710</th>\n",
       "      <td>PPWD1</td>\n",
       "      <td>0.0</td>\n",
       "      <td>8.043431e-91</td>\n",
       "    </tr>\n",
       "    <tr>\n",
       "      <th>8689</th>\n",
       "      <td>TMEM261</td>\n",
       "      <td>0.0</td>\n",
       "      <td>6.947308e-28</td>\n",
       "    </tr>\n",
       "    <tr>\n",
       "      <th>9271</th>\n",
       "      <td>CENPC</td>\n",
       "      <td>0.0</td>\n",
       "      <td>3.202081e-174</td>\n",
       "    </tr>\n",
       "    <tr>\n",
       "      <th>785</th>\n",
       "      <td>DLST</td>\n",
       "      <td>0.0</td>\n",
       "      <td>4.991865e-78</td>\n",
       "    </tr>\n",
       "    <tr>\n",
       "      <th>9269</th>\n",
       "      <td>CENPA</td>\n",
       "      <td>0.0</td>\n",
       "      <td>1.263108e-175</td>\n",
       "    </tr>\n",
       "    <tr>\n",
       "      <th>2213</th>\n",
       "      <td>PTTG1</td>\n",
       "      <td>0.0</td>\n",
       "      <td>4.133527e-74</td>\n",
       "    </tr>\n",
       "    <tr>\n",
       "      <th>10702</th>\n",
       "      <td>PPIE</td>\n",
       "      <td>0.0</td>\n",
       "      <td>4.294164e-87</td>\n",
       "    </tr>\n",
       "    <tr>\n",
       "      <th>789</th>\n",
       "      <td>DNA2</td>\n",
       "      <td>0.0</td>\n",
       "      <td>3.718237e-141</td>\n",
       "    </tr>\n",
       "    <tr>\n",
       "      <th>13948</th>\n",
       "      <td>XRN2</td>\n",
       "      <td>0.0</td>\n",
       "      <td>2.024498e-64</td>\n",
       "    </tr>\n",
       "    <tr>\n",
       "      <th>14893</th>\n",
       "      <td>GPN2</td>\n",
       "      <td>0.0</td>\n",
       "      <td>1.184472e-196</td>\n",
       "    </tr>\n",
       "    <tr>\n",
       "      <th>5252</th>\n",
       "      <td>TRAPPC5</td>\n",
       "      <td>0.0</td>\n",
       "      <td>1.548175e-149</td>\n",
       "    </tr>\n",
       "    <tr>\n",
       "      <th>6708</th>\n",
       "      <td>RTF1</td>\n",
       "      <td>0.0</td>\n",
       "      <td>0.000000e+00</td>\n",
       "    </tr>\n",
       "  </tbody>\n",
       "</table>\n",
       "</div>"
      ],
      "text/plain": [
       "          gene  essential_stouffer_pval  essential_fisher_pval\n",
       "1676    MRPS35                      0.0          2.133178e-166\n",
       "765      DHX16                      0.0          6.340320e-118\n",
       "4335     NARS2                      0.0           7.454323e-33\n",
       "10724    PRPF8                      0.0          1.646771e-111\n",
       "768     DICER1                      0.0          2.090871e-152\n",
       "10722    PRPF3                      0.0          1.430806e-155\n",
       "11793   ACTR10                      0.0           1.286949e-80\n",
       "772       DIS3                      0.0           2.115976e-36\n",
       "10710    PPWD1                      0.0           8.043431e-91\n",
       "8689   TMEM261                      0.0           6.947308e-28\n",
       "9271     CENPC                      0.0          3.202081e-174\n",
       "785       DLST                      0.0           4.991865e-78\n",
       "9269     CENPA                      0.0          1.263108e-175\n",
       "2213     PTTG1                      0.0           4.133527e-74\n",
       "10702     PPIE                      0.0           4.294164e-87\n",
       "789       DNA2                      0.0          3.718237e-141\n",
       "13948     XRN2                      0.0           2.024498e-64\n",
       "14893     GPN2                      0.0          1.184472e-196\n",
       "5252   TRAPPC5                      0.0          1.548175e-149\n",
       "6708      RTF1                      0.0           0.000000e+00"
      ]
     },
     "execution_count": 45,
     "metadata": {},
     "output_type": "execute_result"
    }
   ],
   "source": [
    "gilbert_gene_lvl.sort_values(by = 'essential_stouffer_pval', ascending = True).head(20)"
   ]
  },
  {
   "cell_type": "markdown",
   "id": "d67d1fc8",
   "metadata": {},
   "source": [
    "Now we can test the performance using the essential gene list from [Hart et al 2014](https://www.embopress.org/doi/pdf/10.15252/msb.20145216).  This was generated from separate RNAi screens across multiple cell lines (probably including K562 because it's the most common cell line).  "
   ]
  },
  {
   "cell_type": "code",
   "execution_count": 47,
   "id": "8487e7fe",
   "metadata": {
    "ExecuteTime": {
     "end_time": "2021-11-24T23:03:59.551007Z",
     "start_time": "2021-11-24T23:03:59.539633Z"
    }
   },
   "outputs": [
    {
     "data": {
      "text/html": [
       "<div>\n",
       "<style scoped>\n",
       "    .dataframe tbody tr th:only-of-type {\n",
       "        vertical-align: middle;\n",
       "    }\n",
       "\n",
       "    .dataframe tbody tr th {\n",
       "        vertical-align: top;\n",
       "    }\n",
       "\n",
       "    .dataframe thead th {\n",
       "        text-align: right;\n",
       "    }\n",
       "</style>\n",
       "<table border=\"1\" class=\"dataframe\">\n",
       "  <thead>\n",
       "    <tr style=\"text-align: right;\">\n",
       "      <th></th>\n",
       "      <th>gene</th>\n",
       "      <th>hgnc</th>\n",
       "    </tr>\n",
       "  </thead>\n",
       "  <tbody>\n",
       "    <tr>\n",
       "      <th>0</th>\n",
       "      <td>AAMP</td>\n",
       "      <td>HGNC:18</td>\n",
       "    </tr>\n",
       "    <tr>\n",
       "      <th>1</th>\n",
       "      <td>AARS2</td>\n",
       "      <td>HGNC:21022</td>\n",
       "    </tr>\n",
       "    <tr>\n",
       "      <th>2</th>\n",
       "      <td>AARS</td>\n",
       "      <td>HGNC:20</td>\n",
       "    </tr>\n",
       "    <tr>\n",
       "      <th>3</th>\n",
       "      <td>AASDHPPT</td>\n",
       "      <td>HGNC:14235</td>\n",
       "    </tr>\n",
       "    <tr>\n",
       "      <th>4</th>\n",
       "      <td>AATF</td>\n",
       "      <td>HGNC:19235</td>\n",
       "    </tr>\n",
       "  </tbody>\n",
       "</table>\n",
       "</div>"
      ],
      "text/plain": [
       "       gene        hgnc\n",
       "0      AAMP     HGNC:18\n",
       "1     AARS2  HGNC:21022\n",
       "2      AARS     HGNC:20\n",
       "3  AASDHPPT  HGNC:14235\n",
       "4      AATF  HGNC:19235"
      ]
     },
     "execution_count": 47,
     "metadata": {},
     "output_type": "execute_result"
    }
   ],
   "source": [
    "essential_genes = pd.read_csv(\"core-essential-genes-sym_HGNCID.txt\", header = None, \n",
    "                              sep = '\\t', names = ['gene', 'hgnc'])\n",
    "essential_genes.head()"
   ]
  },
  {
   "cell_type": "code",
   "execution_count": 48,
   "id": "456987e3",
   "metadata": {
    "ExecuteTime": {
     "end_time": "2021-11-24T23:06:46.135937Z",
     "start_time": "2021-11-24T23:06:46.128765Z"
    }
   },
   "outputs": [
    {
     "data": {
      "text/plain": [
       "1561"
      ]
     },
     "execution_count": 48,
     "metadata": {},
     "output_type": "execute_result"
    }
   ],
   "source": [
    "sum(essential_genes['gene'].isin(gilbert_gene_lvl['gene']))"
   ]
  },
  {
   "cell_type": "code",
   "execution_count": 51,
   "id": "afb82244",
   "metadata": {
    "ExecuteTime": {
     "end_time": "2021-11-24T23:12:45.696651Z",
     "start_time": "2021-11-24T23:12:45.276814Z"
    }
   },
   "outputs": [
    {
     "data": {
      "text/plain": [
       "<matplotlib.legend.Legend at 0x13ca0f5e0>"
      ]
     },
     "execution_count": 51,
     "metadata": {},
     "output_type": "execute_result"
    },
    {
     "data": {
      "image/png": "[encoded data removed]",
      "text/plain": [
       "<Figure size 432x288 with 1 Axes>"
      ]
     },
     "metadata": {
      "needs_background": "light"
     },
     "output_type": "display_data"
    }
   ],
   "source": [
    "essential_gene_mask = (gilbert_gene_lvl['gene'].isin(essential_genes['gene']))\n",
    "fig, ax = plt.subplots()\n",
    "seaborn.distplot(gilbert_gene_lvl[essential_gene_mask]['essential_stouffer_pval'], \n",
    "                 ax = ax, color = 'darkred', label = 'stouffer', kde = False, bins = np.linspace(0, 1, 20))\n",
    "seaborn.distplot(gilbert_gene_lvl[essential_gene_mask]['essential_fisher_pval'], \n",
    "                 ax = ax, color = 'skyblue', label = 'fisher', kde = False, bins = np.linspace(0, 1, 20))\n",
    "ax.set_xlabel('gene-level p-value')\n",
    "ax.legend()"
   ]
  },
  {
   "cell_type": "markdown",
   "id": "45f19f0d",
   "metadata": {},
   "source": [
    "Looks like the fisher and stouffer agree on the clear signal genes, while stouffer shows lower p-values for a large number of genes that fisher is uncertain about.  What about the \"non-essential\" genes?  I put non-essential in quotes because we don't actually know if they are non-essential or not, but the majority should be. "
   ]
  },
  {
   "cell_type": "code",
   "execution_count": 52,
   "id": "41e72f15",
   "metadata": {
    "ExecuteTime": {
     "end_time": "2021-11-24T23:20:26.342220Z",
     "start_time": "2021-11-24T23:20:26.108975Z"
    }
   },
   "outputs": [
    {
     "data": {
      "text/plain": [
       "<matplotlib.legend.Legend at 0x13c79cd00>"
      ]
     },
     "execution_count": 52,
     "metadata": {},
     "output_type": "execute_result"
    },
    {
     "data": {
      "image/png": "[encoded data removed]",
      "text/plain": [
       "<Figure size 432x288 with 1 Axes>"
      ]
     },
     "metadata": {
      "needs_background": "light"
     },
     "output_type": "display_data"
    }
   ],
   "source": [
    "fig, ax = plt.subplots()\n",
    "seaborn.distplot(gilbert_gene_lvl[~essential_gene_mask]['essential_stouffer_pval'], \n",
    "                 ax = ax, color = 'darkred', label = 'stouffer', kde = False, bins = np.linspace(0, 1, 20))\n",
    "seaborn.distplot(gilbert_gene_lvl[~essential_gene_mask]['essential_fisher_pval'], \n",
    "                 ax = ax, color = 'skyblue', label = 'fisher', kde = False, bins = np.linspace(0, 1, 20))\n",
    "ax.set_xlabel('gene-level p-value')\n",
    "ax.legend()"
   ]
  },
  {
   "cell_type": "markdown",
   "id": "c53c3593",
   "metadata": {},
   "source": [
    "Interesting that Fisher's method is very bimodal, while Stouffer's method is a lot more smooth.  This is one reason why I prefer Stouffer's.  \n",
    "\n"
   ]
  },
  {
   "cell_type": "code",
   "execution_count": null,
   "id": "3f8b12b4",
   "metadata": {
    "ExecuteTime": {
     "end_time": "2021-11-28T03:48:42.414177Z",
     "start_time": "2021-11-28T03:48:34.045853Z"
    }
   },
   "outputs": [],
   "source": []
  },
  {
   "cell_type": "code",
   "execution_count": null,
   "id": "2e31400a",
   "metadata": {},
   "outputs": [],
   "source": []
  }
 ],
 "metadata": {
  "kernelspec": {
   "display_name": "blog",
   "language": "python",
   "name": "blog"
  },
  "language_info": {
   "codemirror_mode": {
    "name": "ipython",
    "version": 3
   },
   "file_extension": ".py",
   "mimetype": "text/x-python",
   "name": "python",
   "nbconvert_exporter": "python",
   "pygments_lexer": "ipython3",
   "version": "3.9.1"
  },
  "varInspector": {
   "cols": {
    "lenName": 16,
    "lenType": 16,
    "lenVar": 40
   },
   "kernels_config": {
    "python": {
     "delete_cmd_postfix": "",
     "delete_cmd_prefix": "del ",
     "library": "var_list.py",
     "varRefreshCmd": "print(var_dic_list())"
    },
    "r": {
     "delete_cmd_postfix": ") ",
     "delete_cmd_prefix": "rm(",
     "library": "var_list.r",
     "varRefreshCmd": "cat(var_dic_list()) "
    }
   },
   "types_to_exclude": [
    "module",
    "function",
    "builtin_function_or_method",
    "instance",
    "_Feature"
   ],
   "window_display": false
  }
 },
 "nbformat": 4,
 "nbformat_minor": 5
}
