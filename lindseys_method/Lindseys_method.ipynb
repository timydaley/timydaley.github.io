{
 "cells": [
  {
   "cell_type": "markdown",
   "id": "5b4c0667-70ca-4d08-91c0-62e283018434",
   "metadata": {},
   "source": [
    "Lindsey's methods is a technique for nonparametric density estimation for exponential families.  I first encountered it in Efron's book *Large-Scale Inference* [link](https://efron.ckirby.su.domains/other/2010LSIexcerpt.pdf), though the technique originates from [Construction and Comparison of Statistical Models](https://rss.onlinelibrary.wiley.com/doi/abs/10.1111/j.2517-6161.1974.tb01015.x).  \n",
    "\n",
    "Suppose we want to fit a continuous $J$-parameter exponential family to one-dimensional data,\n",
    "$$\n",
    "f(x) = \\exp \\bigg( \\sum_{j=1}^{J} \\beta_{j} x^{j} \\bigg).\n",
    "$$\n",
    "If the data is only positive, then $J$ can be odd or even, but if the data is both positive and negative then $J$ has to be even to ensure the density integrates to 1.   \n",
    "\n",
    "The trick of Lindsey's method is convert the difficult problem of general exponential family density estimation into Poisson regression through binning.  Suppose you bin your data into $K$ bins of equal width $d$.  Define $y_{k} = \\sum_{i=1}^{N} 1(x_{i} \\in k \\text{th bin})$. If we define $m_{k}$ as the midpoint of the $k$th bin, then $y_{k}$ is Poisson distributed with expected value \n",
    "$$ \n",
    "\\mathrm{E} y_{k} = N d f(m_{k}).\n",
    "$$\n",
    "\n",
    "Why would we want to use Lindsey's method, when standard methods would be better.  One, is that we can use a large polynomial to fit a high parameter exponential family to allow us some flexibility in fitting models.  Two, is that we can fit a distribution to just part of the observed data.  Efron's application was to fit a high parameter exponential family to the central peak.  His goal was to identify outliers using the local fdr on tail observation by comparing the empirical distribution to the expected distribution from fitting the central peak under the two groups assumption (see my previous post [2 groups](https://timydaley.github.io/twoGroupsBackground.html)).  \n",
    "\n",
    "My use of Lindsey's method was to fit the null distribution of CRISPR guide RNAs in a large pooled screen.  I did not find that Lindsey's method worked well for this application because the null distribution tail was too long.  Instead I used a skewed $t$ distribution.   \n",
    "\n",
    "Here, I'll show with code how to use Lindsey's method, using and [old notebook](file:///Users/timothydaley/Downloads/LindseysMethod.html) as a guide."
   ]
  },
  {
   "cell_type": "code",
   "execution_count": 1,
   "id": "a4112c24-381b-420b-9a6e-8e9d0f8ac340",
   "metadata": {},
   "outputs": [],
   "source": [
    "import pandas as pd\n",
    "import numpy as np\n",
    "import matplotlib.pyplot as plt\n",
    "import seaborn\n",
    "import statsmodels.api as sm"
   ]
  },
  {
   "cell_type": "code",
   "execution_count": 2,
   "id": "f91ac46f-550d-4562-a744-4a7adf5afc75",
   "metadata": {},
   "outputs": [
    {
     "name": "stdout",
     "output_type": "stream",
     "text": [
      "(20640, 10)\n"
     ]
    },
    {
     "data": {
      "text/html": [
       "<div>\n",
       "<style scoped>\n",
       "    .dataframe tbody tr th:only-of-type {\n",
       "        vertical-align: middle;\n",
       "    }\n",
       "\n",
       "    .dataframe tbody tr th {\n",
       "        vertical-align: top;\n",
       "    }\n",
       "\n",
       "    .dataframe thead th {\n",
       "        text-align: right;\n",
       "    }\n",
       "</style>\n",
       "<table border=\"1\" class=\"dataframe\">\n",
       "  <thead>\n",
       "    <tr style=\"text-align: right;\">\n",
       "      <th></th>\n",
       "      <th>longitude</th>\n",
       "      <th>latitude</th>\n",
       "      <th>housing_median_age</th>\n",
       "      <th>total_rooms</th>\n",
       "      <th>total_bedrooms</th>\n",
       "      <th>population</th>\n",
       "      <th>households</th>\n",
       "      <th>median_income</th>\n",
       "      <th>median_house_value</th>\n",
       "      <th>ocean_proximity</th>\n",
       "    </tr>\n",
       "  </thead>\n",
       "  <tbody>\n",
       "    <tr>\n",
       "      <th>0</th>\n",
       "      <td>-122.23</td>\n",
       "      <td>37.88</td>\n",
       "      <td>41.0</td>\n",
       "      <td>880.0</td>\n",
       "      <td>129.0</td>\n",
       "      <td>322.0</td>\n",
       "      <td>126.0</td>\n",
       "      <td>8.3252</td>\n",
       "      <td>452600.0</td>\n",
       "      <td>NEAR BAY</td>\n",
       "    </tr>\n",
       "    <tr>\n",
       "      <th>1</th>\n",
       "      <td>-122.22</td>\n",
       "      <td>37.86</td>\n",
       "      <td>21.0</td>\n",
       "      <td>7099.0</td>\n",
       "      <td>1106.0</td>\n",
       "      <td>2401.0</td>\n",
       "      <td>1138.0</td>\n",
       "      <td>8.3014</td>\n",
       "      <td>358500.0</td>\n",
       "      <td>NEAR BAY</td>\n",
       "    </tr>\n",
       "    <tr>\n",
       "      <th>2</th>\n",
       "      <td>-122.24</td>\n",
       "      <td>37.85</td>\n",
       "      <td>52.0</td>\n",
       "      <td>1467.0</td>\n",
       "      <td>190.0</td>\n",
       "      <td>496.0</td>\n",
       "      <td>177.0</td>\n",
       "      <td>7.2574</td>\n",
       "      <td>352100.0</td>\n",
       "      <td>NEAR BAY</td>\n",
       "    </tr>\n",
       "  </tbody>\n",
       "</table>\n",
       "</div>"
      ],
      "text/plain": [
       "   longitude  latitude  housing_median_age  total_rooms  total_bedrooms  \\\n",
       "0    -122.23     37.88                41.0        880.0           129.0   \n",
       "1    -122.22     37.86                21.0       7099.0          1106.0   \n",
       "2    -122.24     37.85                52.0       1467.0           190.0   \n",
       "\n",
       "   population  households  median_income  median_house_value ocean_proximity  \n",
       "0       322.0       126.0         8.3252            452600.0        NEAR BAY  \n",
       "1      2401.0      1138.0         8.3014            358500.0        NEAR BAY  \n",
       "2       496.0       177.0         7.2574            352100.0        NEAR BAY  "
      ]
     },
     "execution_count": 2,
     "metadata": {},
     "output_type": "execute_result"
    }
   ],
   "source": [
    "housing=pd.read_csv('housing.csv')\n",
    "print(housing.shape)\n",
    "housing.head(3)"
   ]
  },
  {
   "cell_type": "code",
   "execution_count": 3,
   "id": "98f21dcf-545e-46a3-89b5-e8f620596645",
   "metadata": {},
   "outputs": [
    {
     "data": {
      "text/plain": [
       "<Axes: xlabel='median_income', ylabel='Count'>"
      ]
     },
     "execution_count": 3,
     "metadata": {},
     "output_type": "execute_result"
    },
    {
     "data": {
      "image/png": "[encoded data removed]",
      "text/plain": [
       "<Figure size 640x480 with 1 Axes>"
      ]
     },
     "metadata": {},
     "output_type": "display_data"
    }
   ],
   "source": [
    "seaborn.histplot(x='median_income', data=housing, color='darkgrey', bins=50)"
   ]
  },
  {
   "cell_type": "code",
   "execution_count": 4,
   "id": "2c1cabae-4704-49d7-b30e-bf7e4948ba4b",
   "metadata": {},
   "outputs": [
    {
     "data": {
      "text/plain": [
       "49"
      ]
     },
     "execution_count": 4,
     "metadata": {},
     "output_type": "execute_result"
    }
   ],
   "source": [
    "y=housing['median_income']\n",
    "sum(y==max(y))"
   ]
  },
  {
   "cell_type": "code",
   "execution_count": 5,
   "id": "9bd8b7b6-cd0b-42b8-a3f5-9c6cb0dd8dbd",
   "metadata": {},
   "outputs": [],
   "source": [
    "y=y[y != max(y)]"
   ]
  },
  {
   "cell_type": "code",
   "execution_count": 6,
   "id": "aec16651-39bc-4fe2-a9dd-805b976af7eb",
   "metadata": {},
   "outputs": [
    {
     "data": {
      "text/plain": [
       "<Axes: xlabel='median_income', ylabel='Count'>"
      ]
     },
     "execution_count": 6,
     "metadata": {},
     "output_type": "execute_result"
    },
    {
     "data": {
      "image/png": "[encoded data removed]",
      "text/plain": [
       "<Figure size 640x480 with 1 Axes>"
      ]
     },
     "metadata": {},
     "output_type": "display_data"
    }
   ],
   "source": [
    "seaborn.histplot(x=y, color='darkgrey', bins=50)"
   ]
  },
  {
   "cell_type": "code",
   "execution_count": 7,
   "id": "d0c568b4-3a68-4082-b8c9-3bed9eeced39",
   "metadata": {},
   "outputs": [
    {
     "name": "stdout",
     "output_type": "stream",
     "text": [
      "True\n"
     ]
    }
   ],
   "source": [
    "bins=np.linspace(min(y)-1, max(y)+1, num=50)\n",
    "midpoints=np.zeros(len(bins)-1)\n",
    "hist_counts=np.zeros(len(bins)-1)\n",
    "for i in range(len(midpoints)):\n",
    "    midpoints[i]=(bins[i]+bins[i+1])/2.0\n",
    "    hist_counts[i]=sum((y >= bins[i]) & (y < bins[i+1]))\n",
    "N=sum(hist_counts)\n",
    "d=bins[1]-bins[0]\n",
    "# check if counts are correct\n",
    "print(sum(hist_counts) == len(y))"
   ]
  },
  {
   "cell_type": "code",
   "execution_count": 8,
   "id": "b1e5ce33-7615-42a8-ada7-353eca6b8611",
   "metadata": {},
   "outputs": [
    {
     "data": {
      "text/plain": [
       "array([[1, 1],\n",
       "       [2, 4],\n",
       "       [3, 9]])"
      ]
     },
     "execution_count": 8,
     "metadata": {},
     "output_type": "execute_result"
    }
   ],
   "source": [
    "# R has built in poly() function to produce polynomials of data, \n",
    "# for python we need to build that manually\n",
    "def raw_poly(x, p):\n",
    "    x = np.array(x)\n",
    "    X = np.transpose(np.vstack([x**k for k in range(1, p+1)]))\n",
    "    return X\n",
    "    \n",
    "# checking output against R output\n",
    "test= [1, 2, 3]\n",
    "raw_poly(test, 2)"
   ]
  },
  {
   "cell_type": "code",
   "execution_count": 9,
   "id": "a7f89648-e1d8-433c-b711-7ed46cd23ee2",
   "metadata": {},
   "outputs": [
    {
     "data": {
      "text/html": [
       "<table class=\"simpletable\">\n",
       "<caption>Generalized Linear Model Regression Results</caption>\n",
       "<tr>\n",
       "  <th>Dep. Variable:</th>           <td>y</td>        <th>  No. Observations:  </th>  <td>    49</td> \n",
       "</tr>\n",
       "<tr>\n",
       "  <th>Model:</th>                  <td>GLM</td>       <th>  Df Residuals:      </th>  <td>    44</td> \n",
       "</tr>\n",
       "<tr>\n",
       "  <th>Model Family:</th>         <td>Poisson</td>     <th>  Df Model:          </th>  <td>     4</td> \n",
       "</tr>\n",
       "<tr>\n",
       "  <th>Link Function:</th>          <td>Log</td>       <th>  Scale:             </th> <td>  1.0000</td>\n",
       "</tr>\n",
       "<tr>\n",
       "  <th>Method:</th>                <td>IRLS</td>       <th>  Log-Likelihood:    </th> <td> -351.20</td>\n",
       "</tr>\n",
       "<tr>\n",
       "  <th>Date:</th>            <td>Sat, 02 Dec 2023</td> <th>  Deviance:          </th> <td>  414.40</td>\n",
       "</tr>\n",
       "<tr>\n",
       "  <th>Time:</th>                <td>21:39:40</td>     <th>  Pearson chi2:      </th>  <td>  405.</td> \n",
       "</tr>\n",
       "<tr>\n",
       "  <th>No. Iterations:</th>         <td>10</td>        <th>  Pseudo R-squ. (CS):</th>  <td> 1.000</td> \n",
       "</tr>\n",
       "<tr>\n",
       "  <th>Covariance Type:</th>     <td>nonrobust</td>    <th>                     </th>     <td> </td>   \n",
       "</tr>\n",
       "</table>\n",
       "<table class=\"simpletable\">\n",
       "<tr>\n",
       "    <td></td>       <th>coef</th>     <th>std err</th>      <th>z</th>      <th>P>|z|</th>  <th>[0.025</th>    <th>0.975]</th>  \n",
       "</tr>\n",
       "<tr>\n",
       "  <th>const</th> <td>    2.7326</td> <td>    0.070</td> <td>   39.030</td> <td> 0.000</td> <td>    2.595</td> <td>    2.870</td>\n",
       "</tr>\n",
       "<tr>\n",
       "  <th>x1</th>    <td>    3.7192</td> <td>    0.063</td> <td>   58.658</td> <td> 0.000</td> <td>    3.595</td> <td>    3.843</td>\n",
       "</tr>\n",
       "<tr>\n",
       "  <th>x2</th>    <td>   -0.9258</td> <td>    0.019</td> <td>  -48.062</td> <td> 0.000</td> <td>   -0.964</td> <td>   -0.888</td>\n",
       "</tr>\n",
       "<tr>\n",
       "  <th>x3</th>    <td>    0.0819</td> <td>    0.002</td> <td>   35.569</td> <td> 0.000</td> <td>    0.077</td> <td>    0.086</td>\n",
       "</tr>\n",
       "<tr>\n",
       "  <th>x4</th>    <td>   -0.0025</td> <td> 9.25e-05</td> <td>  -27.452</td> <td> 0.000</td> <td>   -0.003</td> <td>   -0.002</td>\n",
       "</tr>\n",
       "</table>"
      ],
      "text/latex": [
       "\\begin{center}\n",
       "\\begin{tabular}{lclc}\n",
       "\\toprule\n",
       "\\textbf{Dep. Variable:}   &        y         & \\textbf{  No. Observations:  } &       49    \\\\\n",
       "\\textbf{Model:}           &       GLM        & \\textbf{  Df Residuals:      } &       44    \\\\\n",
       "\\textbf{Model Family:}    &     Poisson      & \\textbf{  Df Model:          } &        4    \\\\\n",
       "\\textbf{Link Function:}   &       Log        & \\textbf{  Scale:             } &    1.0000   \\\\\n",
       "\\textbf{Method:}          &       IRLS       & \\textbf{  Log-Likelihood:    } &   -351.20   \\\\\n",
       "\\textbf{Date:}            & Sat, 02 Dec 2023 & \\textbf{  Deviance:          } &    414.40   \\\\\n",
       "\\textbf{Time:}            &     21:39:40     & \\textbf{  Pearson chi2:      } &     405.    \\\\\n",
       "\\textbf{No. Iterations:}  &        10        & \\textbf{  Pseudo R-squ. (CS):} &    1.000    \\\\\n",
       "\\textbf{Covariance Type:} &    nonrobust     & \\textbf{                     } &             \\\\\n",
       "\\bottomrule\n",
       "\\end{tabular}\n",
       "\\begin{tabular}{lcccccc}\n",
       "               & \\textbf{coef} & \\textbf{std err} & \\textbf{z} & \\textbf{P$> |$z$|$} & \\textbf{[0.025} & \\textbf{0.975]}  \\\\\n",
       "\\midrule\n",
       "\\textbf{const} &       2.7326  &        0.070     &    39.030  &         0.000        &        2.595    &        2.870     \\\\\n",
       "\\textbf{x1}    &       3.7192  &        0.063     &    58.658  &         0.000        &        3.595    &        3.843     \\\\\n",
       "\\textbf{x2}    &      -0.9258  &        0.019     &   -48.062  &         0.000        &       -0.964    &       -0.888     \\\\\n",
       "\\textbf{x3}    &       0.0819  &        0.002     &    35.569  &         0.000        &        0.077    &        0.086     \\\\\n",
       "\\textbf{x4}    &      -0.0025  &     9.25e-05     &   -27.452  &         0.000        &       -0.003    &       -0.002     \\\\\n",
       "\\bottomrule\n",
       "\\end{tabular}\n",
       "%\\caption{Generalized Linear Model Regression Results}\n",
       "\\end{center}"
      ],
      "text/plain": [
       "<class 'statsmodels.iolib.summary.Summary'>\n",
       "\"\"\"\n",
       "                 Generalized Linear Model Regression Results                  \n",
       "==============================================================================\n",
       "Dep. Variable:                      y   No. Observations:                   49\n",
       "Model:                            GLM   Df Residuals:                       44\n",
       "Model Family:                 Poisson   Df Model:                            4\n",
       "Link Function:                    Log   Scale:                          1.0000\n",
       "Method:                          IRLS   Log-Likelihood:                -351.20\n",
       "Date:                Sat, 02 Dec 2023   Deviance:                       414.40\n",
       "Time:                        21:39:40   Pearson chi2:                     405.\n",
       "No. Iterations:                    10   Pseudo R-squ. (CS):              1.000\n",
       "Covariance Type:            nonrobust                                         \n",
       "==============================================================================\n",
       "                 coef    std err          z      P>|z|      [0.025      0.975]\n",
       "------------------------------------------------------------------------------\n",
       "const          2.7326      0.070     39.030      0.000       2.595       2.870\n",
       "x1             3.7192      0.063     58.658      0.000       3.595       3.843\n",
       "x2            -0.9258      0.019    -48.062      0.000      -0.964      -0.888\n",
       "x3             0.0819      0.002     35.569      0.000       0.077       0.086\n",
       "x4            -0.0025   9.25e-05    -27.452      0.000      -0.003      -0.002\n",
       "==============================================================================\n",
       "\"\"\""
      ]
     },
     "execution_count": 9,
     "metadata": {},
     "output_type": "execute_result"
    }
   ],
   "source": [
    "exog=raw_poly(midpoints, 4)\n",
    "exog=sm.add_constant(exog)\n",
    "income_4param_lindsey =sm.GLM(hist_counts, exog, family=sm.families.Poisson())\n",
    "income_4param_lindsey_res = income_4param_lindsey.fit()\n",
    "income_4param_lindsey_res.summary()"
   ]
  },
  {
   "cell_type": "markdown",
   "id": "aa86c81a-67bd-454e-aaff-5faf089c8115",
   "metadata": {},
   "source": [
    "One thing I do need to mention here is that if you intend to use the fit in regions outside the input data, then the parameters have to be checked because the highest order parameter needs to be negative to ensure that the density is proper.  "
   ]
  },
  {
   "cell_type": "code",
   "execution_count": 10,
   "id": "1967e842-dde9-4f02-ac1d-764edad0dd89",
   "metadata": {},
   "outputs": [],
   "source": [
    "def poisson_glm_pdf(params, poly_x, N, d):\n",
    "    poly_part=np.sum(np.multiply(poly_x, params[1:]))\n",
    "    return np.exp(poly_part + params[0] - (np.log(N) + np.log(d)))"
   ]
  },
  {
   "cell_type": "code",
   "execution_count": 11,
   "id": "7632dc59-d617-4770-ad4e-17857af8ea3c",
   "metadata": {},
   "outputs": [],
   "source": [
    "params=income_4param_lindsey_res.params\n",
    "\n",
    "poly_y=pd.DataFrame(exog)\n",
    "poly_y.drop(columns=poly_y.columns[0], axis=1, inplace=True)\n",
    "\n",
    "poly_y['income_4param_lindsey_res']=poly_y.apply(lambda x: poisson_glm_pdf(params, x, N, d),\n",
    "                                                axis=1)"
   ]
  },
  {
   "cell_type": "code",
   "execution_count": 12,
   "id": "e3372f59-51b7-45bf-9ea2-64b88f08a5cd",
   "metadata": {},
   "outputs": [
    {
     "data": {
      "text/plain": [
       "<Axes: xlabel='median_income', ylabel='Density'>"
      ]
     },
     "execution_count": 12,
     "metadata": {},
     "output_type": "execute_result"
    },
    {
     "data": {
      "image/png": "[encoded data removed]",
      "text/plain": [
       "<Figure size 640x480 with 1 Axes>"
      ]
     },
     "metadata": {},
     "output_type": "display_data"
    }
   ],
   "source": [
    "ax=seaborn.histplot(y, color='darkgrey', bins=50, stat='density')\n",
    "seaborn.lineplot(x=midpoints, y=poly_y['income_4param_lindsey_res'], ax=ax, color='darkred')"
   ]
  },
  {
   "cell_type": "markdown",
   "id": "337e1232-56b9-4746-9ddf-4094866c86e3",
   "metadata": {},
   "source": [
    "What if we fit a 2 parameter exponential model, aka a normal distribution?  Let's compare Lindsey's method to the standard normal fit. "
   ]
  },
  {
   "cell_type": "code",
   "execution_count": 13,
   "id": "04c8f6e0-5885-4f72-8a20-25fdf34a65e7",
   "metadata": {},
   "outputs": [
    {
     "data": {
      "text/html": [
       "<table class=\"simpletable\">\n",
       "<caption>Generalized Linear Model Regression Results</caption>\n",
       "<tr>\n",
       "  <th>Dep. Variable:</th>           <td>y</td>        <th>  No. Observations:  </th>  <td>    49</td> \n",
       "</tr>\n",
       "<tr>\n",
       "  <th>Model:</th>                  <td>GLM</td>       <th>  Df Residuals:      </th>  <td>    46</td> \n",
       "</tr>\n",
       "<tr>\n",
       "  <th>Model Family:</th>         <td>Poisson</td>     <th>  Df Model:          </th>  <td>     2</td> \n",
       "</tr>\n",
       "<tr>\n",
       "  <th>Link Function:</th>          <td>Log</td>       <th>  Scale:             </th> <td>  1.0000</td>\n",
       "</tr>\n",
       "<tr>\n",
       "  <th>Method:</th>                <td>IRLS</td>       <th>  Log-Likelihood:    </th> <td> -2610.8</td>\n",
       "</tr>\n",
       "<tr>\n",
       "  <th>Date:</th>            <td>Sat, 02 Dec 2023</td> <th>  Deviance:          </th> <td>  4933.7</td>\n",
       "</tr>\n",
       "<tr>\n",
       "  <th>Time:</th>                <td>21:39:40</td>     <th>  Pearson chi2:      </th> <td>3.34e+05</td>\n",
       "</tr>\n",
       "<tr>\n",
       "  <th>No. Iterations:</th>          <td>9</td>        <th>  Pseudo R-squ. (CS):</th>  <td> 1.000</td> \n",
       "</tr>\n",
       "<tr>\n",
       "  <th>Covariance Type:</th>     <td>nonrobust</td>    <th>                     </th>     <td> </td>   \n",
       "</tr>\n",
       "</table>\n",
       "<table class=\"simpletable\">\n",
       "<tr>\n",
       "    <td></td>       <th>coef</th>     <th>std err</th>      <th>z</th>      <th>P>|z|</th>  <th>[0.025</th>    <th>0.975]</th>  \n",
       "</tr>\n",
       "<tr>\n",
       "  <th>const</th> <td>    5.2993</td> <td>    0.026</td> <td>  207.463</td> <td> 0.000</td> <td>    5.249</td> <td>    5.349</td>\n",
       "</tr>\n",
       "<tr>\n",
       "  <th>x1</th>    <td>    1.0562</td> <td>    0.013</td> <td>   80.540</td> <td> 0.000</td> <td>    1.030</td> <td>    1.082</td>\n",
       "</tr>\n",
       "<tr>\n",
       "  <th>x2</th>    <td>   -0.1395</td> <td>    0.002</td> <td>  -88.555</td> <td> 0.000</td> <td>   -0.143</td> <td>   -0.136</td>\n",
       "</tr>\n",
       "</table>"
      ],
      "text/latex": [
       "\\begin{center}\n",
       "\\begin{tabular}{lclc}\n",
       "\\toprule\n",
       "\\textbf{Dep. Variable:}   &        y         & \\textbf{  No. Observations:  } &       49    \\\\\n",
       "\\textbf{Model:}           &       GLM        & \\textbf{  Df Residuals:      } &       46    \\\\\n",
       "\\textbf{Model Family:}    &     Poisson      & \\textbf{  Df Model:          } &        2    \\\\\n",
       "\\textbf{Link Function:}   &       Log        & \\textbf{  Scale:             } &    1.0000   \\\\\n",
       "\\textbf{Method:}          &       IRLS       & \\textbf{  Log-Likelihood:    } &   -2610.8   \\\\\n",
       "\\textbf{Date:}            & Sat, 02 Dec 2023 & \\textbf{  Deviance:          } &    4933.7   \\\\\n",
       "\\textbf{Time:}            &     21:39:40     & \\textbf{  Pearson chi2:      } &  3.34e+05   \\\\\n",
       "\\textbf{No. Iterations:}  &        9         & \\textbf{  Pseudo R-squ. (CS):} &    1.000    \\\\\n",
       "\\textbf{Covariance Type:} &    nonrobust     & \\textbf{                     } &             \\\\\n",
       "\\bottomrule\n",
       "\\end{tabular}\n",
       "\\begin{tabular}{lcccccc}\n",
       "               & \\textbf{coef} & \\textbf{std err} & \\textbf{z} & \\textbf{P$> |$z$|$} & \\textbf{[0.025} & \\textbf{0.975]}  \\\\\n",
       "\\midrule\n",
       "\\textbf{const} &       5.2993  &        0.026     &   207.463  &         0.000        &        5.249    &        5.349     \\\\\n",
       "\\textbf{x1}    &       1.0562  &        0.013     &    80.540  &         0.000        &        1.030    &        1.082     \\\\\n",
       "\\textbf{x2}    &      -0.1395  &        0.002     &   -88.555  &         0.000        &       -0.143    &       -0.136     \\\\\n",
       "\\bottomrule\n",
       "\\end{tabular}\n",
       "%\\caption{Generalized Linear Model Regression Results}\n",
       "\\end{center}"
      ],
      "text/plain": [
       "<class 'statsmodels.iolib.summary.Summary'>\n",
       "\"\"\"\n",
       "                 Generalized Linear Model Regression Results                  \n",
       "==============================================================================\n",
       "Dep. Variable:                      y   No. Observations:                   49\n",
       "Model:                            GLM   Df Residuals:                       46\n",
       "Model Family:                 Poisson   Df Model:                            2\n",
       "Link Function:                    Log   Scale:                          1.0000\n",
       "Method:                          IRLS   Log-Likelihood:                -2610.8\n",
       "Date:                Sat, 02 Dec 2023   Deviance:                       4933.7\n",
       "Time:                        21:39:40   Pearson chi2:                 3.34e+05\n",
       "No. Iterations:                     9   Pseudo R-squ. (CS):              1.000\n",
       "Covariance Type:            nonrobust                                         \n",
       "==============================================================================\n",
       "                 coef    std err          z      P>|z|      [0.025      0.975]\n",
       "------------------------------------------------------------------------------\n",
       "const          5.2993      0.026    207.463      0.000       5.249       5.349\n",
       "x1             1.0562      0.013     80.540      0.000       1.030       1.082\n",
       "x2            -0.1395      0.002    -88.555      0.000      -0.143      -0.136\n",
       "==============================================================================\n",
       "\"\"\""
      ]
     },
     "execution_count": 13,
     "metadata": {},
     "output_type": "execute_result"
    }
   ],
   "source": [
    "exog=raw_poly(midpoints, 2)\n",
    "exog=sm.add_constant(exog)\n",
    "income_2param_lindsey =sm.GLM(hist_counts, exog, family=sm.families.Poisson())\n",
    "income_2param_lindsey_res = income_2param_lindsey.fit()\n",
    "income_2param_lindsey_res.summary()"
   ]
  },
  {
   "cell_type": "code",
   "execution_count": 14,
   "id": "bbe15776-e639-4720-8a6d-e2ef2bd63efc",
   "metadata": {},
   "outputs": [
    {
     "name": "stdout",
     "output_type": "stream",
     "text": [
      "mu:  3.844186518381817  std:  1.8227116310328035\n"
     ]
    }
   ],
   "source": [
    "from scipy.stats import norm\n",
    "mu, std = norm.fit(y)\n",
    "print(\"mu: \", mu, \" std: \", std)"
   ]
  },
  {
   "cell_type": "code",
   "execution_count": 15,
   "id": "2b9524e8-0d6c-4697-b627-499ca2efa1af",
   "metadata": {},
   "outputs": [],
   "source": [
    "params=income_2param_lindsey_res.params\n",
    "\n",
    "poly_y=pd.DataFrame(exog)\n",
    "poly_y.drop(columns=poly_y.columns[0], axis=1, inplace=True)\n",
    "poly_y['income_2param_lindsey_res']=poly_y.apply(lambda x: poisson_glm_pdf(params, x, N, d),\n",
    "                                                axis=1)"
   ]
  },
  {
   "cell_type": "code",
   "execution_count": 16,
   "id": "46349e60-8aa7-4993-8907-d298a748e7cc",
   "metadata": {},
   "outputs": [
    {
     "data": {
      "text/plain": [
       "<Axes: xlabel='median_income', ylabel='Density'>"
      ]
     },
     "execution_count": 16,
     "metadata": {},
     "output_type": "execute_result"
    },
    {
     "data": {
      "image/png": "[encoded data removed]",
      "text/plain": [
       "<Figure size 640x480 with 1 Axes>"
      ]
     },
     "metadata": {},
     "output_type": "display_data"
    }
   ],
   "source": [
    "norm_fit = norm.pdf(midpoints, mu, std)\n",
    "ax=seaborn.histplot(y, color='darkgrey', bins=50, stat='density')\n",
    "seaborn.lineplot(x=midpoints, y=poly_y['income_2param_lindsey_res'], ax=ax, color='darkred')\n",
    "seaborn.lineplot(x=midpoints, y=norm_fit, ax=ax, color='deepskyblue', linestyle='--')"
   ]
  },
  {
   "cell_type": "code",
   "execution_count": null,
   "id": "f5448704-d189-4b5e-8318-a60f07667cb4",
   "metadata": {},
   "outputs": [],
   "source": []
  }
 ],
 "metadata": {
  "kernelspec": {
   "display_name": "Python 3 (ipykernel)",
   "language": "python",
   "name": "python3"
  },
  "language_info": {
   "codemirror_mode": {
    "name": "ipython",
    "version": 3
   },
   "file_extension": ".py",
   "mimetype": "text/x-python",
   "name": "python",
   "nbconvert_exporter": "python",
   "pygments_lexer": "ipython3",
   "version": "3.11.6"
  }
 },
 "nbformat": 4,
 "nbformat_minor": 5
}
